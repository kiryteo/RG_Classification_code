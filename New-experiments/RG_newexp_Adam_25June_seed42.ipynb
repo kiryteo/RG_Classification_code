{
 "cells": [
  {
   "cell_type": "code",
   "execution_count": null,
   "metadata": {
    "colab": {
     "base_uri": "https://localhost:8080/"
    },
    "id": "yHgVRK94JqWP",
    "outputId": "f4ef115c-348a-4c4f-8d25-4e5e57568188"
   },
   "outputs": [
    {
     "name": "stdout",
     "output_type": "stream",
     "text": [
      "Mounted at /content/drive\n"
     ]
    }
   ],
   "source": [
    "from google.colab import drive\n",
    "drive.mount(\"/content/drive\")"
   ]
  },
  {
   "cell_type": "code",
   "execution_count": null,
   "metadata": {
    "colab": {
     "base_uri": "https://localhost:8080/"
    },
    "id": "ce8rKapgKBUo",
    "outputId": "921fbad6-0de2-4138-9954-f535c3ba3331"
   },
   "outputs": [
    {
     "name": "stdout",
     "output_type": "stream",
     "text": [
      "/content/drive/My Drive\n"
     ]
    }
   ],
   "source": [
    "%cd drive/My\\ Drive"
   ]
  },
  {
   "cell_type": "code",
   "execution_count": null,
   "metadata": {
    "id": "u7bl0AIpKLrm"
   },
   "outputs": [],
   "source": [
    "%reload_ext autoreload\n",
    "%autoreload 2\n",
    "%matplotlib inline"
   ]
  },
  {
   "cell_type": "code",
   "execution_count": null,
   "metadata": {
    "id": "HXmdg2y2Krrm"
   },
   "outputs": [],
   "source": [
    "#!pip3 install torch===1.2.0 torchvision===0.4.0 -f https://download.pytorch.org/whl/torch_stable.html\n",
    "!#pip install typeguard"
   ]
  },
  {
   "cell_type": "code",
   "execution_count": null,
   "metadata": {
    "id": "dYACQfy7K75a"
   },
   "outputs": [],
   "source": []
  },
  {
   "cell_type": "code",
   "execution_count": null,
   "metadata": {
    "id": "cfHJ3SYwKtXJ"
   },
   "outputs": [],
   "source": [
    "from fastai import *\n",
    "from fastai.vision import *\n",
    "import torch\n",
    "import torchvision\n",
    "import torch.nn as nn\n",
    "import random\n",
    "bs = 32\n",
    "random.seed(42)"
   ]
  },
  {
   "cell_type": "code",
   "execution_count": null,
   "metadata": {
    "colab": {
     "base_uri": "https://localhost:8080/"
    },
    "id": "tpGZj5VAMxKL",
    "outputId": "966dd711-d7b9-48f6-feb8-666489fe3d23"
   },
   "outputs": [
    {
     "name": "stdout",
     "output_type": "stream",
     "text": [
      "/content/drive/My Drive/orig\n"
     ]
    }
   ],
   "source": [
    "%cd orig"
   ]
  },
  {
   "cell_type": "code",
   "execution_count": null,
   "metadata": {
    "id": "Dzz9BDyKMcNh"
   },
   "outputs": [],
   "source": [
    "#!unzip 'data-orig.zip'"
   ]
  },
  {
   "cell_type": "code",
   "execution_count": null,
   "metadata": {
    "colab": {
     "base_uri": "https://localhost:8080/"
    },
    "id": "kBZNCp8wKyeU",
    "outputId": "ccd637db-1a57-408c-cf5a-e347e9534b4e"
   },
   "outputs": [
    {
     "name": "stderr",
     "output_type": "stream",
     "text": [
      "/usr/local/lib/python3.7/dist-packages/fastai/vision/transform.py:247: UserWarning: torch.solve is deprecated in favor of torch.linalg.solveand will be removed in a future PyTorch release.\n",
      "torch.linalg.solve has its arguments reversed and does not return the LU factorization.\n",
      "To get the LU factorization see torch.lu, which can be used with torch.lu_solve or torch.lu_unpack.\n",
      "X = torch.solve(B, A).solution\n",
      "should be replaced with\n",
      "X = torch.linalg.solve(A, B) (Triggered internally at  /pytorch/aten/src/ATen/native/BatchLinearAlgebra.cpp:760.)\n",
      "  return _solve_func(B,A)[0][:,0]\n"
     ]
    },
    {
     "data": {
      "text/plain": [
       "ImageDataBunch;\n",
       "\n",
       "Train: LabelList (1180 items)\n",
       "x: ImageList\n",
       "Image (3, 224, 224),Image (3, 224, 224),Image (3, 224, 224),Image (3, 224, 224),Image (3, 224, 224)\n",
       "y: CategoryList\n",
       "Bent,Bent,Bent,Bent,Bent\n",
       "Path: data;\n",
       "\n",
       "Valid: LabelList (398 items)\n",
       "x: ImageList\n",
       "Image (3, 224, 224),Image (3, 224, 224),Image (3, 224, 224),Image (3, 224, 224),Image (3, 224, 224)\n",
       "y: CategoryList\n",
       "Bent,Bent,Bent,Bent,Bent\n",
       "Path: data;\n",
       "\n",
       "Test: None"
      ]
     },
     "execution_count": 7,
     "metadata": {
      "tags": []
     },
     "output_type": "execute_result"
    }
   ],
   "source": [
    "path_img = Path('data')## Loading data \n",
    "#data = ImageDataBunch.from_folder(path=path_img, train='train', valid='valid', ds_tfms=get_transforms(),size=224, bs=bs), check_ext=False)## Normalizing data based on Image net parameters\n",
    "data = ImageDataBunch.from_folder(path=path_img, train='train', valid='valid', ds_tfms=get_transforms(),size=224, bs=bs)\n",
    "data.normalize(imagenet_stats)"
   ]
  },
  {
   "cell_type": "code",
   "execution_count": null,
   "metadata": {
    "colab": {
     "base_uri": "https://localhost:8080/",
     "height": 441
    },
    "id": "M_2LrTZ1LLQm",
    "outputId": "3ec9ac07-3a57-4357-d031-4f0e6df62466"
   },
   "outputs": [
    {
     "data": {
      "image/png": "[encoded data removed]",
      "text/plain": [
       "<Figure size 576x432 with 9 Axes>"
      ]
     },
     "metadata": {
      "needs_background": "light",
      "tags": []
     },
     "output_type": "display_data"
    }
   ],
   "source": [
    "data.show_batch(rows=3, figsize=(8,6))"
   ]
  },
  {
   "cell_type": "code",
   "execution_count": null,
   "metadata": {
    "colab": {
     "base_uri": "https://localhost:8080/",
     "height": 138,
     "referenced_widgets": [
      "eb9769e59ab3434d888e1f18fa69933e",
      "7c3bd2032b8c40c59a79abc2cb981f97",
      "10eded07a16d4996b0194fa70cffbe88",
      "4a77c9b5196c4a04a4e7e79c63b5952c",
      "53f01f3c12cc47f896f34b5334f49600",
      "ed18314d2d6c4c0994069ba09df5f371",
      "36c468eba6d0461084950695117fffd2",
      "7f7f15f3b42d4342b799de11fdab8c28"
     ]
    },
    "id": "Bo98IzraNNV8",
    "outputId": "fb9257c8-a7c6-4243-a026-54a2fdf1c99b"
   },
   "outputs": [
    {
     "name": "stderr",
     "output_type": "stream",
     "text": [
      "Downloading: \"https://download.pytorch.org/models/densenet161-8d451a50.pth\" to /root/.cache/torch/hub/checkpoints/densenet161-8d451a50.pth\n"
     ]
    },
    {
     "data": {
      "application/vnd.jupyter.widget-view+json": {
       "model_id": "eb9769e59ab3434d888e1f18fa69933e",
       "version_major": 2,
       "version_minor": 0
      },
      "text/plain": [
       "HBox(children=(FloatProgress(value=0.0, max=115730790.0), HTML(value='')))"
      ]
     },
     "metadata": {
      "tags": []
     },
     "output_type": "display_data"
    },
    {
     "name": "stdout",
     "output_type": "stream",
     "text": [
      "\n"
     ]
    },
    {
     "name": "stderr",
     "output_type": "stream",
     "text": [
      "/usr/local/lib/python3.7/dist-packages/torch/nn/functional.py:718: UserWarning: Named tensors and all their associated APIs are an experimental feature and subject to change. Please do not use them for anything important until they are released as stable. (Triggered internally at  /pytorch/c10/core/TensorImpl.h:1156.)\n",
      "  return torch.max_pool2d(input, kernel_size, stride, padding, dilation, ceil_mode)\n"
     ]
    }
   ],
   "source": [
    "learn = cnn_learner(data, models.densenet161, opt_func=torch.optim.Adam, metrics=accuracy)\n",
    "learn.freeze()"
   ]
  },
  {
   "cell_type": "code",
   "execution_count": null,
   "metadata": {
    "colab": {
     "base_uri": "https://localhost:8080/",
     "height": 437
    },
    "id": "4IWYoKauNRI1",
    "outputId": "12615c66-5a0f-493c-8655-12b8cde257a0"
   },
   "outputs": [
    {
     "data": {
      "text/html": [
       "\n",
       "    <div>\n",
       "        <style>\n",
       "            /* Turns off some styling */\n",
       "            progress {\n",
       "                /* gets rid of default border in Firefox and Opera. */\n",
       "                border: none;\n",
       "                /* Needs to be in here for Safari polyfill so background images work as expected. */\n",
       "                background-size: auto;\n",
       "            }\n",
       "            .progress-bar-interrupted, .progress-bar-interrupted::-webkit-progress-bar {\n",
       "                background: #F44336;\n",
       "            }\n",
       "        </style>\n",
       "      <progress value='2' class='' max='3' style='width:300px; height:20px; vertical-align: middle;'></progress>\n",
       "      66.67% [2/3 02:48<01:24]\n",
       "    </div>\n",
       "    \n",
       "<table border=\"1\" class=\"dataframe\">\n",
       "  <thead>\n",
       "    <tr style=\"text-align: left;\">\n",
       "      <th>epoch</th>\n",
       "      <th>train_loss</th>\n",
       "      <th>valid_loss</th>\n",
       "      <th>accuracy</th>\n",
       "      <th>time</th>\n",
       "    </tr>\n",
       "  </thead>\n",
       "  <tbody>\n",
       "    <tr>\n",
       "      <td>0</td>\n",
       "      <td>2.283079</td>\n",
       "      <td>#na#</td>\n",
       "      <td>02:28</td>\n",
       "    </tr>\n",
       "    <tr>\n",
       "      <td>1</td>\n",
       "      <td>1.936049</td>\n",
       "      <td>#na#</td>\n",
       "      <td>00:19</td>\n",
       "    </tr>\n",
       "  </tbody>\n",
       "</table><p>\n",
       "\n",
       "    <div>\n",
       "        <style>\n",
       "            /* Turns off some styling */\n",
       "            progress {\n",
       "                /* gets rid of default border in Firefox and Opera. */\n",
       "                border: none;\n",
       "                /* Needs to be in here for Safari polyfill so background images work as expected. */\n",
       "                background-size: auto;\n",
       "            }\n",
       "            .progress-bar-interrupted, .progress-bar-interrupted::-webkit-progress-bar {\n",
       "                background: #F44336;\n",
       "            }\n",
       "        </style>\n",
       "      <progress value='14' class='' max='36' style='width:300px; height:20px; vertical-align: middle;'></progress>\n",
       "      38.89% [14/36 00:07<00:12 6.6699]\n",
       "    </div>\n",
       "    "
      ],
      "text/plain": [
       "<IPython.core.display.HTML object>"
      ]
     },
     "metadata": {
      "tags": []
     },
     "output_type": "display_data"
    },
    {
     "name": "stdout",
     "output_type": "stream",
     "text": [
      "LR Finder is complete, type {learner_name}.recorder.plot() to see the graph.\n"
     ]
    },
    {
     "data": {
      "image/png": "[encoded data removed]",
      "text/plain": [
       "<Figure size 432x288 with 1 Axes>"
      ]
     },
     "metadata": {
      "needs_background": "light",
      "tags": []
     },
     "output_type": "display_data"
    }
   ],
   "source": [
    "learn.lr_find(start_lr=1e-6, end_lr=1e1, wd=5e-3)\n",
    "learn.recorder.plot()"
   ]
  },
  {
   "cell_type": "code",
   "execution_count": null,
   "metadata": {
    "colab": {
     "base_uri": "https://localhost:8080/",
     "height": 219
    },
    "id": "kVN6u1LzNUAv",
    "outputId": "e7b447b3-6d22-4e23-fe3c-31b7dab03e0a"
   },
   "outputs": [
    {
     "ename": "NameError",
     "evalue": "ignored",
     "output_type": "error",
     "traceback": [
      "\u001b[0;31m---------------------------------------------------------------------------\u001b[0m",
      "\u001b[0;31mNameError\u001b[0m                                 Traceback (most recent call last)",
      "\u001b[0;32m<ipython-input-19-358a8860f271>\u001b[0m in \u001b[0;36m<module>\u001b[0;34m()\u001b[0m\n\u001b[1;32m     10\u001b[0m \u001b[0;31m#learn.fit(1, )\u001b[0m\u001b[0;34m\u001b[0m\u001b[0;34m\u001b[0m\u001b[0;34m\u001b[0m\u001b[0m\n\u001b[1;32m     11\u001b[0m \u001b[0;31m#learn.fit(1, cbs=torch.optim.lr_scheduler.MultiStepLR)\u001b[0m\u001b[0;34m\u001b[0m\u001b[0;34m\u001b[0m\u001b[0;34m\u001b[0m\u001b[0m\n\u001b[0;32m---> 12\u001b[0;31m \u001b[0mlearn\u001b[0m\u001b[0;34m.\u001b[0m\u001b[0mfit\u001b[0m\u001b[0;34m(\u001b[0m\u001b[0;36m1\u001b[0m\u001b[0;34m,\u001b[0m \u001b[0mlr\u001b[0m\u001b[0;34m=\u001b[0m\u001b[0mslice\u001b[0m\u001b[0;34m(\u001b[0m\u001b[0;36m1e-4\u001b[0m\u001b[0;34m,\u001b[0m\u001b[0;36m1e-2\u001b[0m\u001b[0;34m)\u001b[0m\u001b[0;34m,\u001b[0m \u001b[0mcallbacks\u001b[0m\u001b[0;34m=\u001b[0m\u001b[0mParamScheduler\u001b[0m\u001b[0;34m(\u001b[0m\u001b[0mf_sched\u001b[0m\u001b[0;34m)\u001b[0m\u001b[0;34m)\u001b[0m\u001b[0;34m\u001b[0m\u001b[0;34m\u001b[0m\u001b[0m\n\u001b[0m\u001b[1;32m     13\u001b[0m \u001b[0mlearn\u001b[0m\u001b[0;34m.\u001b[0m\u001b[0mrecorder\u001b[0m\u001b[0;34m.\u001b[0m\u001b[0mplot_losses\u001b[0m\u001b[0;34m(\u001b[0m\u001b[0;34m)\u001b[0m\u001b[0;34m\u001b[0m\u001b[0;34m\u001b[0m\u001b[0m\n",
      "\u001b[0;31mNameError\u001b[0m: name 'ParamScheduler' is not defined"
     ]
    }
   ],
   "source": [
    "# def f_sched(*args):\n",
    "#     lr = 2e-3\n",
    "#     lrs = [lr/2., lr/2.,lr/2.,lr]\n",
    "#     return [combine_scheds([0.2,0.8], [SchedCos(lr/10.,lr), SchedCos(lr,lr/1e5)])(*args) for lr in lrs]\n",
    "\n",
    "# sched = {'lr': f_sched}\n",
    "\n",
    "# #learner.fit(1, cbs=ParamScheduler(sched))\n",
    "# #sched = {'lr': SchedLin(1e-4, 1e-3)}\n",
    "# #learn.fit(1, )\n",
    "# #learn.fit(1, cbs=torch.optim.lr_scheduler.MultiStepLR)\n",
    "# learn.fit(1, lr=slice(1e-4,1e-2), callbacks=ParamScheduler(f_sched))\n",
    "# learn.recorder.plot_losses()"
   ]
  },
  {
   "cell_type": "code",
   "execution_count": null,
   "metadata": {
    "colab": {
     "base_uri": "https://localhost:8080/",
     "height": 343
    },
    "id": "It1G3mNXQrQ7",
    "outputId": "32ba11b7-0340-4bce-f962-69089d5089b1"
   },
   "outputs": [
    {
     "data": {
      "text/html": [
       "<table border=\"1\" class=\"dataframe\">\n",
       "  <thead>\n",
       "    <tr style=\"text-align: left;\">\n",
       "      <th>epoch</th>\n",
       "      <th>train_loss</th>\n",
       "      <th>valid_loss</th>\n",
       "      <th>accuracy</th>\n",
       "      <th>time</th>\n",
       "    </tr>\n",
       "  </thead>\n",
       "  <tbody>\n",
       "    <tr>\n",
       "      <td>0</td>\n",
       "      <td>1.341838</td>\n",
       "      <td>0.728809</td>\n",
       "      <td>0.731156</td>\n",
       "      <td>01:08</td>\n",
       "    </tr>\n",
       "  </tbody>\n",
       "</table>"
      ],
      "text/plain": [
       "<IPython.core.display.HTML object>"
      ]
     },
     "metadata": {
      "tags": []
     },
     "output_type": "display_data"
    },
    {
     "data": {
      "image/png": "[encoded data removed]",
      "text/plain": [
       "<Figure size 432x288 with 1 Axes>"
      ]
     },
     "metadata": {
      "needs_background": "light",
      "tags": []
     },
     "output_type": "display_data"
    }
   ],
   "source": [
    "learn.fit_one_cycle(1, max_lr=slice(1e-3,1e-2))\n",
    "learn.recorder.plot_losses()"
   ]
  },
  {
   "cell_type": "code",
   "execution_count": null,
   "metadata": {
    "colab": {
     "base_uri": "https://localhost:8080/",
     "height": 437
    },
    "id": "GvLAozwwOxvJ",
    "outputId": "64e8145b-c167-4666-91ef-95f19bd77580"
   },
   "outputs": [
    {
     "data": {
      "text/html": [
       "\n",
       "    <div>\n",
       "        <style>\n",
       "            /* Turns off some styling */\n",
       "            progress {\n",
       "                /* gets rid of default border in Firefox and Opera. */\n",
       "                border: none;\n",
       "                /* Needs to be in here for Safari polyfill so background images work as expected. */\n",
       "                background-size: auto;\n",
       "            }\n",
       "            .progress-bar-interrupted, .progress-bar-interrupted::-webkit-progress-bar {\n",
       "                background: #F44336;\n",
       "            }\n",
       "        </style>\n",
       "      <progress value='2' class='' max='3' style='width:300px; height:20px; vertical-align: middle;'></progress>\n",
       "      66.67% [2/3 00:55<00:27]\n",
       "    </div>\n",
       "    \n",
       "<table border=\"1\" class=\"dataframe\">\n",
       "  <thead>\n",
       "    <tr style=\"text-align: left;\">\n",
       "      <th>epoch</th>\n",
       "      <th>train_loss</th>\n",
       "      <th>valid_loss</th>\n",
       "      <th>accuracy</th>\n",
       "      <th>time</th>\n",
       "    </tr>\n",
       "  </thead>\n",
       "  <tbody>\n",
       "    <tr>\n",
       "      <td>0</td>\n",
       "      <td>0.910380</td>\n",
       "      <td>#na#</td>\n",
       "      <td>00:28</td>\n",
       "    </tr>\n",
       "    <tr>\n",
       "      <td>1</td>\n",
       "      <td>0.916708</td>\n",
       "      <td>#na#</td>\n",
       "      <td>00:26</td>\n",
       "    </tr>\n",
       "  </tbody>\n",
       "</table><p>\n",
       "\n",
       "    <div>\n",
       "        <style>\n",
       "            /* Turns off some styling */\n",
       "            progress {\n",
       "                /* gets rid of default border in Firefox and Opera. */\n",
       "                border: none;\n",
       "                /* Needs to be in here for Safari polyfill so background images work as expected. */\n",
       "                background-size: auto;\n",
       "            }\n",
       "            .progress-bar-interrupted, .progress-bar-interrupted::-webkit-progress-bar {\n",
       "                background: #F44336;\n",
       "            }\n",
       "        </style>\n",
       "      <progress value='27' class='' max='36' style='width:300px; height:20px; vertical-align: middle;'></progress>\n",
       "      75.00% [27/36 00:19<00:06 1.3996]\n",
       "    </div>\n",
       "    "
      ],
      "text/plain": [
       "<IPython.core.display.HTML object>"
      ]
     },
     "metadata": {
      "tags": []
     },
     "output_type": "display_data"
    },
    {
     "name": "stdout",
     "output_type": "stream",
     "text": [
      "LR Finder is complete, type {learner_name}.recorder.plot() to see the graph.\n"
     ]
    },
    {
     "data": {
      "image/png": "[encoded data removed]",
      "text/plain": [
       "<Figure size 432x288 with 1 Axes>"
      ]
     },
     "metadata": {
      "needs_background": "light",
      "tags": []
     },
     "output_type": "display_data"
    }
   ],
   "source": [
    "learn.unfreeze()\n",
    "learn.lr_find(start_lr=slice(1e-6, 1e-5), end_lr=slice(1e-2, 1e-1), wd=1e-3)\n",
    "learn.recorder.plot()"
   ]
  },
  {
   "cell_type": "code",
   "execution_count": null,
   "metadata": {
    "colab": {
     "base_uri": "https://localhost:8080/",
     "height": 929
    },
    "id": "9OGJcGtAPLlp",
    "outputId": "08c443ef-3dd0-4c6e-d015-53bddd57439b"
   },
   "outputs": [
    {
     "data": {
      "text/html": [
       "<table border=\"1\" class=\"dataframe\">\n",
       "  <thead>\n",
       "    <tr style=\"text-align: left;\">\n",
       "      <th>epoch</th>\n",
       "      <th>train_loss</th>\n",
       "      <th>valid_loss</th>\n",
       "      <th>accuracy</th>\n",
       "      <th>time</th>\n",
       "    </tr>\n",
       "  </thead>\n",
       "  <tbody>\n",
       "    <tr>\n",
       "      <td>0</td>\n",
       "      <td>0.905401</td>\n",
       "      <td>1.333180</td>\n",
       "      <td>0.432161</td>\n",
       "      <td>00:29</td>\n",
       "    </tr>\n",
       "    <tr>\n",
       "      <td>1</td>\n",
       "      <td>0.833195</td>\n",
       "      <td>0.540041</td>\n",
       "      <td>0.798995</td>\n",
       "      <td>00:29</td>\n",
       "    </tr>\n",
       "    <tr>\n",
       "      <td>2</td>\n",
       "      <td>0.665758</td>\n",
       "      <td>0.416524</td>\n",
       "      <td>0.841709</td>\n",
       "      <td>00:29</td>\n",
       "    </tr>\n",
       "  </tbody>\n",
       "</table>"
      ],
      "text/plain": [
       "<IPython.core.display.HTML object>"
      ]
     },
     "metadata": {
      "tags": []
     },
     "output_type": "display_data"
    },
    {
     "data": {
      "image/png": "[encoded data removed]",
      "text/plain": [
       "<Figure size 432x288 with 1 Axes>"
      ]
     },
     "metadata": {
      "needs_background": "light",
      "tags": []
     },
     "output_type": "display_data"
    },
    {
     "data": {
      "image/png": "[encoded data removed]",
      "text/plain": [
       "<Figure size 864x288 with 2 Axes>"
      ]
     },
     "metadata": {
      "needs_background": "light",
      "tags": []
     },
     "output_type": "display_data"
    },
    {
     "data": {
      "image/png": "[encoded data removed]",
      "text/plain": [
       "<Figure size 432x288 with 1 Axes>"
      ]
     },
     "metadata": {
      "needs_background": "light",
      "tags": []
     },
     "output_type": "display_data"
    }
   ],
   "source": [
    "learn.fit_one_cycle(3, max_lr=slice(1e-4, 1e-3), div_factor=50, final_div=100, wd=1e-4, moms=(0.9, 0.8))\n",
    "learn.recorder.plot_losses()\n",
    "# schedule of the lr (left) and momentum (right) that the 1cycle policy uses\n",
    "learn.recorder.plot_lr(show_moms=True)\n",
    "learn.recorder.plot_metrics()"
   ]
  },
  {
   "cell_type": "code",
   "execution_count": null,
   "metadata": {
    "id": "B11nYkLX74Zz"
   },
   "outputs": [],
   "source": [
    "learn.unfreeze()"
   ]
  },
  {
   "cell_type": "code",
   "execution_count": null,
   "metadata": {
    "colab": {
     "base_uri": "https://localhost:8080/",
     "height": 1000
    },
    "id": "G-LZ65OdQAfU",
    "outputId": "90947eaf-9482-40c9-810d-92e2effbab06"
   },
   "outputs": [
    {
     "data": {
      "text/html": [
       "<table border=\"1\" class=\"dataframe\">\n",
       "  <thead>\n",
       "    <tr style=\"text-align: left;\">\n",
       "      <th>epoch</th>\n",
       "      <th>train_loss</th>\n",
       "      <th>valid_loss</th>\n",
       "      <th>accuracy</th>\n",
       "      <th>time</th>\n",
       "    </tr>\n",
       "  </thead>\n",
       "  <tbody>\n",
       "    <tr>\n",
       "      <td>0</td>\n",
       "      <td>0.658548</td>\n",
       "      <td>1.206681</td>\n",
       "      <td>0.736181</td>\n",
       "      <td>00:29</td>\n",
       "    </tr>\n",
       "    <tr>\n",
       "      <td>1</td>\n",
       "      <td>0.616482</td>\n",
       "      <td>1.612588</td>\n",
       "      <td>0.525126</td>\n",
       "      <td>00:29</td>\n",
       "    </tr>\n",
       "    <tr>\n",
       "      <td>2</td>\n",
       "      <td>0.567180</td>\n",
       "      <td>0.506949</td>\n",
       "      <td>0.824121</td>\n",
       "      <td>00:29</td>\n",
       "    </tr>\n",
       "    <tr>\n",
       "      <td>3</td>\n",
       "      <td>0.495990</td>\n",
       "      <td>0.604473</td>\n",
       "      <td>0.788945</td>\n",
       "      <td>00:29</td>\n",
       "    </tr>\n",
       "    <tr>\n",
       "      <td>4</td>\n",
       "      <td>0.431754</td>\n",
       "      <td>0.314140</td>\n",
       "      <td>0.876884</td>\n",
       "      <td>00:29</td>\n",
       "    </tr>\n",
       "    <tr>\n",
       "      <td>5</td>\n",
       "      <td>0.381998</td>\n",
       "      <td>0.315989</td>\n",
       "      <td>0.886935</td>\n",
       "      <td>00:29</td>\n",
       "    </tr>\n",
       "    <tr>\n",
       "      <td>6</td>\n",
       "      <td>0.315492</td>\n",
       "      <td>0.404663</td>\n",
       "      <td>0.859297</td>\n",
       "      <td>00:29</td>\n",
       "    </tr>\n",
       "    <tr>\n",
       "      <td>7</td>\n",
       "      <td>0.295321</td>\n",
       "      <td>0.342057</td>\n",
       "      <td>0.904523</td>\n",
       "      <td>00:29</td>\n",
       "    </tr>\n",
       "    <tr>\n",
       "      <td>8</td>\n",
       "      <td>0.249948</td>\n",
       "      <td>0.266283</td>\n",
       "      <td>0.902010</td>\n",
       "      <td>00:29</td>\n",
       "    </tr>\n",
       "    <tr>\n",
       "      <td>9</td>\n",
       "      <td>0.224561</td>\n",
       "      <td>0.279878</td>\n",
       "      <td>0.907035</td>\n",
       "      <td>00:29</td>\n",
       "    </tr>\n",
       "    <tr>\n",
       "      <td>10</td>\n",
       "      <td>0.182562</td>\n",
       "      <td>0.257336</td>\n",
       "      <td>0.914573</td>\n",
       "      <td>00:29</td>\n",
       "    </tr>\n",
       "    <tr>\n",
       "      <td>11</td>\n",
       "      <td>0.168437</td>\n",
       "      <td>0.240960</td>\n",
       "      <td>0.924623</td>\n",
       "      <td>00:29</td>\n",
       "    </tr>\n",
       "    <tr>\n",
       "      <td>12</td>\n",
       "      <td>0.143295</td>\n",
       "      <td>0.257416</td>\n",
       "      <td>0.912060</td>\n",
       "      <td>00:29</td>\n",
       "    </tr>\n",
       "    <tr>\n",
       "      <td>13</td>\n",
       "      <td>0.122819</td>\n",
       "      <td>0.240738</td>\n",
       "      <td>0.917085</td>\n",
       "      <td>00:29</td>\n",
       "    </tr>\n",
       "    <tr>\n",
       "      <td>14</td>\n",
       "      <td>0.119027</td>\n",
       "      <td>0.247619</td>\n",
       "      <td>0.917085</td>\n",
       "      <td>00:29</td>\n",
       "    </tr>\n",
       "  </tbody>\n",
       "</table>"
      ],
      "text/plain": [
       "<IPython.core.display.HTML object>"
      ]
     },
     "metadata": {
      "tags": []
     },
     "output_type": "display_data"
    },
    {
     "data": {
      "image/png": "[encoded data removed]",
      "text/plain": [
       "<Figure size 432x288 with 1 Axes>"
      ]
     },
     "metadata": {
      "needs_background": "light",
      "tags": []
     },
     "output_type": "display_data"
    },
    {
     "data": {
      "image/png": "[encoded data removed]",
      "text/plain": [
       "<Figure size 864x288 with 2 Axes>"
      ]
     },
     "metadata": {
      "needs_background": "light",
      "tags": []
     },
     "output_type": "display_data"
    },
    {
     "data": {
      "image/png": "[encoded data removed]",
      "text/plain": [
       "<Figure size 432x288 with 1 Axes>"
      ]
     },
     "metadata": {
      "needs_background": "light",
      "tags": []
     },
     "output_type": "display_data"
    }
   ],
   "source": [
    "learn.fit_one_cycle(cyc_len=15, max_lr=slice(1e-4, 1e-3), pct_start=0, final_div=1000, wd=1e-3, moms=(0.9, 0.8)) # warm restart: pct_start=0\n",
    "#learn.save('stage-3')\n",
    "learn.recorder.plot_losses()\n",
    "# # schedule of the lr (left) and momentum (right) that the 1cycle policy uses\n",
    "learn.recorder.plot_lr(show_moms=True)\n",
    "learn.recorder.plot_metrics()"
   ]
  },
  {
   "cell_type": "code",
   "execution_count": null,
   "metadata": {
    "id": "oNsNLJcSRVyr"
   },
   "outputs": [],
   "source": [
    "learn.save('rg-adam-seed42-25June')"
   ]
  },
  {
   "cell_type": "code",
   "execution_count": null,
   "metadata": {
    "colab": {
     "base_uri": "https://localhost:8080/",
     "height": 17
    },
    "id": "wmoeEy-OUgn9",
    "outputId": "70ba980b-4cbe-418e-b948-9979e8650cfe"
   },
   "outputs": [
    {
     "data": {
      "text/html": [],
      "text/plain": [
       "<IPython.core.display.HTML object>"
      ]
     },
     "metadata": {
      "tags": []
     },
     "output_type": "display_data"
    }
   ],
   "source": [
    "learn.load('rg-adam-seed42-25June')\n",
    "interp = ClassificationInterpretation.from_learner(learn)"
   ]
  },
  {
   "cell_type": "code",
   "execution_count": null,
   "metadata": {
    "colab": {
     "base_uri": "https://localhost:8080/",
     "height": 523
    },
    "id": "qg5B9_ZeUl0-",
    "outputId": "edf55996-96e2-4de2-d9e1-0b80a8513554"
   },
   "outputs": [
    {
     "data": {
      "image/png": "[encoded data removed]",
      "text/plain": [
       "<Figure size 576x576 with 9 Axes>"
      ]
     },
     "metadata": {
      "needs_background": "light",
      "tags": []
     },
     "output_type": "display_data"
    }
   ],
   "source": [
    "interp.plot_top_losses(9, figsize=(8,8))"
   ]
  },
  {
   "cell_type": "code",
   "execution_count": null,
   "metadata": {
    "colab": {
     "base_uri": "https://localhost:8080/"
    },
    "id": "2HDSbjItUuZs",
    "outputId": "2e6aa5b0-c6a0-4764-cd6c-bb62464428c4"
   },
   "outputs": [
    {
     "name": "stdout",
     "output_type": "stream",
     "text": [
      "[PosixPath('data/valid/FRII/J151108.76+180153.2.jpeg') PosixPath('data/valid/FRI/J143521.30-024051.7.jpg')\n",
      " PosixPath('data/valid/Bent/J080431.42+192212.9.jpg') PosixPath('data/valid/Bent/J143448.92-021509.4.jpg')\n",
      " PosixPath('data/valid/FRI/J140313.27+061008.2.jpeg') PosixPath('data/valid/FRI/J141104.33-030043.3.jpeg')\n",
      " PosixPath('data/valid/FRII/J153004.69+290009.3.jpg') PosixPath('data/valid/FRII/J144808.61+163439.5.jpg')\n",
      " PosixPath('data/valid/FRI/J140310.68+393949.8.jpeg') PosixPath('data/valid/FRI/J143825.92-010001.5.jpg')\n",
      " PosixPath('data/valid/FRII/J145423.44+162119.0.jpg') PosixPath('data/valid/FRII/J153150.71+240243.3.jpg')\n",
      " PosixPath('data/valid/FRII/J144919.01+210548.0.jpg') PosixPath('data/valid/FRI/J143346.68-022322.5.jpg')\n",
      " PosixPath('data/valid/FRI/J143848.86+004059.2.jpg') PosixPath('data/valid/FRII/J145752.77+111809.5.jpg')\n",
      " PosixPath('data/valid/Bent/J163032.36+285414.8.jpg') PosixPath('data/valid/FRI/J143410.56+013646.9.jpg')\n",
      " PosixPath('data/valid/Bent/J122504.53+125305.9.jpg') PosixPath('data/valid/Bent/J143505.58-040920.9.jpg')\n",
      " PosixPath('data/valid/Compact/J143657.07+032412.3.jpg') PosixPath('data/valid/Bent/J144109.53+184026.0.jpg')\n",
      " PosixPath('data/valid/FRII/J144544.74+230239.4.jpg') PosixPath('data/valid/Bent/J081545.53+371035.5.jpg')\n",
      " PosixPath('data/valid/FRII/J150721.94+200408.5.jpeg') PosixPath('data/valid/FRII/J153007.96+231616.0.jpg')\n",
      " PosixPath('data/valid/FRII/J144832.32+442256.3.jpeg') PosixPath('data/valid/Bent/J144625.28+214139.2.jpeg')\n",
      " PosixPath('data/valid/FRII/J151423.26+011130.7.jpg') PosixPath('data/valid/FRI/J123629.12+163232.1.jpg')]\n"
     ]
    }
   ],
   "source": [
    "losses, indexes = interp.top_losses(30)\n",
    "\n",
    "top_loss_paths = data.valid_ds.x.items[indexes]\n",
    "\n",
    "print(top_loss_paths)"
   ]
  },
  {
   "cell_type": "code",
   "execution_count": null,
   "metadata": {
    "colab": {
     "base_uri": "https://localhost:8080/",
     "height": 743
    },
    "id": "b40niYx9Uv8h",
    "outputId": "a105e35f-773a-4b8e-f977-6e88a2f88b0e"
   },
   "outputs": [
    {
     "data": {
      "image/png": "[encoded data removed]",
      "text/plain": [
       "<Figure size 720x720 with 1 Axes>"
      ]
     },
     "metadata": {
      "needs_background": "light",
      "tags": []
     },
     "output_type": "display_data"
    }
   ],
   "source": [
    "interp.plot_confusion_matrix(figsize=(10,10))"
   ]
  },
  {
   "cell_type": "code",
   "execution_count": null,
   "metadata": {
    "colab": {
     "base_uri": "https://localhost:8080/"
    },
    "id": "3eLXRarBUz6A",
    "outputId": "538d1e02-74bb-4e40-cbf8-b918d95cb7f2"
   },
   "outputs": [
    {
     "data": {
      "text/plain": [
       "ImageDataBunch;\n",
       "\n",
       "Train: LabelList (1180 items)\n",
       "x: ImageList\n",
       "Image (3, 224, 224),Image (3, 224, 224),Image (3, 224, 224),Image (3, 224, 224),Image (3, 224, 224)\n",
       "y: CategoryList\n",
       "Bent,Bent,Bent,Bent,Bent\n",
       "Path: data;\n",
       "\n",
       "Valid: LabelList (404 items)\n",
       "x: ImageList\n",
       "Image (3, 224, 224),Image (3, 224, 224),Image (3, 224, 224),Image (3, 224, 224),Image (3, 224, 224)\n",
       "y: CategoryList\n",
       "Compact,Compact,Compact,Compact,Compact\n",
       "Path: data;\n",
       "\n",
       "Test: None"
      ]
     },
     "execution_count": 20,
     "metadata": {
      "tags": []
     },
     "output_type": "execute_result"
    }
   ],
   "source": [
    "path_img = Path('data')## Loading data \n",
    "#data = ImageDataBunch.from_folder(path=path_img, train='train', valid='valid', ds_tfms=get_transforms(),size=224, bs=bs), check_ext=False)## Normalizing data based on Image net parameters\n",
    "data = ImageDataBunch.from_folder(path=path_img, train='train', valid='test', ds_tfms=get_transforms(),size=224, bs=bs)\n",
    "data.normalize(imagenet_stats)"
   ]
  },
  {
   "cell_type": "code",
   "execution_count": null,
   "metadata": {
    "id": "L7AJCjSOU_Ey"
   },
   "outputs": [],
   "source": [
    "learn = cnn_learner(data, models.densenet161, opt_func=torch.optim.Adam, metrics=accuracy)"
   ]
  },
  {
   "cell_type": "code",
   "execution_count": null,
   "metadata": {
    "id": "gxp0hosVVqkI"
   },
   "outputs": [],
   "source": [
    "learn = learn.load('rg-adam-seed42-25June')"
   ]
  },
  {
   "cell_type": "code",
   "execution_count": null,
   "metadata": {
    "colab": {
     "base_uri": "https://localhost:8080/",
     "height": 17
    },
    "id": "RDlBD9b4Vv5-",
    "outputId": "966368c6-780c-4ce2-9fb0-91038fa5200f"
   },
   "outputs": [
    {
     "data": {
      "text/html": [],
      "text/plain": [
       "<IPython.core.display.HTML object>"
      ]
     },
     "metadata": {
      "tags": []
     },
     "output_type": "display_data"
    }
   ],
   "source": [
    "interp = ClassificationInterpretation.from_learner(learn)"
   ]
  },
  {
   "cell_type": "code",
   "execution_count": null,
   "metadata": {
    "colab": {
     "base_uri": "https://localhost:8080/",
     "height": 523
    },
    "id": "SyvCC0pJVxt4",
    "outputId": "e25229da-7f2f-449b-8c49-69d0cb94267f"
   },
   "outputs": [
    {
     "data": {
      "image/png": "[encoded data removed]",
      "text/plain": [
       "<Figure size 576x576 with 9 Axes>"
      ]
     },
     "metadata": {
      "needs_background": "light",
      "tags": []
     },
     "output_type": "display_data"
    }
   ],
   "source": [
    "interp.plot_top_losses(9, figsize=(8,8))"
   ]
  },
  {
   "cell_type": "code",
   "execution_count": null,
   "metadata": {
    "colab": {
     "base_uri": "https://localhost:8080/"
    },
    "id": "xO54mSedV0nX",
    "outputId": "414b182b-e499-4633-e532-abaf57918956"
   },
   "outputs": [
    {
     "name": "stdout",
     "output_type": "stream",
     "text": [
      "[PosixPath('data/test/FRII/J004312.83-103956.1.jpeg') PosixPath('data/test/Bent/J114525.98-022332.9.jpeg')\n",
      " PosixPath('data/test/Bent/J083841.50+444824.1.jpeg') PosixPath('data/test/Compact/J085457.38+562317.9.jpeg')\n",
      " PosixPath('data/test/Compact/J085836.52+541902.5.jpeg') PosixPath('data/test/FRII/J083754.15+154326.9.jpeg')\n",
      " PosixPath('data/test/Compact/J005830.07-011138.7.jpeg') PosixPath('data/test/Bent/J024558.53-064900.7.jpeg')\n",
      " PosixPath('data/test/FRII/J095448.85+144331.1.jpeg') PosixPath('data/test/FRI/J085401.08+401343.0.jpeg')\n",
      " PosixPath('data/test/FRII/J082705.40+374841.3.jpeg') PosixPath('data/test/Bent/J094942.78+005024.3.jpeg')\n",
      " PosixPath('data/test/Compact/J090004.38+624246.7.jpeg') PosixPath('data/test/FRI/J081207.59+103245.7.jpeg')\n",
      " PosixPath('data/test/Compact/J005719.19-095415.6.jpeg') PosixPath('data/test/FRII/J031357.03+001531.2.jpeg')\n",
      " PosixPath('data/test/FRI/J083140.32+125805.1.jpeg') PosixPath('data/test/Compact/J005901.17+002530.9.jpeg')\n",
      " PosixPath('data/test/Bent/J122952.32+114038.8.jpeg') PosixPath('data/test/Compact/J000134.96-085727.7.jpeg')\n",
      " PosixPath('data/test/FRII/J081303.31+132606.7.jpeg') PosixPath('data/test/Bent/J102902.08+494417.5.jpeg')\n",
      " PosixPath('data/test/FRII/J075329.35+163026.1.jpeg') PosixPath('data/test/FRII/J083231.19+351713.5.jpeg')\n",
      " PosixPath('data/test/Bent/J121121.33+301111.3.jpeg') PosixPath('data/test/FRII/J101028.96+074021.5.jpeg')\n",
      " PosixPath('data/test/FRII/J092935.77+491938.8.jpeg') PosixPath('data/test/Bent/J114339.82+072959.6.jpeg')\n",
      " PosixPath('data/test/FRII/J090620.55+475208.2.jpeg') PosixPath('data/test/Bent/J113157.03+390800.1.jpeg')\n",
      " PosixPath('data/test/FRII/J080427.16+163329.3.jpeg') PosixPath('data/test/FRII/J083841.39+044409.0.jpeg')\n",
      " PosixPath('data/test/Bent/J073658.10+432902.0.jpeg') PosixPath('data/test/Compact/J013201.68+002212.2.jpeg')\n",
      " PosixPath('data/test/Compact/J015021.83+010729.7.jpeg') PosixPath('data/test/FRI/J075812.78+383207.0.jpeg')]\n"
     ]
    }
   ],
   "source": [
    "losses, indexes = interp.top_losses(36)\n",
    "\n",
    "top_loss_paths = data.valid_ds.x.items[indexes]\n",
    "\n",
    "print(top_loss_paths)"
   ]
  },
  {
   "cell_type": "code",
   "execution_count": null,
   "metadata": {
    "colab": {
     "base_uri": "https://localhost:8080/",
     "height": 743
    },
    "id": "KuEqwlpvV5nv",
    "outputId": "d82fdd03-7668-4c73-f566-b8e941cd2f77"
   },
   "outputs": [
    {
     "data": {
      "image/png": "[encoded data removed]",
      "text/plain": [
       "<Figure size 720x720 with 1 Axes>"
      ]
     },
     "metadata": {
      "needs_background": "light",
      "tags": []
     },
     "output_type": "display_data"
    }
   ],
   "source": [
    "interp.plot_confusion_matrix(figsize=(10,10))"
   ]
  },
  {
   "cell_type": "code",
   "execution_count": null,
   "metadata": {
    "colab": {
     "base_uri": "https://localhost:8080/"
    },
    "id": "kIadlZ_NV9Lg",
    "outputId": "41358cba-e074-40b6-8901-e21571df5197"
   },
   "outputs": [
    {
     "name": "stdout",
     "output_type": "stream",
     "text": [
      "['Compact', 'J000325.23+004355.5.jpeg'] Compact\n",
      "['Compact', 'J000140.36-010636.9.jpeg'] Compact\n",
      "['Compact', 'J000140.21+010531.1.jpeg'] Compact\n",
      "['Compact', 'J000400.88+001717.9.jpeg'] Compact\n",
      "['Compact', 'J000027.89-010235.4.jpeg'] Compact\n",
      "['Compact', 'J000001.58-092940.3.jpeg'] Compact\n",
      "['Compact', 'J001503.37+003459.2.jpeg'] Compact\n",
      "['Compact', 'J002142.25-090044.4.jpeg'] Compact\n",
      "['Compact', 'J002722.71-104759.2.jpeg'] Compact\n",
      "['Compact', 'J002833.42+005510.9.jpeg'] Compact\n",
      "['Compact', 'J002235.86+003555.0.jpeg'] Compact\n",
      "['Compact', 'J002331.60+010116.7.jpeg'] Compact\n",
      "['Compact', 'J002351.21+000632.9.jpeg'] Compact\n",
      "['Compact', 'J001511.48-011153.1.jpeg'] Compact\n",
      "['Compact', 'J002306.96+010236.8.jpeg'] Compact\n",
      "['Compact', 'J003055.39+001024.2.jpeg'] Compact\n",
      "['Compact', 'J003230.91+002440.2.jpeg'] Compact\n",
      "['Compact', 'J005805.37+002647.4.jpeg'] Compact\n",
      "['Compact', 'J015152.78-100050.5.jpeg'] Compact\n",
      "['Compact', 'J004625.17+003118.4.jpeg'] Compact\n",
      "['Compact', 'J015301.50-010841.5.jpeg'] Compact\n",
      "['Compact', 'J004432.85-103225.6.jpeg'] Compact\n",
      "['Compact', 'J015344.92-084051.3.jpeg'] Compact\n",
      "['Compact', 'J005207.25-092928.4.jpeg'] Compact\n",
      "['Compact', 'J085542.85+110314.6.jpeg'] Compact\n",
      "['Compact', 'J085608.51+541854.8.jpeg'] Compact\n",
      "['Compact', 'J085536.07+102401.2.jpeg'] Compact\n",
      "['Compact', 'J085517.51+372245.8.jpeg'] Compact\n",
      "['Compact', 'J085506.37+260142.1.jpeg'] Compact\n",
      "['Compact', 'J085511.39+634631.7.jpeg'] Compact\n",
      "['Compact', 'J085526.28+322130.5.jpeg'] Compact\n",
      "['Compact', 'J085458.89+490832.4.jpeg'] Compact\n",
      "['Compact', 'J085631.05+504002.7.jpeg'] Compact\n",
      "['Compact', 'J085619.10+472330.7.jpeg'] Compact\n",
      "['Compact', 'J085651.78+214949.4.jpeg'] Compact\n",
      "['Compact', 'J085758.17+090021.6.jpeg'] Compact\n",
      "['Compact', 'J085730.46+602305.4.jpeg'] Compact\n",
      "['Compact', 'J085707.16+622303.5.jpeg'] Compact\n",
      "['Compact', 'J085806.28+432422.4.jpeg'] Compact\n",
      "['Compact', 'J085732.64+304610.5.jpeg'] Compact\n",
      "['Compact', 'J085708.39+600201.5.jpeg'] Compact\n",
      "['Compact', 'J085804.94+010913.5.jpeg'] Compact\n",
      "['Compact', 'J085730.92+455807.9.jpeg'] Compact\n",
      "['Compact', 'J011012.65+004746.8.jpeg'] Compact\n",
      "['Compact', 'J012023.14+000444.3.jpeg'] Compact\n",
      "['Compact', 'J010155.78+004932.8.jpeg'] Compact\n",
      "['Compact', 'J010506.04-095708.2.jpeg'] Compact\n",
      "['Compact', 'J010158.61-095750.6.jpeg'] Compact\n",
      "['Compact', 'J010958.75-083706.7.jpeg'] Compact\n",
      "['Compact', 'J010101.09+002444.4.jpeg'] Compact\n",
      "['Compact', 'J012003.87-093137.0.jpeg'] Compact\n",
      "['Compact', 'J011943.00-101557.4.jpeg'] Compact\n",
      "['Compact', 'J010758.57+005225.3.jpeg'] Compact\n",
      "['Compact', 'J012051.82-100025.2.jpeg'] Compact\n",
      "['Compact', 'J012234.39+011513.7.jpeg'] Compact\n",
      "['Compact', 'J012346.39-092303.4.jpeg'] Compact\n",
      "['Compact', 'J085846.27+505635.4.jpeg'] Compact\n",
      "['Compact', 'J085826.28+222802.2.jpeg'] Compact\n",
      "['Compact', 'J085948.11+002146.6.jpeg'] Compact\n",
      "['Compact', 'J085846.06+415254.1.jpeg'] Compact\n",
      "['Compact', 'J085848.57+034418.6.jpeg'] Compact\n",
      "['Compact', 'J090232.03+071228.0.jpeg'] Compact\n",
      "['Compact', 'J090207.94+454433.0.jpeg'] Compact\n",
      "['Compact', 'J090044.64+094525.1.jpeg'] Compact\n",
      "['Compact', 'J090130.14+553916.6.jpeg'] Compact\n",
      "['Compact', 'J090144.93+180101.1.jpeg'] Compact\n",
      "['Compact', 'J090140.65+432013.1.jpeg'] Compact\n",
      "['Compact', 'J090209.89+283042.9.jpeg'] Compact\n",
      "['Compact', 'J090028.14+304647.2.jpeg'] Compact\n",
      "['Compact', 'J090139.03+375246.4.jpeg'] Compact\n",
      "['Compact', 'J090128.16+625930.6.jpeg'] Compact\n",
      "['Compact', 'J090237.42+131949.3.jpeg'] Compact\n",
      "['Compact', 'J013144.35-082613.1.jpeg'] Compact\n",
      "['Compact', 'J012357.00-094107.8.jpeg'] Compact\n",
      "['Compact', 'J012745.78-095100.2.jpeg'] Compact\n",
      "['Compact', 'J013201.68+002212.2.jpeg'] Compact\n",
      "['Compact', 'J090325.55+162256.1.jpeg'] Compact\n",
      "['Compact', 'J085808.08+383159.8.jpeg'] Compact\n",
      "['Compact', 'J012707.08-082617.9.jpeg'] Compact\n",
      "['Compact', 'J015021.83+010729.7.jpeg'] Compact\n",
      "['Compact', 'J013248.97-090714.8.jpeg'] Compact\n",
      "['Compact', 'J013426.53-081701.9.jpeg'] Compact\n",
      "['Compact', 'J014116.32-083539.3.jpeg'] Compact\n",
      "['Compact', 'J014756.07-083918.9.jpeg'] Compact\n",
      "['Compact', 'J014253.89-084629.6.jpeg'] Compact\n",
      "['Compact', 'J014752.00+000658.8.jpeg'] Compact\n",
      "['Compact', 'J013315.48-093202.4.jpeg'] Compact\n",
      "['Compact', 'J013300.47-092721.1.jpeg'] Compact\n",
      "['Compact', 'J014612.72+003836.3.jpeg'] Compact\n",
      "['Compact', 'J014017.46+001740.9.jpeg'] Compact\n",
      "['Compact', 'J014822.32+004815.6.jpeg'] Compact\n",
      "['Compact', 'J014826.71-082342.5.jpeg'] Compact\n",
      "['Compact', 'J014953.57-082505.6.jpeg'] Compact\n",
      "['Bent', 'J000121.46+001140.3.jpeg'] Bent\n",
      "['Bent', 'J022040.96-010410.9.jpeg'] Bent\n",
      "['Bent', 'J004252.70+004306.3.jpeg'] Bent\n",
      "['Bent', 'J003113.86+001236.2.jpeg'] Bent\n",
      "['Bent', 'J004152.14+002835.0.jpeg'] Bent\n",
      "['Bent', 'J010456.53+000423.2.jpeg'] Bent\n",
      "['Bent', 'J010236.53+005007.7.jpeg'] Bent\n",
      "['Bent', 'J005702.04+005230.6.jpeg'] Bent\n",
      "['Bent', 'J023028.03+010849.8.jpeg'] Bent\n",
      "['Bent', 'J025031.23+005747.7.jpeg'] Bent\n",
      "['Bent', 'J030259.53+001135.4.jpeg'] Bent\n",
      "['Bent', 'J024808.57-011344.6.jpeg'] Bent\n",
      "['Bent', 'J073201.32+420829.9.jpeg'] Bent\n",
      "['Bent', 'J073658.10+432902.0.jpeg'] Bent\n",
      "['Bent', 'J072620.82+403928.3.jpeg'] Bent\n",
      "['Bent', 'J073849.49+415907.5.jpeg'] Bent\n",
      "['Bent', 'J075347.57+230154.9.jpeg'] Bent\n",
      "['Bent', 'J072248.42+412921.4.jpeg'] Bent\n",
      "['Bent', 'J075442.70+395139.1.jpeg'] Bent\n",
      "['Bent', 'J092612.33+324721.2.jpeg'] Bent\n",
      "['Bent', 'J080052.78+132945.3.jpeg'] Bent\n",
      "['Bent', 'J091707.98+550908.2.jpeg'] Bent\n",
      "['Bent', 'J091325.00+122740.5.jpeg'] Bent\n",
      "['Bent', 'J081505.00+490802.0.jpeg'] Bent\n",
      "['Bent', 'J080337.65+105042.5.jpeg'] Bent\n",
      "['Bent', 'J092704.28+542346.6.jpeg'] Bent\n",
      "['Bent', 'J093307.78+051438.5.jpeg'] Bent\n",
      "['Bent', 'J091944.25+043018.4.jpeg'] Bent\n",
      "['Bent', 'J092905.63+130201.8.jpeg'] Bent\n",
      "['Bent', 'J094214.80+152251.3.jpeg'] Bent\n",
      "['Bent', 'J094715.32+525058.5.jpeg'] Bent\n",
      "['Bent', 'J095539.46+013548.4.jpeg'] Bent\n",
      "['Bent', 'J100406.92+435322.5.jpeg'] Bent\n",
      "['Bent', 'J094411.15+451338.4.jpeg'] Bent\n",
      "['Bent', 'J095346.96+121530.0.jpeg'] Bent\n",
      "['Bent', 'J101436.17+494532.6.jpeg'] Bent\n",
      "['Bent', 'J095641.71+183547.5.jpeg'] Bent\n",
      "['Bent', 'J101602.41+240006.5.jpeg'] Bent\n",
      "['Bent', 'J102859.02+030727.6.jpeg'] Bent\n",
      "['Bent', 'J104955.38+461911.6.jpeg'] Bent\n",
      "['Bent', 'J104514.65+562049.4.jpeg'] Bent\n",
      "['Bent', 'J104441.85+354016.8.jpeg'] Bent\n",
      "['Bent', 'J101606.96+470812.5.jpeg'] Bent\n",
      "['Bent', 'J105129.92+050324.2.jpeg'] Bent\n",
      "['Bent', 'J105614.75+112842.7.jpeg'] Bent\n",
      "['Bent', 'J104501.48+125802.8.jpeg'] Bent\n",
      "['Bent', 'J102501.60+040202.4.jpeg'] Bent\n",
      "['Bent', 'J110208.08+040927.6.jpeg'] Bent\n",
      "['Bent', 'J112539.10+582734.2.jpeg'] Bent\n",
      "['Bent', 'J112947.28+253321.5.jpeg'] Bent\n",
      "['Bent', 'J111833.54+311511.6.jpeg'] Bent\n",
      "['Bent', 'J112649.49+162444.6.jpeg'] Bent\n",
      "['Bent', 'J111833.79+311517.1.jpeg'] Bent\n",
      "['Bent', 'J112639.79+454121.4.jpeg'] Bent\n",
      "['Bent', 'J110332.46+035623.5.jpeg'] Bent\n",
      "['Bent', 'J112523.73+361824.3.jpeg'] Bent\n",
      "['Bent', 'J111320.42+205655.5.jpeg'] Bent\n",
      "['Bent', 'J113157.03+390800.1.jpeg'] Bent\n",
      "['Bent', 'J113026.82+243413.5.jpeg'] Bent\n",
      "['Bent', 'J082400.28+153446.7.jpeg'] Bent\n",
      "['Bent', 'J113048.82+252435.6.jpeg'] Bent\n",
      "['Bent', 'J082835.17+322825.2.jpeg'] Bent\n",
      "['Bent', 'J082712.77+382000.8.jpeg'] Bent\n",
      "['Bent', 'J082608.48+035903.6.jpeg'] Bent\n",
      "['Bent', 'J082444.67+520033.8.jpeg'] Bent\n",
      "['Bent', 'J081939.42+574607.8.jpeg'] Bent\n",
      "['Bent', 'J082718.28+463510.9.jpeg'] Bent\n",
      "['Bent', 'J084934.60+282155.8.jpeg'] Bent\n",
      "['Bent', 'J083345.42+102753.2.jpeg'] Bent\n",
      "['Bent', 'J084146.07+160732.4.jpeg'] Bent\n",
      "['Bent', 'J083049.21+361645.7.jpeg'] Bent\n",
      "['Bent', 'J085757.06+170447.3.jpeg'] Bent\n",
      "['Bent', 'J084445.46+212932.7.jpeg'] Bent\n",
      "['Bent', 'J083844.59+325311.8.jpeg'] Bent\n",
      "['Bent', 'J084158.63+123512.4.jpeg'] Bent\n",
      "['Bent', 'J085116.23+082723.2.jpeg'] Bent\n",
      "['Bent', 'J085845.07+171003.1.jpeg'] Bent\n",
      "['Bent', 'J091007.36+183504.5.jpeg'] Bent\n",
      "['Bent', 'J090052.56+505622.6.jpeg'] Bent\n",
      "['Bent', 'J091023.76+352417.0.jpeg'] Bent\n",
      "['Bent', 'J085854.25+470054.0.jpeg'] Bent\n",
      "['Bent', 'J113522.96-011519.7.jpeg'] Bent\n",
      "['Bent', 'J081800.76+495611.9.jpeg'] Bent\n",
      "['Bent', 'J105138.29+580800.1.jpeg'] Bent\n",
      "['Bent', 'J113838.17+433933.4.jpeg'] Bent\n",
      "['Bent', 'J113212.18+105513.3.jpeg'] Bent\n",
      "['Bent', 'J114448.07+583350.4.jpeg'] Bent\n",
      "['Bent', 'J113856.21+432948.3.jpeg'] Bent\n",
      "['Bent', 'J121439.52+052803.9.jpeg'] Bent\n",
      "['Bent', 'J121330.71+322945.1.jpeg'] Bent\n",
      "['Bent', 'J120619.91+034701.1.jpeg'] Bent\n",
      "['Bent', 'J114323.92+600737.2.jpeg'] Bent\n",
      "['Bent', 'J114020.21+535029.2.jpeg'] Bent\n",
      "['Bent', 'J122436.57+351825.3.jpeg'] Bent\n",
      "['Bent', 'J121738.79+033948.0.jpeg'] Bent\n",
      "['FRI', 'J003940.85+000526.0.jpeg'] FRI\n",
      "['FRI', 'J011039.78+010400.2.jpeg'] FRI\n",
      "['FRI', 'J003038.09+004753.9.jpeg'] FRI\n",
      "['FRI', 'J004342.02-102129.6.jpeg'] FRI\n",
      "['FRI', 'J012331.44+000349.2.jpeg'] FRI\n",
      "['FRI', 'J012019.03+004529.3.jpeg'] FRI\n",
      "['FRI', 'J002310.57+005834.8.jpeg'] FRI\n",
      "['FRI', 'J073710.06+460821.3.jpeg'] FRI\n",
      "['FRI', 'J014500.36+004854.4.jpeg'] FRI\n",
      "['FRI', 'J073728.44+321618.7.jpeg'] FRI\n",
      "['FRI', 'J014910.81+010829.5.jpeg'] FRI\n",
      "['FRI', 'J073451.85+392435.9.jpeg'] FRI\n",
      "['FRI', 'J072704.17+415525.0.jpeg'] FRI\n",
      "['FRI', 'J025704.36+004255.7.jpeg'] FRI\n",
      "['FRI', 'J023546.89+003252.9.jpeg'] FRI\n",
      "['FRI', 'J013127.62+010947.1.jpeg'] FRI\n",
      "['FRI', 'J073216.83+315248.1.jpeg'] FRI\n",
      "['FRI', 'J074119.82+244106.1.jpeg'] FRI\n",
      "['FRI', 'J081213.35+384539.2.jpeg'] FRI\n",
      "['FRI', 'J074647.46+351414.5.jpeg'] FRI\n",
      "['FRI', 'J074708.33+171726.6.jpeg'] FRI\n",
      "['FRI', 'J074331.57+252728.5.jpeg'] FRI\n",
      "['FRI', 'J074258.71+273515.0.jpeg'] FRI\n",
      "['FRI', 'J074242.18+465438.9.jpeg'] FRI\n",
      "['FRI', 'J074855.93+350806.5.jpeg'] FRI\n",
      "['FRI', 'J074310.49+343057.4.jpeg'] FRI\n",
      "['FRI', 'J074828.19+180526.3.jpeg'] FRI\n",
      "['FRI', 'J081421.94+161814.0.jpeg'] FRI\n",
      "['FRI', 'J081838.99+181848.5.jpeg'] FRI\n",
      "['FRI', 'J081939.93+495637.8.jpeg'] FRI\n",
      "['FRI', 'J081538.56+081048.0.jpeg'] FRI\n",
      "['FRI', 'J082025.91+122540.3.jpeg'] FRI\n",
      "['FRI', 'J081559.25+432033.3.jpeg'] FRI\n",
      "['FRI', 'J081750.89+063012.8.jpeg'] FRI\n",
      "['FRI', 'J081936.15+402222.9.jpeg'] FRI\n",
      "['FRI', 'J081422.33+292208.8.jpeg'] FRI\n",
      "['FRI', 'J082040.13+120433.3.jpeg'] FRI\n",
      "['FRI', 'J082103.67+524435.6.jpeg'] FRI\n",
      "['FRI', 'J083018.85+032653.6.jpeg'] FRI\n",
      "['FRI', 'J082921.91+310747.8.jpeg'] FRI\n",
      "['FRI', 'J082151.65+313117.5.jpeg'] FRI\n",
      "['FRI', 'J083129.23+150736.5.jpeg'] FRI\n",
      "['FRI', 'J083319.39+475042.6.jpeg'] FRI\n",
      "['FRI', 'J082215.46+195809.9.jpeg'] FRI\n",
      "['FRI', 'J083333.65+272754.3.jpeg'] FRI\n",
      "['FRI', 'J083308.14+214727.1.jpeg'] FRI\n",
      "['FRI', 'J083413.83+230129.1.jpeg'] FRI\n",
      "['FRI', 'J083453.61+555942.5.jpeg'] FRI\n",
      "['FRI', 'J084229.73+081808.2.jpeg'] FRI\n",
      "['FRI', 'J084331.57+541505.7.jpeg'] FRI\n",
      "['FRI', 'J084548.49+063022.7.jpeg'] FRI\n",
      "['FRI', 'J084033.28+134959.9.jpeg'] FRI\n",
      "['FRI', 'J084609.51+603243.0.jpeg'] FRI\n",
      "['FRI', 'J083453.64+365644.0.jpeg'] FRI\n",
      "['FRI', 'J084051.89+285055.4.jpeg'] FRI\n",
      "['FRI', 'J083714.33+354737.5.jpeg'] FRI\n",
      "['FRI', 'J084717.80+220521.6.jpeg'] FRI\n",
      "['FRI', 'J085242.53+154406.5.jpeg'] FRI\n",
      "['FRI', 'J085349.78+145226.1.jpeg'] FRI\n",
      "['FRI', 'J085101.94+080050.6.jpeg'] FRI\n",
      "['FRI', 'J085231.83+453038.3.jpeg'] FRI\n",
      "['FRI', 'J085411.26+132032.0.jpeg'] FRI\n",
      "['FRI', 'J085041.85+282940.5.jpeg'] FRI\n",
      "['FRI', 'J085415.18+062921.7.jpeg'] FRI\n",
      "['FRI', 'J084850.89+315928.9.jpeg'] FRI\n",
      "['FRI', 'J085532.81+021801.7.jpeg'] FRI\n",
      "['FRI', 'J075142.11+513147.1.jpeg'] FRI\n",
      "['FRI', 'J075229.32+204334.6.jpeg'] FRI\n",
      "['FRI', 'J075006.36+464345.6.jpeg'] FRI\n",
      "['FRI', 'J101229.94+015735.0.jpeg'] FRI\n",
      "['FRI', 'J100501.03+602203.9.jpeg'] FRI\n",
      "['FRI', 'J101517.03+025717.1.jpeg'] FRI\n",
      "['FRI', 'J075324.28+530144.2.jpeg'] FRI\n",
      "['FRI', 'J085648.11+551808.9.jpeg'] FRI\n",
      "['FRI', 'J101422.62+383019.9.jpeg'] FRI\n",
      "['FRI', 'J075352.57+330436.8.jpeg'] FRI\n",
      "['FRI', 'J080220.89+260613.0.jpeg'] FRI\n",
      "['FRI', 'J080154.04+475057.9.jpeg'] FRI\n",
      "['FRI', 'J075850.38+471410.0.jpeg'] FRI\n",
      "['FRI', 'J075958.70+441534.5.jpeg'] FRI\n",
      "['FRI', 'J075923.10+274148.3.jpeg'] FRI\n",
      "['FRI', 'J080446.52+404258.5.jpeg'] FRI\n",
      "['FRI', 'J080332.14+251333.9.jpeg'] FRI\n",
      "['FRI', 'J075812.78+383207.0.jpeg'] FRI\n",
      "['FRI', 'J080237.00+433848.4.jpeg'] FRI\n",
      "['FRI', 'J080645.14+162860.0.jpeg'] FRI\n",
      "['FRI', 'J080945.10+060847.2.jpeg'] FRI\n",
      "['FRI', 'J081058.14+284618.6.jpeg'] FRI\n",
      "['FRI', 'J080747.32+394635.6.jpeg'] FRI\n",
      "['FRI', 'J081122.85+105429.6.jpeg'] FRI\n",
      "['FRI', 'J080833.60+461012.8.jpeg'] FRI\n",
      "['FRI', 'J080928.69+095441.4.jpeg'] FRI\n",
      "['FRI', 'J080945.32+153339.0.jpeg'] FRI\n",
      "['FRI', 'J080648.85+244021.5.jpeg'] FRI\n",
      "['FRI', 'J080656.09+394439.4.jpeg'] FRI\n",
      "['FRI', 'J074901.67+351554.6.jpeg'] FRI\n",
      "['FRI', 'J083423.08+134352.8.jpeg'] FRI\n",
      "['FRII', 'J003542.42-101418.8.jpeg'] FRII\n",
      "['FRII', 'J003727.33+000735.3.jpeg'] FRII\n",
      "['FRII', 'J002853.35+000649.2.jpeg'] FRII\n",
      "['FRII', 'J005058.06-092922.7.jpeg'] FRII\n",
      "['FRII', 'J004127.19+000601.5.jpeg'] FRII\n",
      "['FRII', 'J004045.40+000858.0.jpeg'] FRII\n",
      "['FRII', 'J010524.28-094846.2.jpeg'] FRII\n",
      "['FRII', 'J020217.26-010740.3.jpeg'] FRII\n",
      "['FRII', 'J012703.02+002542.7.jpeg'] FRII\n",
      "['FRII', 'J013325.87-102618.7.jpeg'] FRII\n",
      "['FRII', 'J015648.59-010649.5.jpeg'] FRII\n",
      "['FRII', 'J013122.69-103919.4.jpeg'] FRII\n",
      "['FRII', 'J011341.09+010608.5.jpeg'] FRII\n",
      "['FRII', 'J015420.12-081643.2.jpeg'] FRII\n",
      "['FRII', 'J010538.61+000241.1.jpeg'] FRII\n",
      "['FRII', 'J014444.84-094406.1.jpeg'] FRII\n",
      "['FRII', 'J021437.25+004235.3.jpeg'] FRII\n",
      "['FRII', 'J023705.37-011118.2.jpeg'] FRII\n",
      "['FRII', 'J090058.00+510957.3.jpeg'] FRII\n",
      "['FRII', 'J022848.85-071659.1.jpeg'] FRII\n",
      "['FRII', 'J085902.75+342757.5.jpeg'] FRII\n",
      "['FRII', 'J023238.25-010443.3.jpeg'] FRII\n",
      "['FRII', 'J085852.64+294650.3.jpeg'] FRII\n",
      "['FRII', 'J022115.98+001554.9.jpeg'] FRII\n",
      "['FRII', 'J073050.64+445600.9.jpeg'] FRII\n",
      "['FRII', 'J091415.25+211639.8.jpeg'] FRII\n",
      "['FRII', 'J091524.91+432815.0.jpeg'] FRII\n",
      "['FRII', 'J090443.75+195607.9.jpeg'] FRII\n",
      "['FRII', 'J090620.55+475208.2.jpeg'] FRII\n",
      "['FRII', 'J090123.30+191417.2.jpeg'] FRII\n",
      "['FRII', 'J090435.03+250017.4.jpeg'] FRII\n",
      "['FRII', 'J091953.07+295618.1.jpeg'] FRII\n",
      "['FRII', 'J091249.60+050317.7.jpeg'] FRII\n",
      "['FRII', 'J090320.44+523336.1.jpeg'] FRII\n",
      "['FRII', 'J090337.29+043141.4.jpeg'] FRII\n",
      "['FRII', 'J092255.15+541828.2.jpeg'] FRII\n",
      "['FRII', 'J093435.82+142041.7.jpeg'] FRII\n",
      "['FRII', 'J092508.58+310341.5.jpeg'] FRII\n",
      "['FRII', 'J092352.75+141658.6.jpeg'] FRII\n",
      "['FRII', 'J092347.97+005307.9.jpeg'] FRII\n",
      "['FRII', 'J093425.92+293200.6.jpeg'] FRII\n",
      "['FRII', 'J074324.05+233626.0.jpeg'] FRII\n",
      "['FRII', 'J093153.28+125140.6.jpeg'] FRII\n",
      "['FRII', 'J092600.53+190307.4.jpeg'] FRII\n",
      "['FRII', 'J081628.87+085748.6.jpeg'] FRII\n",
      "['FRII', 'J080427.16+163329.3.jpeg'] FRII\n",
      "['FRII', 'J082337.03+280425.5.jpeg'] FRII\n",
      "['FRII', 'J080708.65+332718.1.jpeg'] FRII\n",
      "['FRII', 'J081443.86+125817.3.jpeg'] FRII\n",
      "['FRII', 'J075514.19+140332.8.jpeg'] FRII\n",
      "['FRII', 'J080107.90+435030.6.jpeg'] FRII\n",
      "['FRII', 'J080404.50+153334.6.jpeg'] FRII\n",
      "['FRII', 'J083841.39+044409.0.jpeg'] FRII\n",
      "['FRII', 'J083149.32+181324.4.jpeg'] FRII\n",
      "['FRII', 'J084002.35+294902.6.jpeg'] FRII\n",
      "['FRII', 'J084105.82+330422.4.jpeg'] FRII\n",
      "['FRII', 'J083752.75+445026.0.jpeg'] FRII\n",
      "['FRII', 'J083618.64+090920.8.jpeg'] FRII\n",
      "['FRII', 'J083536.60+182400.8.jpeg'] FRII\n",
      "['FRII', 'J084228.21+112401.1.jpeg'] FRII\n",
      "['FRII', 'J084921.78+541330.5.jpeg'] FRII\n",
      "['FRII', 'J084325.64+290740.7.jpeg'] FRII\n",
      "['FRII', 'J084630.85+024703.5.jpeg'] FRII\n",
      "['FRII', 'J084622.48+031539.7.jpeg'] FRII\n",
      "['FRII', 'J094033.35+220002.2.jpeg'] FRII\n",
      "['FRII', 'J084632.45+293555.4.jpeg'] FRII\n",
      "['FRII', 'J084241.79+391053.3.jpeg'] FRII\n",
      "['FRII', 'J084908.50+120821.5.jpeg'] FRII\n",
      "['FRII', 'J093506.67+535154.8.jpeg'] FRII\n",
      "['FRII', 'J094425.73+520136.8.jpeg'] FRII\n",
      "['FRII', 'J095841.45+263600.9.jpeg'] FRII\n",
      "['FRII', 'J094702.72+094340.2.jpeg'] FRII\n",
      "['FRII', 'J094617.64+492312.2.jpeg'] FRII\n",
      "['FRII', 'J094814.68+074252.0.jpeg'] FRII\n",
      "['FRII', 'J094601.02+292550.1.jpeg'] FRII\n",
      "['FRII', 'J095430.01+581244.2.jpeg'] FRII\n",
      "['FRII', 'J095651.57+283139.6.jpeg'] FRII\n",
      "['FRII', 'J094543.60+043931.4.jpeg'] FRII\n",
      "['FRII', 'J101415.97+105105.7.jpeg'] FRII\n",
      "['FRII', 'J101308.50+344654.7.jpeg'] FRII\n",
      "['FRII', 'J095858.00+281907.2.jpeg'] FRII\n",
      "['FRII', 'J100934.70+041748.1.jpeg'] FRII\n",
      "['FRII', 'J101404.41+061436.4.jpeg'] FRII\n",
      "['FRII', 'J101316.50+064519.3.jpeg'] FRII\n",
      "['FRII', 'J095841.45+601339.9.jpeg'] FRII\n",
      "['FRII', 'J100551.14+241911.4.jpeg'] FRII\n",
      "['FRII', 'J100948.17+002902.8.jpeg'] FRII\n",
      "['FRII', 'J101505.79+263851.0.jpeg'] FRII\n",
      "['FRII', 'J093451.10+025926.6.jpeg'] FRII\n",
      "['FRII', 'J085018.89+165023.5.jpeg'] FRII\n",
      "['FRII', 'J074113.99+422711.3.jpeg'] FRII\n"
     ]
    }
   ],
   "source": [
    "import glob\n",
    "\n",
    "image_list = glob.glob('data/test/*/*')\n",
    "\n",
    "Bent = 0\n",
    "Pred_Bent=0\n",
    "Compact=0\n",
    "Pred_Compact=0\n",
    "FRI=0\n",
    "Pred_FRI=0\n",
    "FRII=0\n",
    "Pred_FRII = 0 \n",
    "\n",
    "for each in image_list:\n",
    "    img = open_image(each)\n",
    "    each = each.split('/')\n",
    "    rg_class = each[2]\n",
    "    pred_class, pred_idx, outputs = learn.predict(img)\n",
    "    pred_class = str(pred_class)\n",
    "         \n",
    "    if rg_class == 'Bent':\n",
    "        Bent += 1\n",
    "        if pred_class == 'Bent':\n",
    "            Pred_Bent += 1\n",
    "            print(each[2:], pred_class)\n",
    "        # else:\n",
    "        #     print(each[2:], pred_class)\n",
    "    elif rg_class == 'Compact':\n",
    "        Compact += 1\n",
    "        if pred_class == 'Compact':\n",
    "            Pred_Compact += 1\n",
    "            print(each[2:], pred_class)\n",
    "        # else:\n",
    "        #    print(each[2:], pred_class)\n",
    "    elif rg_class == 'FRI':\n",
    "        FRI += 1\n",
    "        if pred_class == 'FRI':\n",
    "            Pred_FRI += 1\n",
    "            print(each[2:], pred_class)\n",
    "        # else:\n",
    "        #     print(each[2:], pred_class)\n",
    "    elif rg_class == 'FRII':\n",
    "        FRII += 1\n",
    "        if pred_class == 'FRII':\n",
    "            Pred_FRII += 1\n",
    "            print(each[2:], pred_class)\n",
    "        # else:\n",
    "        #    print(each[2:], pred_class)"
   ]
  },
  {
   "cell_type": "code",
   "execution_count": null,
   "metadata": {
    "colab": {
     "base_uri": "https://localhost:8080/"
    },
    "id": "rGqXm2A0WV38",
    "outputId": "26acf3b2-01d5-4681-aee8-ddc336cb65ea"
   },
   "outputs": [
    {
     "name": "stdout",
     "output_type": "stream",
     "text": [
      "TP Bent: 95/103\n",
      "TP Compact: 93/100\n",
      "TP FRI: 97/100\n",
      "TP FRII: 91/101\n"
     ]
    }
   ],
   "source": [
    "print('TP Bent: ' + str(Pred_Bent) + '/' + str(Bent))\n",
    "print('TP Compact: ' + str(Pred_Compact) + '/' + str(Compact))\n",
    "print('TP FRI: ' + str(Pred_FRI) + '/' + str(FRI) )\n",
    "print('TP FRII: ' + str(Pred_FRII) + '/' + str(FRII) )"
   ]
  },
  {
   "cell_type": "code",
   "execution_count": null,
   "metadata": {
    "id": "ZMobStRyWgEd"
   },
   "outputs": [],
   "source": []
  }
 ],
 "metadata": {
  "accelerator": "GPU",
  "colab": {
   "collapsed_sections": [],
   "name": "RG-newexp-Adam-25June-seed42.ipynb",
   "provenance": []
  },
  "kernelspec": {
   "display_name": "Python 3",
   "language": "python",
   "name": "python3"
  },
  "language_info": {
   "codemirror_mode": {
    "name": "ipython",
    "version": 3
   },
   "file_extension": ".py",
   "mimetype": "text/x-python",
   "name": "python",
   "nbconvert_exporter": "python",
   "pygments_lexer": "ipython3",
   "version": "3.8.8"
  },
  "widgets": {
   "application/vnd.jupyter.widget-state+json": {
    "10eded07a16d4996b0194fa70cffbe88": {
     "model_module": "@jupyter-widgets/controls",
     "model_module_version": "1.5.0",
     "model_name": "FloatProgressModel",
     "state": {
      "_dom_classes": [],
      "_model_module": "@jupyter-widgets/controls",
      "_model_module_version": "1.5.0",
      "_model_name": "FloatProgressModel",
      "_view_count": null,
      "_view_module": "@jupyter-widgets/controls",
      "_view_module_version": "1.5.0",
      "_view_name": "ProgressView",
      "bar_style": "success",
      "description": "100%",
      "description_tooltip": null,
      "layout": "IPY_MODEL_ed18314d2d6c4c0994069ba09df5f371",
      "max": 115730790,
      "min": 0,
      "orientation": "horizontal",
      "style": "IPY_MODEL_53f01f3c12cc47f896f34b5334f49600",
      "value": 115730790
     }
    },
    "36c468eba6d0461084950695117fffd2": {
     "model_module": "@jupyter-widgets/controls",
     "model_module_version": "1.5.0",
     "model_name": "DescriptionStyleModel",
     "state": {
      "_model_module": "@jupyter-widgets/controls",
      "_model_module_version": "1.5.0",
      "_model_name": "DescriptionStyleModel",
      "_view_count": null,
      "_view_module": "@jupyter-widgets/base",
      "_view_module_version": "1.2.0",
      "_view_name": "StyleView",
      "description_width": ""
     }
    },
    "4a77c9b5196c4a04a4e7e79c63b5952c": {
     "model_module": "@jupyter-widgets/controls",
     "model_module_version": "1.5.0",
     "model_name": "HTMLModel",
     "state": {
      "_dom_classes": [],
      "_model_module": "@jupyter-widgets/controls",
      "_model_module_version": "1.5.0",
      "_model_name": "HTMLModel",
      "_view_count": null,
      "_view_module": "@jupyter-widgets/controls",
      "_view_module_version": "1.5.0",
      "_view_name": "HTMLView",
      "description": "",
      "description_tooltip": null,
      "layout": "IPY_MODEL_7f7f15f3b42d4342b799de11fdab8c28",
      "placeholder": "​",
      "style": "IPY_MODEL_36c468eba6d0461084950695117fffd2",
      "value": " 110M/110M [00:22&lt;00:00, 5.24MB/s]"
     }
    },
    "53f01f3c12cc47f896f34b5334f49600": {
     "model_module": "@jupyter-widgets/controls",
     "model_module_version": "1.5.0",
     "model_name": "ProgressStyleModel",
     "state": {
      "_model_module": "@jupyter-widgets/controls",
      "_model_module_version": "1.5.0",
      "_model_name": "ProgressStyleModel",
      "_view_count": null,
      "_view_module": "@jupyter-widgets/base",
      "_view_module_version": "1.2.0",
      "_view_name": "StyleView",
      "bar_color": null,
      "description_width": "initial"
     }
    },
    "7c3bd2032b8c40c59a79abc2cb981f97": {
     "model_module": "@jupyter-widgets/base",
     "model_module_version": "1.2.0",
     "model_name": "LayoutModel",
     "state": {
      "_model_module": "@jupyter-widgets/base",
      "_model_module_version": "1.2.0",
      "_model_name": "LayoutModel",
      "_view_count": null,
      "_view_module": "@jupyter-widgets/base",
      "_view_module_version": "1.2.0",
      "_view_name": "LayoutView",
      "align_content": null,
      "align_items": null,
      "align_self": null,
      "border": null,
      "bottom": null,
      "display": null,
      "flex": null,
      "flex_flow": null,
      "grid_area": null,
      "grid_auto_columns": null,
      "grid_auto_flow": null,
      "grid_auto_rows": null,
      "grid_column": null,
      "grid_gap": null,
      "grid_row": null,
      "grid_template_areas": null,
      "grid_template_columns": null,
      "grid_template_rows": null,
      "height": null,
      "justify_content": null,
      "justify_items": null,
      "left": null,
      "margin": null,
      "max_height": null,
      "max_width": null,
      "min_height": null,
      "min_width": null,
      "object_fit": null,
      "object_position": null,
      "order": null,
      "overflow": null,
      "overflow_x": null,
      "overflow_y": null,
      "padding": null,
      "right": null,
      "top": null,
      "visibility": null,
      "width": null
     }
    },
    "7f7f15f3b42d4342b799de11fdab8c28": {
     "model_module": "@jupyter-widgets/base",
     "model_module_version": "1.2.0",
     "model_name": "LayoutModel",
     "state": {
      "_model_module": "@jupyter-widgets/base",
      "_model_module_version": "1.2.0",
      "_model_name": "LayoutModel",
      "_view_count": null,
      "_view_module": "@jupyter-widgets/base",
      "_view_module_version": "1.2.0",
      "_view_name": "LayoutView",
      "align_content": null,
      "align_items": null,
      "align_self": null,
      "border": null,
      "bottom": null,
      "display": null,
      "flex": null,
      "flex_flow": null,
      "grid_area": null,
      "grid_auto_columns": null,
      "grid_auto_flow": null,
      "grid_auto_rows": null,
      "grid_column": null,
      "grid_gap": null,
      "grid_row": null,
      "grid_template_areas": null,
      "grid_template_columns": null,
      "grid_template_rows": null,
      "height": null,
      "justify_content": null,
      "justify_items": null,
      "left": null,
      "margin": null,
      "max_height": null,
      "max_width": null,
      "min_height": null,
      "min_width": null,
      "object_fit": null,
      "object_position": null,
      "order": null,
      "overflow": null,
      "overflow_x": null,
      "overflow_y": null,
      "padding": null,
      "right": null,
      "top": null,
      "visibility": null,
      "width": null
     }
    },
    "eb9769e59ab3434d888e1f18fa69933e": {
     "model_module": "@jupyter-widgets/controls",
     "model_module_version": "1.5.0",
     "model_name": "HBoxModel",
     "state": {
      "_dom_classes": [],
      "_model_module": "@jupyter-widgets/controls",
      "_model_module_version": "1.5.0",
      "_model_name": "HBoxModel",
      "_view_count": null,
      "_view_module": "@jupyter-widgets/controls",
      "_view_module_version": "1.5.0",
      "_view_name": "HBoxView",
      "box_style": "",
      "children": [
       "IPY_MODEL_10eded07a16d4996b0194fa70cffbe88",
       "IPY_MODEL_4a77c9b5196c4a04a4e7e79c63b5952c"
      ],
      "layout": "IPY_MODEL_7c3bd2032b8c40c59a79abc2cb981f97"
     }
    },
    "ed18314d2d6c4c0994069ba09df5f371": {
     "model_module": "@jupyter-widgets/base",
     "model_module_version": "1.2.0",
     "model_name": "LayoutModel",
     "state": {
      "_model_module": "@jupyter-widgets/base",
      "_model_module_version": "1.2.0",
      "_model_name": "LayoutModel",
      "_view_count": null,
      "_view_module": "@jupyter-widgets/base",
      "_view_module_version": "1.2.0",
      "_view_name": "LayoutView",
      "align_content": null,
      "align_items": null,
      "align_self": null,
      "border": null,
      "bottom": null,
      "display": null,
      "flex": null,
      "flex_flow": null,
      "grid_area": null,
      "grid_auto_columns": null,
      "grid_auto_flow": null,
      "grid_auto_rows": null,
      "grid_column": null,
      "grid_gap": null,
      "grid_row": null,
      "grid_template_areas": null,
      "grid_template_columns": null,
      "grid_template_rows": null,
      "height": null,
      "justify_content": null,
      "justify_items": null,
      "left": null,
      "margin": null,
      "max_height": null,
      "max_width": null,
      "min_height": null,
      "min_width": null,
      "object_fit": null,
      "object_position": null,
      "order": null,
      "overflow": null,
      "overflow_x": null,
      "overflow_y": null,
      "padding": null,
      "right": null,
      "top": null,
      "visibility": null,
      "width": null
     }
    }
   }
  }
 },
 "nbformat": 4,
 "nbformat_minor": 4
}
