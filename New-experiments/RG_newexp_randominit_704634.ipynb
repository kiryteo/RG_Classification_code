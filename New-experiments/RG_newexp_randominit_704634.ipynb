{
  "nbformat": 4,
  "nbformat_minor": 0,
  "metadata": {
    "colab": {
      "name": "RG-newexp-randominit-704634.ipynb",
      "provenance": [],
      "collapsed_sections": []
    },
    "kernelspec": {
      "name": "python3",
      "display_name": "Python 3"
    },
    "accelerator": "GPU",
    "widgets": {
      "application/vnd.jupyter.widget-state+json": {
        "12c581cd1c9540e09ecb6dd152baa081": {
          "model_module": "@jupyter-widgets/controls",
          "model_name": "HBoxModel",
          "model_module_version": "1.5.0",
          "state": {
            "_view_name": "HBoxView",
            "_dom_classes": [],
            "_model_name": "HBoxModel",
            "_view_module": "@jupyter-widgets/controls",
            "_model_module_version": "1.5.0",
            "_view_count": null,
            "_view_module_version": "1.5.0",
            "box_style": "",
            "layout": "IPY_MODEL_cd77df2bd12645e4869e89f23b1e0148",
            "_model_module": "@jupyter-widgets/controls",
            "children": [
              "IPY_MODEL_714c207cd58d46218a7a727cc26b7b2d",
              "IPY_MODEL_e38443f3ee004f80947e3844b06485a7"
            ]
          }
        },
        "cd77df2bd12645e4869e89f23b1e0148": {
          "model_module": "@jupyter-widgets/base",
          "model_name": "LayoutModel",
          "model_module_version": "1.2.0",
          "state": {
            "_view_name": "LayoutView",
            "grid_template_rows": null,
            "right": null,
            "justify_content": null,
            "_view_module": "@jupyter-widgets/base",
            "overflow": null,
            "_model_module_version": "1.2.0",
            "_view_count": null,
            "flex_flow": null,
            "width": null,
            "min_width": null,
            "border": null,
            "align_items": null,
            "bottom": null,
            "_model_module": "@jupyter-widgets/base",
            "top": null,
            "grid_column": null,
            "overflow_y": null,
            "overflow_x": null,
            "grid_auto_flow": null,
            "grid_area": null,
            "grid_template_columns": null,
            "flex": null,
            "_model_name": "LayoutModel",
            "justify_items": null,
            "grid_row": null,
            "max_height": null,
            "align_content": null,
            "visibility": null,
            "align_self": null,
            "height": null,
            "min_height": null,
            "padding": null,
            "grid_auto_rows": null,
            "grid_gap": null,
            "max_width": null,
            "order": null,
            "_view_module_version": "1.2.0",
            "grid_template_areas": null,
            "object_position": null,
            "object_fit": null,
            "grid_auto_columns": null,
            "margin": null,
            "display": null,
            "left": null
          }
        },
        "714c207cd58d46218a7a727cc26b7b2d": {
          "model_module": "@jupyter-widgets/controls",
          "model_name": "FloatProgressModel",
          "model_module_version": "1.5.0",
          "state": {
            "_view_name": "ProgressView",
            "style": "IPY_MODEL_13031a22bbc5488fa1f684e709ec9b18",
            "_dom_classes": [],
            "description": "100%",
            "_model_name": "FloatProgressModel",
            "bar_style": "success",
            "max": 115730790,
            "_view_module": "@jupyter-widgets/controls",
            "_model_module_version": "1.5.0",
            "value": 115730790,
            "_view_count": null,
            "_view_module_version": "1.5.0",
            "orientation": "horizontal",
            "min": 0,
            "description_tooltip": null,
            "_model_module": "@jupyter-widgets/controls",
            "layout": "IPY_MODEL_64fccc170bfe46ea94c9cca64db41c20"
          }
        },
        "e38443f3ee004f80947e3844b06485a7": {
          "model_module": "@jupyter-widgets/controls",
          "model_name": "HTMLModel",
          "model_module_version": "1.5.0",
          "state": {
            "_view_name": "HTMLView",
            "style": "IPY_MODEL_b680cc39e8d6434daf5af6aa3c93d1d2",
            "_dom_classes": [],
            "description": "",
            "_model_name": "HTMLModel",
            "placeholder": "​",
            "_view_module": "@jupyter-widgets/controls",
            "_model_module_version": "1.5.0",
            "value": " 110M/110M [00:13&lt;00:00, 8.80MB/s]",
            "_view_count": null,
            "_view_module_version": "1.5.0",
            "description_tooltip": null,
            "_model_module": "@jupyter-widgets/controls",
            "layout": "IPY_MODEL_bd019f1f366044b0afebfc3456dda026"
          }
        },
        "13031a22bbc5488fa1f684e709ec9b18": {
          "model_module": "@jupyter-widgets/controls",
          "model_name": "ProgressStyleModel",
          "model_module_version": "1.5.0",
          "state": {
            "_view_name": "StyleView",
            "_model_name": "ProgressStyleModel",
            "description_width": "initial",
            "_view_module": "@jupyter-widgets/base",
            "_model_module_version": "1.5.0",
            "_view_count": null,
            "_view_module_version": "1.2.0",
            "bar_color": null,
            "_model_module": "@jupyter-widgets/controls"
          }
        },
        "64fccc170bfe46ea94c9cca64db41c20": {
          "model_module": "@jupyter-widgets/base",
          "model_name": "LayoutModel",
          "model_module_version": "1.2.0",
          "state": {
            "_view_name": "LayoutView",
            "grid_template_rows": null,
            "right": null,
            "justify_content": null,
            "_view_module": "@jupyter-widgets/base",
            "overflow": null,
            "_model_module_version": "1.2.0",
            "_view_count": null,
            "flex_flow": null,
            "width": null,
            "min_width": null,
            "border": null,
            "align_items": null,
            "bottom": null,
            "_model_module": "@jupyter-widgets/base",
            "top": null,
            "grid_column": null,
            "overflow_y": null,
            "overflow_x": null,
            "grid_auto_flow": null,
            "grid_area": null,
            "grid_template_columns": null,
            "flex": null,
            "_model_name": "LayoutModel",
            "justify_items": null,
            "grid_row": null,
            "max_height": null,
            "align_content": null,
            "visibility": null,
            "align_self": null,
            "height": null,
            "min_height": null,
            "padding": null,
            "grid_auto_rows": null,
            "grid_gap": null,
            "max_width": null,
            "order": null,
            "_view_module_version": "1.2.0",
            "grid_template_areas": null,
            "object_position": null,
            "object_fit": null,
            "grid_auto_columns": null,
            "margin": null,
            "display": null,
            "left": null
          }
        },
        "b680cc39e8d6434daf5af6aa3c93d1d2": {
          "model_module": "@jupyter-widgets/controls",
          "model_name": "DescriptionStyleModel",
          "model_module_version": "1.5.0",
          "state": {
            "_view_name": "StyleView",
            "_model_name": "DescriptionStyleModel",
            "description_width": "",
            "_view_module": "@jupyter-widgets/base",
            "_model_module_version": "1.5.0",
            "_view_count": null,
            "_view_module_version": "1.2.0",
            "_model_module": "@jupyter-widgets/controls"
          }
        },
        "bd019f1f366044b0afebfc3456dda026": {
          "model_module": "@jupyter-widgets/base",
          "model_name": "LayoutModel",
          "model_module_version": "1.2.0",
          "state": {
            "_view_name": "LayoutView",
            "grid_template_rows": null,
            "right": null,
            "justify_content": null,
            "_view_module": "@jupyter-widgets/base",
            "overflow": null,
            "_model_module_version": "1.2.0",
            "_view_count": null,
            "flex_flow": null,
            "width": null,
            "min_width": null,
            "border": null,
            "align_items": null,
            "bottom": null,
            "_model_module": "@jupyter-widgets/base",
            "top": null,
            "grid_column": null,
            "overflow_y": null,
            "overflow_x": null,
            "grid_auto_flow": null,
            "grid_area": null,
            "grid_template_columns": null,
            "flex": null,
            "_model_name": "LayoutModel",
            "justify_items": null,
            "grid_row": null,
            "max_height": null,
            "align_content": null,
            "visibility": null,
            "align_self": null,
            "height": null,
            "min_height": null,
            "padding": null,
            "grid_auto_rows": null,
            "grid_gap": null,
            "max_width": null,
            "order": null,
            "_view_module_version": "1.2.0",
            "grid_template_areas": null,
            "object_position": null,
            "object_fit": null,
            "grid_auto_columns": null,
            "margin": null,
            "display": null,
            "left": null
          }
        }
      }
    }
  },
  "cells": [
    {
      "cell_type": "code",
      "metadata": {
        "id": "yHgVRK94JqWP",
        "colab": {
          "base_uri": "https://localhost:8080/"
        },
        "outputId": "00712415-1af3-4337-f60e-88ed0b7920a2"
      },
      "source": [
        "from google.colab import drive\n",
        "drive.mount(\"/content/drive\")"
      ],
      "execution_count": null,
      "outputs": [
        {
          "output_type": "stream",
          "text": [
            "Mounted at /content/drive\n"
          ],
          "name": "stdout"
        }
      ]
    },
    {
      "cell_type": "code",
      "metadata": {
        "id": "ce8rKapgKBUo",
        "colab": {
          "base_uri": "https://localhost:8080/"
        },
        "outputId": "09d94e1e-a60c-4bbf-c972-43bc5e8ab313"
      },
      "source": [
        "%cd drive/My\\ Drive"
      ],
      "execution_count": null,
      "outputs": [
        {
          "output_type": "stream",
          "text": [
            "/content/drive/My Drive\n"
          ],
          "name": "stdout"
        }
      ]
    },
    {
      "cell_type": "code",
      "metadata": {
        "id": "u7bl0AIpKLrm"
      },
      "source": [
        "%reload_ext autoreload\n",
        "%autoreload 2\n",
        "%matplotlib inline"
      ],
      "execution_count": null,
      "outputs": []
    },
    {
      "cell_type": "code",
      "metadata": {
        "id": "HXmdg2y2Krrm"
      },
      "source": [
        "#!pip3 install torch===1.2.0 torchvision===0.4.0 -f https://download.pytorch.org/whl/torch_stable.html\n",
        "!#pip install typeguard"
      ],
      "execution_count": null,
      "outputs": []
    },
    {
      "cell_type": "code",
      "metadata": {
        "id": "dYACQfy7K75a",
        "colab": {
          "base_uri": "https://localhost:8080/"
        },
        "outputId": "6fef3e27-0da8-46c8-9f4f-e0e161d28f46"
      },
      "source": [
        "import random\n",
        "seeds = random.sample(range(0, 10000), 10)\n",
        "seeds"
      ],
      "execution_count": null,
      "outputs": [
        {
          "output_type": "execute_result",
          "data": {
            "text/plain": [
              "[7138, 9626, 7046, 436, 2707, 9999, 8453, 327, 6684, 1001]"
            ]
          },
          "metadata": {
            "tags": []
          },
          "execution_count": 6
        }
      ]
    },
    {
      "cell_type": "code",
      "metadata": {
        "id": "OwKnk6-NRugY"
      },
      "source": [
        "seeds = [7138, 962, 704634, 436, 27, 9999, 8453, 327, 6684, 1001]"
      ],
      "execution_count": null,
      "outputs": []
    },
    {
      "cell_type": "code",
      "metadata": {
        "id": "cfHJ3SYwKtXJ"
      },
      "source": [
        "from fastai import *\n",
        "from fastai.vision import *\n",
        "import random\n",
        "bs = 32\n",
        "random.seed(704634)"
      ],
      "execution_count": null,
      "outputs": []
    },
    {
      "cell_type": "code",
      "metadata": {
        "id": "tpGZj5VAMxKL",
        "colab": {
          "base_uri": "https://localhost:8080/"
        },
        "outputId": "dd67b4c0-4f3a-495e-a21b-4d838b27f5cd"
      },
      "source": [
        "%cd orig"
      ],
      "execution_count": null,
      "outputs": [
        {
          "output_type": "stream",
          "text": [
            "/content/drive/My Drive/orig\n"
          ],
          "name": "stdout"
        }
      ]
    },
    {
      "cell_type": "code",
      "metadata": {
        "id": "Dzz9BDyKMcNh"
      },
      "source": [
        "#!unzip 'data-orig.zip'"
      ],
      "execution_count": null,
      "outputs": []
    },
    {
      "cell_type": "code",
      "metadata": {
        "id": "kBZNCp8wKyeU",
        "colab": {
          "base_uri": "https://localhost:8080/"
        },
        "outputId": "8fcf6df0-b305-4fbd-c5ca-fe16d10a508a"
      },
      "source": [
        "path_img = Path('data')## Loading data \n",
        "#data = ImageDataBunch.from_folder(path=path_img, train='train', valid='valid', ds_tfms=get_transforms(),size=224, bs=bs), check_ext=False)## Normalizing data based on Image net parameters\n",
        "data = ImageDataBunch.from_folder(path=path_img, train='train', valid='valid', ds_tfms=get_transforms(),size=224, bs=bs)\n",
        "data.normalize(imagenet_stats)"
      ],
      "execution_count": null,
      "outputs": [
        {
          "output_type": "stream",
          "text": [
            "/usr/local/lib/python3.7/dist-packages/fastai/vision/transform.py:247: UserWarning: torch.solve is deprecated in favor of torch.linalg.solveand will be removed in a future PyTorch release.\n",
            "torch.linalg.solve has its arguments reversed and does not return the LU factorization.\n",
            "To get the LU factorization see torch.lu, which can be used with torch.lu_solve or torch.lu_unpack.\n",
            "X = torch.solve(B, A).solution\n",
            "should be replaced with\n",
            "X = torch.linalg.solve(A, B) (Triggered internally at  /pytorch/aten/src/ATen/native/BatchLinearAlgebra.cpp:760.)\n",
            "  return _solve_func(B,A)[0][:,0]\n"
          ],
          "name": "stderr"
        },
        {
          "output_type": "execute_result",
          "data": {
            "text/plain": [
              "ImageDataBunch;\n",
              "\n",
              "Train: LabelList (1180 items)\n",
              "x: ImageList\n",
              "Image (3, 224, 224),Image (3, 224, 224),Image (3, 224, 224),Image (3, 224, 224),Image (3, 224, 224)\n",
              "y: CategoryList\n",
              "Bent,Bent,Bent,Bent,Bent\n",
              "Path: data;\n",
              "\n",
              "Valid: LabelList (398 items)\n",
              "x: ImageList\n",
              "Image (3, 224, 224),Image (3, 224, 224),Image (3, 224, 224),Image (3, 224, 224),Image (3, 224, 224)\n",
              "y: CategoryList\n",
              "Bent,Bent,Bent,Bent,Bent\n",
              "Path: data;\n",
              "\n",
              "Test: None"
            ]
          },
          "metadata": {
            "tags": []
          },
          "execution_count": 7
        }
      ]
    },
    {
      "cell_type": "code",
      "metadata": {
        "id": "M_2LrTZ1LLQm",
        "colab": {
          "base_uri": "https://localhost:8080/",
          "height": 441
        },
        "outputId": "4ac66c0d-3208-463b-80f2-35f346cad873"
      },
      "source": [
        "data.show_batch(rows=3, figsize=(8,6))"
      ],
      "execution_count": null,
      "outputs": [
        {
          "output_type": "display_data",
          "data": {
            "image/png": "[encoded data removed]",
            "text/plain": [
              "<Figure size 576x432 with 9 Axes>"
            ]
          },
          "metadata": {
            "tags": [],
            "needs_background": "light"
          }
        }
      ]
    },
    {
      "cell_type": "code",
      "metadata": {
        "id": "Bo98IzraNNV8",
        "colab": {
          "base_uri": "https://localhost:8080/",
          "height": 138,
          "referenced_widgets": [
            "12c581cd1c9540e09ecb6dd152baa081",
            "cd77df2bd12645e4869e89f23b1e0148",
            "714c207cd58d46218a7a727cc26b7b2d",
            "e38443f3ee004f80947e3844b06485a7",
            "13031a22bbc5488fa1f684e709ec9b18",
            "64fccc170bfe46ea94c9cca64db41c20",
            "b680cc39e8d6434daf5af6aa3c93d1d2",
            "bd019f1f366044b0afebfc3456dda026"
          ]
        },
        "outputId": "9b10a2db-3448-4d78-8272-b2e5ce0a31bc"
      },
      "source": [
        "learn = cnn_learner(data, models.densenet161, metrics=accuracy)\n",
        "learn.freeze()"
      ],
      "execution_count": null,
      "outputs": [
        {
          "output_type": "stream",
          "text": [
            "Downloading: \"https://download.pytorch.org/models/densenet161-8d451a50.pth\" to /root/.cache/torch/hub/checkpoints/densenet161-8d451a50.pth\n"
          ],
          "name": "stderr"
        },
        {
          "output_type": "display_data",
          "data": {
            "application/vnd.jupyter.widget-view+json": {
              "model_id": "12c581cd1c9540e09ecb6dd152baa081",
              "version_minor": 0,
              "version_major": 2
            },
            "text/plain": [
              "HBox(children=(FloatProgress(value=0.0, max=115730790.0), HTML(value='')))"
            ]
          },
          "metadata": {
            "tags": []
          }
        },
        {
          "output_type": "stream",
          "text": [
            "\n"
          ],
          "name": "stdout"
        },
        {
          "output_type": "stream",
          "text": [
            "/usr/local/lib/python3.7/dist-packages/torch/nn/functional.py:718: UserWarning: Named tensors and all their associated APIs are an experimental feature and subject to change. Please do not use them for anything important until they are released as stable. (Triggered internally at  /pytorch/c10/core/TensorImpl.h:1156.)\n",
            "  return torch.max_pool2d(input, kernel_size, stride, padding, dilation, ceil_mode)\n"
          ],
          "name": "stderr"
        }
      ]
    },
    {
      "cell_type": "code",
      "metadata": {
        "id": "4IWYoKauNRI1",
        "colab": {
          "base_uri": "https://localhost:8080/",
          "height": 438
        },
        "outputId": "15b64d37-1172-43f6-8e4d-973c688385aa"
      },
      "source": [
        "# init 704634\n",
        "learn.lr_find(start_lr=1e-6, end_lr=1e1, wd=5e-3)\n",
        "learn.recorder.plot()"
      ],
      "execution_count": null,
      "outputs": [
        {
          "output_type": "display_data",
          "data": {
            "text/html": [
              "\n",
              "    <div>\n",
              "        <style>\n",
              "            /* Turns off some styling */\n",
              "            progress {\n",
              "                /* gets rid of default border in Firefox and Opera. */\n",
              "                border: none;\n",
              "                /* Needs to be in here for Safari polyfill so background images work as expected. */\n",
              "                background-size: auto;\n",
              "            }\n",
              "            .progress-bar-interrupted, .progress-bar-interrupted::-webkit-progress-bar {\n",
              "                background: #F44336;\n",
              "            }\n",
              "        </style>\n",
              "      <progress value='2' class='' max='3' style='width:300px; height:20px; vertical-align: middle;'></progress>\n",
              "      66.67% [2/3 03:18<01:39]\n",
              "    </div>\n",
              "    \n",
              "<table border=\"1\" class=\"dataframe\">\n",
              "  <thead>\n",
              "    <tr style=\"text-align: left;\">\n",
              "      <th>epoch</th>\n",
              "      <th>train_loss</th>\n",
              "      <th>valid_loss</th>\n",
              "      <th>accuracy</th>\n",
              "      <th>time</th>\n",
              "    </tr>\n",
              "  </thead>\n",
              "  <tbody>\n",
              "    <tr>\n",
              "      <td>0</td>\n",
              "      <td>2.111540</td>\n",
              "      <td>#na#</td>\n",
              "      <td>02:57</td>\n",
              "    </tr>\n",
              "    <tr>\n",
              "      <td>1</td>\n",
              "      <td>1.710108</td>\n",
              "      <td>#na#</td>\n",
              "      <td>00:20</td>\n",
              "    </tr>\n",
              "  </tbody>\n",
              "</table><p>\n",
              "\n",
              "    <div>\n",
              "        <style>\n",
              "            /* Turns off some styling */\n",
              "            progress {\n",
              "                /* gets rid of default border in Firefox and Opera. */\n",
              "                border: none;\n",
              "                /* Needs to be in here for Safari polyfill so background images work as expected. */\n",
              "                background-size: auto;\n",
              "            }\n",
              "            .progress-bar-interrupted, .progress-bar-interrupted::-webkit-progress-bar {\n",
              "                background: #F44336;\n",
              "            }\n",
              "        </style>\n",
              "      <progress value='15' class='' max='36' style='width:300px; height:20px; vertical-align: middle;'></progress>\n",
              "      41.67% [15/36 00:08<00:12 6.6812]\n",
              "    </div>\n",
              "    "
            ],
            "text/plain": [
              "<IPython.core.display.HTML object>"
            ]
          },
          "metadata": {
            "tags": []
          }
        },
        {
          "output_type": "stream",
          "text": [
            "LR Finder is complete, type {learner_name}.recorder.plot() to see the graph.\n"
          ],
          "name": "stdout"
        },
        {
          "output_type": "display_data",
          "data": {
            "image/png": "[encoded data removed]",
            "text/plain": [
              "<Figure size 432x288 with 1 Axes>"
            ]
          },
          "metadata": {
            "tags": [],
            "needs_background": "light"
          }
        }
      ]
    },
    {
      "cell_type": "code",
      "metadata": {
        "colab": {
          "base_uri": "https://localhost:8080/",
          "height": 343
        },
        "id": "vMvA0lvFRen6",
        "outputId": "723ed605-56ae-48d7-aff2-7a2de51cb838"
      },
      "source": [
        "# init 704634\n",
        "learn.fit_one_cycle(1, max_lr=slice(1e-4,1e-2))\n",
        "learn.recorder.plot_losses()"
      ],
      "execution_count": null,
      "outputs": [
        {
          "output_type": "display_data",
          "data": {
            "text/html": [
              "<table border=\"1\" class=\"dataframe\">\n",
              "  <thead>\n",
              "    <tr style=\"text-align: left;\">\n",
              "      <th>epoch</th>\n",
              "      <th>train_loss</th>\n",
              "      <th>valid_loss</th>\n",
              "      <th>accuracy</th>\n",
              "      <th>time</th>\n",
              "    </tr>\n",
              "  </thead>\n",
              "  <tbody>\n",
              "    <tr>\n",
              "      <td>0</td>\n",
              "      <td>1.485886</td>\n",
              "      <td>1.022958</td>\n",
              "      <td>0.603015</td>\n",
              "      <td>01:17</td>\n",
              "    </tr>\n",
              "  </tbody>\n",
              "</table>"
            ],
            "text/plain": [
              "<IPython.core.display.HTML object>"
            ]
          },
          "metadata": {
            "tags": []
          }
        },
        {
          "output_type": "display_data",
          "data": {
            "image/png": "[encoded data removed]",
            "text/plain": [
              "<Figure size 432x288 with 1 Axes>"
            ]
          },
          "metadata": {
            "tags": [],
            "needs_background": "light"
          }
        }
      ]
    },
    {
      "cell_type": "code",
      "metadata": {
        "id": "GvLAozwwOxvJ",
        "colab": {
          "base_uri": "https://localhost:8080/",
          "height": 439
        },
        "outputId": "0077e67b-3fb7-43ff-d9c0-1a1899cf769a"
      },
      "source": [
        "# init 704634\n",
        "learn.unfreeze()\n",
        "learn.lr_find(start_lr=slice(1e-6, 1e-5), end_lr=slice(1e-2, 1e-1), wd=1e-3)\n",
        "learn.recorder.plot()"
      ],
      "execution_count": null,
      "outputs": [
        {
          "output_type": "display_data",
          "data": {
            "text/html": [
              "\n",
              "    <div>\n",
              "        <style>\n",
              "            /* Turns off some styling */\n",
              "            progress {\n",
              "                /* gets rid of default border in Firefox and Opera. */\n",
              "                border: none;\n",
              "                /* Needs to be in here for Safari polyfill so background images work as expected. */\n",
              "                background-size: auto;\n",
              "            }\n",
              "            .progress-bar-interrupted, .progress-bar-interrupted::-webkit-progress-bar {\n",
              "                background: #F44336;\n",
              "            }\n",
              "        </style>\n",
              "      <progress value='2' class='' max='3' style='width:300px; height:20px; vertical-align: middle;'></progress>\n",
              "      66.67% [2/3 00:57<00:28]\n",
              "    </div>\n",
              "    \n",
              "<table border=\"1\" class=\"dataframe\">\n",
              "  <thead>\n",
              "    <tr style=\"text-align: left;\">\n",
              "      <th>epoch</th>\n",
              "      <th>train_loss</th>\n",
              "      <th>valid_loss</th>\n",
              "      <th>accuracy</th>\n",
              "      <th>time</th>\n",
              "    </tr>\n",
              "  </thead>\n",
              "  <tbody>\n",
              "    <tr>\n",
              "      <td>0</td>\n",
              "      <td>0.967640</td>\n",
              "      <td>#na#</td>\n",
              "      <td>00:30</td>\n",
              "    </tr>\n",
              "    <tr>\n",
              "      <td>1</td>\n",
              "      <td>0.924510</td>\n",
              "      <td>#na#</td>\n",
              "      <td>00:27</td>\n",
              "    </tr>\n",
              "  </tbody>\n",
              "</table><p>\n",
              "\n",
              "    <div>\n",
              "        <style>\n",
              "            /* Turns off some styling */\n",
              "            progress {\n",
              "                /* gets rid of default border in Firefox and Opera. */\n",
              "                border: none;\n",
              "                /* Needs to be in here for Safari polyfill so background images work as expected. */\n",
              "                background-size: auto;\n",
              "            }\n",
              "            .progress-bar-interrupted, .progress-bar-interrupted::-webkit-progress-bar {\n",
              "                background: #F44336;\n",
              "            }\n",
              "        </style>\n",
              "      <progress value='27' class='' max='36' style='width:300px; height:20px; vertical-align: middle;'></progress>\n",
              "      75.00% [27/36 00:20<00:06 1.3528]\n",
              "    </div>\n",
              "    "
            ],
            "text/plain": [
              "<IPython.core.display.HTML object>"
            ]
          },
          "metadata": {
            "tags": []
          }
        },
        {
          "output_type": "stream",
          "text": [
            "LR Finder is complete, type {learner_name}.recorder.plot() to see the graph.\n"
          ],
          "name": "stdout"
        },
        {
          "output_type": "display_data",
          "data": {
            "image/png": "[encoded data removed]",
            "text/plain": [
              "<Figure size 432x288 with 1 Axes>"
            ]
          },
          "metadata": {
            "tags": [],
            "needs_background": "light"
          }
        }
      ]
    },
    {
      "cell_type": "code",
      "metadata": {
        "id": "9OGJcGtAPLlp"
      },
      "source": [
        "# init 7138\n",
        "learn.fit_one_cycle(3, max_lr=slice(2e-4, 1e-2), div_factor=50, final_div=100, wd=1e-4, moms=(0.9, 0.8))\n",
        "learn.recorder.plot_losses()\n",
        "# schedule of the lr (left) and momentum (right) that the 1cycle policy uses\n",
        "learn.recorder.plot_lr(show_moms=True)\n",
        "learn.recorder.plot_metrics()"
      ],
      "execution_count": null,
      "outputs": []
    },
    {
      "cell_type": "code",
      "metadata": {
        "id": "G-LZ65OdQAfU",
        "colab": {
          "base_uri": "https://localhost:8080/",
          "height": 1000
        },
        "outputId": "d5bde3c9-6fe2-49c0-e336-72017c9c682e"
      },
      "source": [
        "# init 704634\n",
        "learn.fit_one_cycle(cyc_len=10, max_lr=slice(2e-4, 1e-2), pct_start=0, final_div=1000, wd=1e-3, moms=(0.9, 0.8)) # warm restart: pct_start=0\n",
        "#learn.save('stage-3')\n",
        "learn.recorder.plot_losses()\n",
        "# # schedule of the lr (left) and momentum (right) that the 1cycle policy uses\n",
        "learn.recorder.plot_lr(show_moms=True)\n",
        "learn.recorder.plot_metrics()"
      ],
      "execution_count": null,
      "outputs": [
        {
          "output_type": "display_data",
          "data": {
            "text/html": [
              "<table border=\"1\" class=\"dataframe\">\n",
              "  <thead>\n",
              "    <tr style=\"text-align: left;\">\n",
              "      <th>epoch</th>\n",
              "      <th>train_loss</th>\n",
              "      <th>valid_loss</th>\n",
              "      <th>accuracy</th>\n",
              "      <th>time</th>\n",
              "    </tr>\n",
              "  </thead>\n",
              "  <tbody>\n",
              "    <tr>\n",
              "      <td>0</td>\n",
              "      <td>0.858032</td>\n",
              "      <td>160.812424</td>\n",
              "      <td>0.319095</td>\n",
              "      <td>00:31</td>\n",
              "    </tr>\n",
              "    <tr>\n",
              "      <td>1</td>\n",
              "      <td>1.011882</td>\n",
              "      <td>10.153806</td>\n",
              "      <td>0.371859</td>\n",
              "      <td>00:30</td>\n",
              "    </tr>\n",
              "    <tr>\n",
              "      <td>2</td>\n",
              "      <td>0.916670</td>\n",
              "      <td>1.190347</td>\n",
              "      <td>0.743719</td>\n",
              "      <td>00:30</td>\n",
              "    </tr>\n",
              "    <tr>\n",
              "      <td>3</td>\n",
              "      <td>0.733144</td>\n",
              "      <td>1.248661</td>\n",
              "      <td>0.590452</td>\n",
              "      <td>00:30</td>\n",
              "    </tr>\n",
              "    <tr>\n",
              "      <td>4</td>\n",
              "      <td>0.582307</td>\n",
              "      <td>0.703296</td>\n",
              "      <td>0.788945</td>\n",
              "      <td>00:30</td>\n",
              "    </tr>\n",
              "    <tr>\n",
              "      <td>5</td>\n",
              "      <td>0.504027</td>\n",
              "      <td>0.367065</td>\n",
              "      <td>0.871859</td>\n",
              "      <td>00:30</td>\n",
              "    </tr>\n",
              "    <tr>\n",
              "      <td>6</td>\n",
              "      <td>0.437915</td>\n",
              "      <td>0.352700</td>\n",
              "      <td>0.859297</td>\n",
              "      <td>00:30</td>\n",
              "    </tr>\n",
              "    <tr>\n",
              "      <td>7</td>\n",
              "      <td>0.371648</td>\n",
              "      <td>0.313673</td>\n",
              "      <td>0.876884</td>\n",
              "      <td>00:30</td>\n",
              "    </tr>\n",
              "    <tr>\n",
              "      <td>8</td>\n",
              "      <td>0.331887</td>\n",
              "      <td>0.304556</td>\n",
              "      <td>0.879397</td>\n",
              "      <td>00:30</td>\n",
              "    </tr>\n",
              "    <tr>\n",
              "      <td>9</td>\n",
              "      <td>0.316845</td>\n",
              "      <td>0.315631</td>\n",
              "      <td>0.879397</td>\n",
              "      <td>00:30</td>\n",
              "    </tr>\n",
              "  </tbody>\n",
              "</table>"
            ],
            "text/plain": [
              "<IPython.core.display.HTML object>"
            ]
          },
          "metadata": {
            "tags": []
          }
        },
        {
          "output_type": "display_data",
          "data": {
            "image/png": "[encoded data removed]",
            "text/plain": [
              "<Figure size 432x288 with 1 Axes>"
            ]
          },
          "metadata": {
            "tags": [],
            "needs_background": "light"
          }
        },
        {
          "output_type": "display_data",
          "data": {
            "image/png": "[encoded data removed]",
            "text/plain": [
              "<Figure size 864x288 with 2 Axes>"
            ]
          },
          "metadata": {
            "tags": [],
            "needs_background": "light"
          }
        },
        {
          "output_type": "display_data",
          "data": {
            "image/png": "[encoded data removed]",
            "text/plain": [
              "<Figure size 432x288 with 1 Axes>"
            ]
          },
          "metadata": {
            "tags": [],
            "needs_background": "light"
          }
        }
      ]
    },
    {
      "cell_type": "code",
      "metadata": {
        "id": "oNsNLJcSRVyr"
      },
      "source": [
        "learn.save('rg-init-704634')"
      ],
      "execution_count": null,
      "outputs": []
    },
    {
      "cell_type": "code",
      "metadata": {
        "id": "wmoeEy-OUgn9",
        "colab": {
          "base_uri": "https://localhost:8080/",
          "height": 17
        },
        "outputId": "7af63bd2-b125-4e70-ae9f-8e5e9250aba7"
      },
      "source": [
        "learn.load('rg-init-704634')\n",
        "interp = ClassificationInterpretation.from_learner(learn)"
      ],
      "execution_count": null,
      "outputs": [
        {
          "output_type": "display_data",
          "data": {
            "text/html": [
              ""
            ],
            "text/plain": [
              "<IPython.core.display.HTML object>"
            ]
          },
          "metadata": {
            "tags": []
          }
        }
      ]
    },
    {
      "cell_type": "code",
      "metadata": {
        "id": "qg5B9_ZeUl0-",
        "colab": {
          "base_uri": "https://localhost:8080/",
          "height": 523
        },
        "outputId": "eee22bf9-0e1c-4693-f09e-3735393861bb"
      },
      "source": [
        "interp.plot_top_losses(9, figsize=(8,8))"
      ],
      "execution_count": null,
      "outputs": [
        {
          "output_type": "display_data",
          "data": {
            "image/png": "[encoded data removed]",
            "text/plain": [
              "<Figure size 576x576 with 9 Axes>"
            ]
          },
          "metadata": {
            "tags": [],
            "needs_background": "light"
          }
        }
      ]
    },
    {
      "cell_type": "code",
      "metadata": {
        "id": "2HDSbjItUuZs",
        "colab": {
          "base_uri": "https://localhost:8080/"
        },
        "outputId": "e573f2a9-f345-40bc-e08f-26980d599b70"
      },
      "source": [
        "losses, indexes = interp.top_losses(30)\n",
        "\n",
        "top_loss_paths = data.valid_ds.x.items[indexes]\n",
        "\n",
        "print(top_loss_paths)"
      ],
      "execution_count": null,
      "outputs": [
        {
          "output_type": "stream",
          "text": [
            "[PosixPath('data/valid/FRII/J151108.76+180153.2.jpeg') PosixPath('data/valid/FRI/J143521.30-024051.7.jpg')\n",
            " PosixPath('data/valid/FRI/J141104.33-030043.3.jpeg') PosixPath('data/valid/FRII/J144808.61+163439.5.jpg')\n",
            " PosixPath('data/valid/FRI/J143410.56+013646.9.jpg') PosixPath('data/valid/FRII/J145423.44+162119.0.jpg')\n",
            " PosixPath('data/valid/FRI/J111634.70+291520.5.jpg') PosixPath('data/valid/FRI/J143848.86+004059.2.jpg')\n",
            " PosixPath('data/valid/FRI/J143825.92-010001.5.jpg') PosixPath('data/valid/FRI/J140956.99-012104.7.jpeg')\n",
            " PosixPath('data/valid/FRI/J143346.68-022322.5.jpg') PosixPath('data/valid/FRI/J073719.17+292932.1.jpg')\n",
            " PosixPath('data/valid/FRI/J122156.17+020450.9.jpg') PosixPath('data/valid/FRI/J140310.68+393949.8.jpeg')\n",
            " PosixPath('data/valid/Bent/J130700.10-063124.4.jpg') PosixPath('data/valid/FRII/J114433.00+213217.0.jpg')\n",
            " PosixPath('data/valid/FRII/J153007.96+231616.0.jpg') PosixPath('data/valid/FRII/J144919.01+210548.0.jpg')\n",
            " PosixPath('data/valid/FRI/J140215.22+231803.7.jpeg') PosixPath('data/valid/Compact/J143657.07+032412.3.jpg')\n",
            " PosixPath('data/valid/FRII/J153220.80+061153.5.jpeg') PosixPath('data/valid/FRI/J132321.05+030802.8.jpeg')\n",
            " PosixPath('data/valid/FRII/J145942.07+290334.1.jpg') PosixPath('data/valid/FRI/J121332.93+072517.0.jpg')\n",
            " PosixPath('data/valid/FRII/J083112.14+434158.4.jpeg') PosixPath('data/valid/FRI/J112457.40+171744.7.jpg')\n",
            " PosixPath('data/valid/Bent/J143448.92-021509.4.jpg') PosixPath('data/valid/Bent/J122504.53+125305.9.jpg')\n",
            " PosixPath('data/valid/Bent/J080431.42+192212.9.jpg') PosixPath('data/valid/FRI/J123629.12+163232.1.jpg')]\n"
          ],
          "name": "stdout"
        }
      ]
    },
    {
      "cell_type": "code",
      "metadata": {
        "id": "JEJJ-Yk1UriL",
        "colab": {
          "base_uri": "https://localhost:8080/"
        },
        "outputId": "4894631e-e521-4daa-9022-e5fdc00f98b0"
      },
      "source": [
        "losses, indexes = interp.top_losses(30)\n",
        "\n",
        "top_loss_paths = data.valid_ds.x.items[indexes]\n",
        "\n",
        "print(top_loss_paths)"
      ],
      "execution_count": null,
      "outputs": [
        {
          "output_type": "stream",
          "text": [
            "[PosixPath('data/valid/FRII/J151108.76+180153.2.jpeg') PosixPath('data/valid/FRI/J143521.30-024051.7.jpg')\n",
            " PosixPath('data/valid/FRI/J141104.33-030043.3.jpeg') PosixPath('data/valid/FRII/J144808.61+163439.5.jpg')\n",
            " PosixPath('data/valid/FRI/J143410.56+013646.9.jpg') PosixPath('data/valid/FRII/J145423.44+162119.0.jpg')\n",
            " PosixPath('data/valid/FRI/J111634.70+291520.5.jpg') PosixPath('data/valid/FRI/J143848.86+004059.2.jpg')\n",
            " PosixPath('data/valid/FRI/J143825.92-010001.5.jpg') PosixPath('data/valid/FRI/J140956.99-012104.7.jpeg')\n",
            " PosixPath('data/valid/FRI/J143346.68-022322.5.jpg') PosixPath('data/valid/FRI/J073719.17+292932.1.jpg')\n",
            " PosixPath('data/valid/FRI/J122156.17+020450.9.jpg') PosixPath('data/valid/FRI/J140310.68+393949.8.jpeg')\n",
            " PosixPath('data/valid/Bent/J130700.10-063124.4.jpg') PosixPath('data/valid/FRII/J114433.00+213217.0.jpg')\n",
            " PosixPath('data/valid/FRII/J153007.96+231616.0.jpg') PosixPath('data/valid/FRII/J144919.01+210548.0.jpg')\n",
            " PosixPath('data/valid/FRI/J140215.22+231803.7.jpeg') PosixPath('data/valid/Compact/J143657.07+032412.3.jpg')\n",
            " PosixPath('data/valid/FRII/J153220.80+061153.5.jpeg') PosixPath('data/valid/FRI/J132321.05+030802.8.jpeg')\n",
            " PosixPath('data/valid/FRII/J145942.07+290334.1.jpg') PosixPath('data/valid/FRI/J121332.93+072517.0.jpg')\n",
            " PosixPath('data/valid/FRII/J083112.14+434158.4.jpeg') PosixPath('data/valid/FRI/J112457.40+171744.7.jpg')\n",
            " PosixPath('data/valid/Bent/J143448.92-021509.4.jpg') PosixPath('data/valid/Bent/J122504.53+125305.9.jpg')\n",
            " PosixPath('data/valid/Bent/J080431.42+192212.9.jpg') PosixPath('data/valid/FRI/J123629.12+163232.1.jpg')]\n"
          ],
          "name": "stdout"
        }
      ]
    },
    {
      "cell_type": "code",
      "metadata": {
        "id": "b40niYx9Uv8h",
        "colab": {
          "base_uri": "https://localhost:8080/",
          "height": 743
        },
        "outputId": "aa67dd5e-a972-45f3-f63d-411e2a745126"
      },
      "source": [
        "interp.plot_confusion_matrix(figsize=(10,10))"
      ],
      "execution_count": null,
      "outputs": [
        {
          "output_type": "display_data",
          "data": {
            "image/png": "[encoded data removed]",
            "text/plain": [
              "<Figure size 720x720 with 1 Axes>"
            ]
          },
          "metadata": {
            "tags": [],
            "needs_background": "light"
          }
        }
      ]
    },
    {
      "cell_type": "code",
      "metadata": {
        "id": "3eLXRarBUz6A",
        "colab": {
          "base_uri": "https://localhost:8080/"
        },
        "outputId": "29a934e5-6744-4c34-a6db-512d4fa6766a"
      },
      "source": [
        "path_img = Path('data')## Loading data \n",
        "#data = ImageDataBunch.from_folder(path=path_img, train='train', valid='valid', ds_tfms=get_transforms(),size=224, bs=bs), check_ext=False)## Normalizing data based on Image net parameters\n",
        "data = ImageDataBunch.from_folder(path=path_img, train='train', valid='test', ds_tfms=get_transforms(),size=224, bs=bs)\n",
        "data.normalize(imagenet_stats)"
      ],
      "execution_count": null,
      "outputs": [
        {
          "output_type": "execute_result",
          "data": {
            "text/plain": [
              "ImageDataBunch;\n",
              "\n",
              "Train: LabelList (1180 items)\n",
              "x: ImageList\n",
              "Image (3, 224, 224),Image (3, 224, 224),Image (3, 224, 224),Image (3, 224, 224),Image (3, 224, 224)\n",
              "y: CategoryList\n",
              "Bent,Bent,Bent,Bent,Bent\n",
              "Path: data;\n",
              "\n",
              "Valid: LabelList (404 items)\n",
              "x: ImageList\n",
              "Image (3, 224, 224),Image (3, 224, 224),Image (3, 224, 224),Image (3, 224, 224),Image (3, 224, 224)\n",
              "y: CategoryList\n",
              "Compact,Compact,Compact,Compact,Compact\n",
              "Path: data;\n",
              "\n",
              "Test: None"
            ]
          },
          "metadata": {
            "tags": []
          },
          "execution_count": 20
        }
      ]
    },
    {
      "cell_type": "code",
      "metadata": {
        "id": "L7AJCjSOU_Ey"
      },
      "source": [
        "learn = cnn_learner(data, models.densenet161, metrics=[accuracy])\n"
      ],
      "execution_count": null,
      "outputs": []
    },
    {
      "cell_type": "code",
      "metadata": {
        "id": "gxp0hosVVqkI"
      },
      "source": [
        "learn = learn.load('rg-init-704634')"
      ],
      "execution_count": null,
      "outputs": []
    },
    {
      "cell_type": "code",
      "metadata": {
        "id": "RDlBD9b4Vv5-",
        "colab": {
          "base_uri": "https://localhost:8080/",
          "height": 17
        },
        "outputId": "1e8a48a3-e232-4234-def3-bbcb813f0767"
      },
      "source": [
        "interp = ClassificationInterpretation.from_learner(learn)"
      ],
      "execution_count": null,
      "outputs": [
        {
          "output_type": "display_data",
          "data": {
            "text/html": [
              ""
            ],
            "text/plain": [
              "<IPython.core.display.HTML object>"
            ]
          },
          "metadata": {
            "tags": []
          }
        }
      ]
    },
    {
      "cell_type": "code",
      "metadata": {
        "id": "SyvCC0pJVxt4",
        "colab": {
          "base_uri": "https://localhost:8080/",
          "height": 523
        },
        "outputId": "111db540-efbf-47be-b198-3d70266bf3b6"
      },
      "source": [
        "interp.plot_top_losses(9, figsize=(8,8))"
      ],
      "execution_count": null,
      "outputs": [
        {
          "output_type": "display_data",
          "data": {
            "image/png": "[encoded data removed]",
            "text/plain": [
              "<Figure size 576x576 with 9 Axes>"
            ]
          },
          "metadata": {
            "tags": [],
            "needs_background": "light"
          }
        }
      ]
    },
    {
      "cell_type": "code",
      "metadata": {
        "id": "xO54mSedV0nX",
        "colab": {
          "base_uri": "https://localhost:8080/"
        },
        "outputId": "76c47e74-524e-4dab-fd30-4ef5d1ed803b"
      },
      "source": [
        "losses, indexes = interp.top_losses(36)\n",
        "\n",
        "top_loss_paths = data.valid_ds.x.items[indexes]\n",
        "\n",
        "print(top_loss_paths)"
      ],
      "execution_count": null,
      "outputs": [
        {
          "output_type": "stream",
          "text": [
            "[PosixPath('data/test/Compact/J005901.17+002530.9.jpeg') PosixPath('data/test/FRII/J081303.31+132606.7.jpeg')\n",
            " PosixPath('data/test/Compact/J005719.19-095415.6.jpeg') PosixPath('data/test/FRII/J004312.83-103956.1.jpeg')\n",
            " PosixPath('data/test/FRII/J083754.15+154326.9.jpeg') PosixPath('data/test/Compact/J005830.07-011138.7.jpeg')\n",
            " PosixPath('data/test/FRI/J085101.94+080050.6.jpeg') PosixPath('data/test/FRII/J095448.85+144331.1.jpeg')\n",
            " PosixPath('data/test/FRI/J074647.46+351414.5.jpeg') PosixPath('data/test/FRI/J080332.14+251333.9.jpeg')\n",
            " PosixPath('data/test/Compact/J085457.38+562317.9.jpeg') PosixPath('data/test/Compact/J085732.64+304610.5.jpeg')\n",
            " PosixPath('data/test/Compact/J013300.47-092721.1.jpeg') PosixPath('data/test/FRI/J073451.85+392435.9.jpeg')\n",
            " PosixPath('data/test/Bent/J083841.50+444824.1.jpeg') PosixPath('data/test/FRII/J020217.26-010740.3.jpeg')\n",
            " PosixPath('data/test/FRI/J081750.89+063012.8.jpeg') PosixPath('data/test/FRI/J083140.32+125805.1.jpeg')\n",
            " PosixPath('data/test/Bent/J102902.08+494417.5.jpeg') PosixPath('data/test/FRI/J081207.59+103245.7.jpeg')\n",
            " PosixPath('data/test/Compact/J013201.68+002212.2.jpeg') PosixPath('data/test/FRII/J101028.96+074021.5.jpeg')\n",
            " PosixPath('data/test/Bent/J114525.98-022332.9.jpeg') PosixPath('data/test/Bent/J113838.17+433933.4.jpeg')\n",
            " PosixPath('data/test/FRI/J081838.99+181848.5.jpeg') PosixPath('data/test/Bent/J110208.08+040927.6.jpeg')\n",
            " PosixPath('data/test/FRI/J082103.67+524435.6.jpeg') PosixPath('data/test/Bent/J024558.53-064900.7.jpeg')\n",
            " PosixPath('data/test/Bent/J082835.17+322825.2.jpeg') PosixPath('data/test/FRI/J023546.89+003252.9.jpeg')\n",
            " PosixPath('data/test/Bent/J003113.86+001236.2.jpeg') PosixPath('data/test/Compact/J085848.57+034418.6.jpeg')\n",
            " PosixPath('data/test/Bent/J114339.82+072959.6.jpeg') PosixPath('data/test/FRI/J082215.46+195809.9.jpeg')\n",
            " PosixPath('data/test/Bent/J085116.23+082723.2.jpeg') PosixPath('data/test/Bent/J113212.18+105513.3.jpeg')]\n"
          ],
          "name": "stdout"
        }
      ]
    },
    {
      "cell_type": "code",
      "metadata": {
        "id": "KuEqwlpvV5nv",
        "colab": {
          "base_uri": "https://localhost:8080/",
          "height": 743
        },
        "outputId": "9833a7c7-cfd3-4201-a9d8-0f8be966cfa9"
      },
      "source": [
        "interp.plot_confusion_matrix(figsize=(10,10))"
      ],
      "execution_count": null,
      "outputs": [
        {
          "output_type": "display_data",
          "data": {
            "image/png": "[encoded data removed]",
            "text/plain": [
              "<Figure size 720x720 with 1 Axes>"
            ]
          },
          "metadata": {
            "tags": [],
            "needs_background": "light"
          }
        }
      ]
    },
    {
      "cell_type": "code",
      "metadata": {
        "id": "kIadlZ_NV9Lg",
        "colab": {
          "base_uri": "https://localhost:8080/"
        },
        "outputId": "2048881d-7d74-46e7-91c5-094e07cbf2f1"
      },
      "source": [
        "import glob\n",
        "\n",
        "image_list = glob.glob('data/test/*/*')\n",
        "\n",
        "Bent = 0\n",
        "Pred_Bent=0\n",
        "Compact=0\n",
        "Pred_Compact=0\n",
        "FRI=0\n",
        "Pred_FRI=0\n",
        "FRII=0\n",
        "Pred_FRII = 0 \n",
        "\n",
        "for each in image_list:\n",
        "    img = open_image(each)\n",
        "    each = each.split('/')\n",
        "    rg_class = each[2]\n",
        "    pred_class, pred_idx, outputs = learn.predict(img)\n",
        "    pred_class = str(pred_class)\n",
        "         \n",
        "    if rg_class == 'Bent':\n",
        "        Bent += 1\n",
        "        if pred_class == 'Bent':\n",
        "            Pred_Bent += 1\n",
        "            print(each[2:], pred_class)\n",
        "        # else:\n",
        "        #     print(each[2:], pred_class)\n",
        "    elif rg_class == 'Compact':\n",
        "        Compact += 1\n",
        "        if pred_class == 'Compact':\n",
        "            Pred_Compact += 1\n",
        "            print(each[2:], pred_class)\n",
        "        # else:\n",
        "        #    print(each[2:], pred_class)\n",
        "    elif rg_class == 'FRI':\n",
        "        FRI += 1\n",
        "        if pred_class == 'FRI':\n",
        "            Pred_FRI += 1\n",
        "            print(each[2:], pred_class)\n",
        "        # else:\n",
        "        #     print(each[2:], pred_class)\n",
        "    elif rg_class == 'FRII':\n",
        "        FRII += 1\n",
        "        if pred_class == 'FRII':\n",
        "            Pred_FRII += 1\n",
        "            print(each[2:], pred_class)\n",
        "        # else:\n",
        "        #    print(each[2:], pred_class)"
      ],
      "execution_count": null,
      "outputs": [
        {
          "output_type": "stream",
          "text": [
            "['Compact', 'J000325.23+004355.5.jpeg'] Compact\n",
            "['Compact', 'J000140.36-010636.9.jpeg'] Compact\n",
            "['Compact', 'J000140.21+010531.1.jpeg'] Compact\n",
            "['Compact', 'J000400.88+001717.9.jpeg'] Compact\n",
            "['Compact', 'J000027.89-010235.4.jpeg'] Compact\n",
            "['Compact', 'J000001.58-092940.3.jpeg'] Compact\n",
            "['Compact', 'J000134.96-085727.7.jpeg'] Compact\n",
            "['Compact', 'J001503.37+003459.2.jpeg'] Compact\n",
            "['Compact', 'J002142.25-090044.4.jpeg'] Compact\n",
            "['Compact', 'J002722.71-104759.2.jpeg'] Compact\n",
            "['Compact', 'J002833.42+005510.9.jpeg'] Compact\n",
            "['Compact', 'J002235.86+003555.0.jpeg'] Compact\n",
            "['Compact', 'J002331.60+010116.7.jpeg'] Compact\n",
            "['Compact', 'J002351.21+000632.9.jpeg'] Compact\n",
            "['Compact', 'J001511.48-011153.1.jpeg'] Compact\n",
            "['Compact', 'J002306.96+010236.8.jpeg'] Compact\n",
            "['Compact', 'J003055.39+001024.2.jpeg'] Compact\n",
            "['Compact', 'J003230.91+002440.2.jpeg'] Compact\n",
            "['Compact', 'J005805.37+002647.4.jpeg'] Compact\n",
            "['Compact', 'J015152.78-100050.5.jpeg'] Compact\n",
            "['Compact', 'J004625.17+003118.4.jpeg'] Compact\n",
            "['Compact', 'J015301.50-010841.5.jpeg'] Compact\n",
            "['Compact', 'J004432.85-103225.6.jpeg'] Compact\n",
            "['Compact', 'J015344.92-084051.3.jpeg'] Compact\n",
            "['Compact', 'J005207.25-092928.4.jpeg'] Compact\n",
            "['Compact', 'J085542.85+110314.6.jpeg'] Compact\n",
            "['Compact', 'J085608.51+541854.8.jpeg'] Compact\n",
            "['Compact', 'J085536.07+102401.2.jpeg'] Compact\n",
            "['Compact', 'J085517.51+372245.8.jpeg'] Compact\n",
            "['Compact', 'J085506.37+260142.1.jpeg'] Compact\n",
            "['Compact', 'J085511.39+634631.7.jpeg'] Compact\n",
            "['Compact', 'J085526.28+322130.5.jpeg'] Compact\n",
            "['Compact', 'J085458.89+490832.4.jpeg'] Compact\n",
            "['Compact', 'J085631.05+504002.7.jpeg'] Compact\n",
            "['Compact', 'J085619.10+472330.7.jpeg'] Compact\n",
            "['Compact', 'J085651.78+214949.4.jpeg'] Compact\n",
            "['Compact', 'J085758.17+090021.6.jpeg'] Compact\n",
            "['Compact', 'J085730.46+602305.4.jpeg'] Compact\n",
            "['Compact', 'J085707.16+622303.5.jpeg'] Compact\n",
            "['Compact', 'J085806.28+432422.4.jpeg'] Compact\n",
            "['Compact', 'J085708.39+600201.5.jpeg'] Compact\n",
            "['Compact', 'J085804.94+010913.5.jpeg'] Compact\n",
            "['Compact', 'J085730.92+455807.9.jpeg'] Compact\n",
            "['Compact', 'J011012.65+004746.8.jpeg'] Compact\n",
            "['Compact', 'J012023.14+000444.3.jpeg'] Compact\n",
            "['Compact', 'J010155.78+004932.8.jpeg'] Compact\n",
            "['Compact', 'J010506.04-095708.2.jpeg'] Compact\n",
            "['Compact', 'J010158.61-095750.6.jpeg'] Compact\n",
            "['Compact', 'J010958.75-083706.7.jpeg'] Compact\n",
            "['Compact', 'J010101.09+002444.4.jpeg'] Compact\n",
            "['Compact', 'J012003.87-093137.0.jpeg'] Compact\n",
            "['Compact', 'J011943.00-101557.4.jpeg'] Compact\n",
            "['Compact', 'J010758.57+005225.3.jpeg'] Compact\n",
            "['Compact', 'J012051.82-100025.2.jpeg'] Compact\n",
            "['Compact', 'J012234.39+011513.7.jpeg'] Compact\n",
            "['Compact', 'J012346.39-092303.4.jpeg'] Compact\n",
            "['Compact', 'J085846.27+505635.4.jpeg'] Compact\n",
            "['Compact', 'J085826.28+222802.2.jpeg'] Compact\n",
            "['Compact', 'J085948.11+002146.6.jpeg'] Compact\n",
            "['Compact', 'J085846.06+415254.1.jpeg'] Compact\n",
            "['Compact', 'J085836.52+541902.5.jpeg'] Compact\n",
            "['Compact', 'J090232.03+071228.0.jpeg'] Compact\n",
            "['Compact', 'J090207.94+454433.0.jpeg'] Compact\n",
            "['Compact', 'J090044.64+094525.1.jpeg'] Compact\n",
            "['Compact', 'J090130.14+553916.6.jpeg'] Compact\n",
            "['Compact', 'J090144.93+180101.1.jpeg'] Compact\n",
            "['Compact', 'J090140.65+432013.1.jpeg'] Compact\n",
            "['Compact', 'J090209.89+283042.9.jpeg'] Compact\n",
            "['Compact', 'J090028.14+304647.2.jpeg'] Compact\n",
            "['Compact', 'J090139.03+375246.4.jpeg'] Compact\n",
            "['Compact', 'J090128.16+625930.6.jpeg'] Compact\n",
            "['Compact', 'J090237.42+131949.3.jpeg'] Compact\n",
            "['Compact', 'J013144.35-082613.1.jpeg'] Compact\n",
            "['Compact', 'J012357.00-094107.8.jpeg'] Compact\n",
            "['Compact', 'J012745.78-095100.2.jpeg'] Compact\n",
            "['Compact', 'J090325.55+162256.1.jpeg'] Compact\n",
            "['Compact', 'J085808.08+383159.8.jpeg'] Compact\n",
            "['Compact', 'J012707.08-082617.9.jpeg'] Compact\n",
            "['Compact', 'J015021.83+010729.7.jpeg'] Compact\n",
            "['Compact', 'J013248.97-090714.8.jpeg'] Compact\n",
            "['Compact', 'J013426.53-081701.9.jpeg'] Compact\n",
            "['Compact', 'J014116.32-083539.3.jpeg'] Compact\n",
            "['Compact', 'J014756.07-083918.9.jpeg'] Compact\n",
            "['Compact', 'J014253.89-084629.6.jpeg'] Compact\n",
            "['Compact', 'J014752.00+000658.8.jpeg'] Compact\n",
            "['Compact', 'J013315.48-093202.4.jpeg'] Compact\n",
            "['Compact', 'J014612.72+003836.3.jpeg'] Compact\n",
            "['Compact', 'J014017.46+001740.9.jpeg'] Compact\n",
            "['Compact', 'J014822.32+004815.6.jpeg'] Compact\n",
            "['Compact', 'J014826.71-082342.5.jpeg'] Compact\n",
            "['Compact', 'J014953.57-082505.6.jpeg'] Compact\n",
            "['Bent', 'J000121.46+001140.3.jpeg'] Bent\n",
            "['Bent', 'J022040.96-010410.9.jpeg'] Bent\n",
            "['Bent', 'J004252.70+004306.3.jpeg'] Bent\n",
            "['Bent', 'J004152.14+002835.0.jpeg'] Bent\n",
            "['Bent', 'J010456.53+000423.2.jpeg'] Bent\n",
            "['Bent', 'J010236.53+005007.7.jpeg'] Bent\n",
            "['Bent', 'J005702.04+005230.6.jpeg'] Bent\n",
            "['Bent', 'J023028.03+010849.8.jpeg'] Bent\n",
            "['Bent', 'J025031.23+005747.7.jpeg'] Bent\n",
            "['Bent', 'J030259.53+001135.4.jpeg'] Bent\n",
            "['Bent', 'J024808.57-011344.6.jpeg'] Bent\n",
            "['Bent', 'J073201.32+420829.9.jpeg'] Bent\n",
            "['Bent', 'J073658.10+432902.0.jpeg'] Bent\n",
            "['Bent', 'J072620.82+403928.3.jpeg'] Bent\n",
            "['Bent', 'J073849.49+415907.5.jpeg'] Bent\n",
            "['Bent', 'J075347.57+230154.9.jpeg'] Bent\n",
            "['Bent', 'J072248.42+412921.4.jpeg'] Bent\n",
            "['Bent', 'J075442.70+395139.1.jpeg'] Bent\n",
            "['Bent', 'J092612.33+324721.2.jpeg'] Bent\n",
            "['Bent', 'J080052.78+132945.3.jpeg'] Bent\n",
            "['Bent', 'J091325.00+122740.5.jpeg'] Bent\n",
            "['Bent', 'J081505.00+490802.0.jpeg'] Bent\n",
            "['Bent', 'J080337.65+105042.5.jpeg'] Bent\n",
            "['Bent', 'J092704.28+542346.6.jpeg'] Bent\n",
            "['Bent', 'J093307.78+051438.5.jpeg'] Bent\n",
            "['Bent', 'J092905.63+130201.8.jpeg'] Bent\n",
            "['Bent', 'J094214.80+152251.3.jpeg'] Bent\n",
            "['Bent', 'J094715.32+525058.5.jpeg'] Bent\n",
            "['Bent', 'J095539.46+013548.4.jpeg'] Bent\n",
            "['Bent', 'J100406.92+435322.5.jpeg'] Bent\n",
            "['Bent', 'J094411.15+451338.4.jpeg'] Bent\n",
            "['Bent', 'J094942.78+005024.3.jpeg'] Bent\n",
            "['Bent', 'J101436.17+494532.6.jpeg'] Bent\n",
            "['Bent', 'J095641.71+183547.5.jpeg'] Bent\n",
            "['Bent', 'J101602.41+240006.5.jpeg'] Bent\n",
            "['Bent', 'J102859.02+030727.6.jpeg'] Bent\n",
            "['Bent', 'J104955.38+461911.6.jpeg'] Bent\n",
            "['Bent', 'J104514.65+562049.4.jpeg'] Bent\n",
            "['Bent', 'J104441.85+354016.8.jpeg'] Bent\n",
            "['Bent', 'J101606.96+470812.5.jpeg'] Bent\n",
            "['Bent', 'J105129.92+050324.2.jpeg'] Bent\n",
            "['Bent', 'J105614.75+112842.7.jpeg'] Bent\n",
            "['Bent', 'J104501.48+125802.8.jpeg'] Bent\n",
            "['Bent', 'J102501.60+040202.4.jpeg'] Bent\n",
            "['Bent', 'J112539.10+582734.2.jpeg'] Bent\n",
            "['Bent', 'J112947.28+253321.5.jpeg'] Bent\n",
            "['Bent', 'J111833.54+311511.6.jpeg'] Bent\n",
            "['Bent', 'J112649.49+162444.6.jpeg'] Bent\n",
            "['Bent', 'J111833.79+311517.1.jpeg'] Bent\n",
            "['Bent', 'J112639.79+454121.4.jpeg'] Bent\n",
            "['Bent', 'J110332.46+035623.5.jpeg'] Bent\n",
            "['Bent', 'J112523.73+361824.3.jpeg'] Bent\n",
            "['Bent', 'J111320.42+205655.5.jpeg'] Bent\n",
            "['Bent', 'J113157.03+390800.1.jpeg'] Bent\n",
            "['Bent', 'J082400.28+153446.7.jpeg'] Bent\n",
            "['Bent', 'J113048.82+252435.6.jpeg'] Bent\n",
            "['Bent', 'J082712.77+382000.8.jpeg'] Bent\n",
            "['Bent', 'J082608.48+035903.6.jpeg'] Bent\n",
            "['Bent', 'J082444.67+520033.8.jpeg'] Bent\n",
            "['Bent', 'J081939.42+574607.8.jpeg'] Bent\n",
            "['Bent', 'J084934.60+282155.8.jpeg'] Bent\n",
            "['Bent', 'J083345.42+102753.2.jpeg'] Bent\n",
            "['Bent', 'J084146.07+160732.4.jpeg'] Bent\n",
            "['Bent', 'J083049.21+361645.7.jpeg'] Bent\n",
            "['Bent', 'J085757.06+170447.3.jpeg'] Bent\n",
            "['Bent', 'J084445.46+212932.7.jpeg'] Bent\n",
            "['Bent', 'J083844.59+325311.8.jpeg'] Bent\n",
            "['Bent', 'J084158.63+123512.4.jpeg'] Bent\n",
            "['Bent', 'J085845.07+171003.1.jpeg'] Bent\n",
            "['Bent', 'J091007.36+183504.5.jpeg'] Bent\n",
            "['Bent', 'J090052.56+505622.6.jpeg'] Bent\n",
            "['Bent', 'J091023.76+352417.0.jpeg'] Bent\n",
            "['Bent', 'J085854.25+470054.0.jpeg'] Bent\n",
            "['Bent', 'J113522.96-011519.7.jpeg'] Bent\n",
            "['Bent', 'J081800.76+495611.9.jpeg'] Bent\n",
            "['Bent', 'J105138.29+580800.1.jpeg'] Bent\n",
            "['Bent', 'J114448.07+583350.4.jpeg'] Bent\n",
            "['Bent', 'J113856.21+432948.3.jpeg'] Bent\n",
            "['Bent', 'J121439.52+052803.9.jpeg'] Bent\n",
            "['Bent', 'J121330.71+322945.1.jpeg'] Bent\n",
            "['Bent', 'J120619.91+034701.1.jpeg'] Bent\n",
            "['Bent', 'J114323.92+600737.2.jpeg'] Bent\n",
            "['Bent', 'J122436.57+351825.3.jpeg'] Bent\n",
            "['Bent', 'J122952.32+114038.8.jpeg'] Bent\n",
            "['Bent', 'J121738.79+033948.0.jpeg'] Bent\n",
            "['FRI', 'J003940.85+000526.0.jpeg'] FRI\n",
            "['FRI', 'J003038.09+004753.9.jpeg'] FRI\n",
            "['FRI', 'J004342.02-102129.6.jpeg'] FRI\n",
            "['FRI', 'J012331.44+000349.2.jpeg'] FRI\n",
            "['FRI', 'J012019.03+004529.3.jpeg'] FRI\n",
            "['FRI', 'J002310.57+005834.8.jpeg'] FRI\n",
            "['FRI', 'J073710.06+460821.3.jpeg'] FRI\n",
            "['FRI', 'J014500.36+004854.4.jpeg'] FRI\n",
            "['FRI', 'J073728.44+321618.7.jpeg'] FRI\n",
            "['FRI', 'J014910.81+010829.5.jpeg'] FRI\n",
            "['FRI', 'J072704.17+415525.0.jpeg'] FRI\n",
            "['FRI', 'J025704.36+004255.7.jpeg'] FRI\n",
            "['FRI', 'J013127.62+010947.1.jpeg'] FRI\n",
            "['FRI', 'J073216.83+315248.1.jpeg'] FRI\n",
            "['FRI', 'J074119.82+244106.1.jpeg'] FRI\n",
            "['FRI', 'J081213.35+384539.2.jpeg'] FRI\n",
            "['FRI', 'J074708.33+171726.6.jpeg'] FRI\n",
            "['FRI', 'J074331.57+252728.5.jpeg'] FRI\n",
            "['FRI', 'J074258.71+273515.0.jpeg'] FRI\n",
            "['FRI', 'J074242.18+465438.9.jpeg'] FRI\n",
            "['FRI', 'J074855.93+350806.5.jpeg'] FRI\n",
            "['FRI', 'J074310.49+343057.4.jpeg'] FRI\n",
            "['FRI', 'J074828.19+180526.3.jpeg'] FRI\n",
            "['FRI', 'J081421.94+161814.0.jpeg'] FRI\n",
            "['FRI', 'J081939.93+495637.8.jpeg'] FRI\n",
            "['FRI', 'J081538.56+081048.0.jpeg'] FRI\n",
            "['FRI', 'J082025.91+122540.3.jpeg'] FRI\n",
            "['FRI', 'J081559.25+432033.3.jpeg'] FRI\n",
            "['FRI', 'J081936.15+402222.9.jpeg'] FRI\n",
            "['FRI', 'J081422.33+292208.8.jpeg'] FRI\n",
            "['FRI', 'J082040.13+120433.3.jpeg'] FRI\n",
            "['FRI', 'J083018.85+032653.6.jpeg'] FRI\n",
            "['FRI', 'J082921.91+310747.8.jpeg'] FRI\n",
            "['FRI', 'J082151.65+313117.5.jpeg'] FRI\n",
            "['FRI', 'J083129.23+150736.5.jpeg'] FRI\n",
            "['FRI', 'J083319.39+475042.6.jpeg'] FRI\n",
            "['FRI', 'J083333.65+272754.3.jpeg'] FRI\n",
            "['FRI', 'J083308.14+214727.1.jpeg'] FRI\n",
            "['FRI', 'J083413.83+230129.1.jpeg'] FRI\n",
            "['FRI', 'J083453.61+555942.5.jpeg'] FRI\n",
            "['FRI', 'J084229.73+081808.2.jpeg'] FRI\n",
            "['FRI', 'J084331.57+541505.7.jpeg'] FRI\n",
            "['FRI', 'J084548.49+063022.7.jpeg'] FRI\n",
            "['FRI', 'J084033.28+134959.9.jpeg'] FRI\n",
            "['FRI', 'J084609.51+603243.0.jpeg'] FRI\n",
            "['FRI', 'J083453.64+365644.0.jpeg'] FRI\n",
            "['FRI', 'J084051.89+285055.4.jpeg'] FRI\n",
            "['FRI', 'J084717.80+220521.6.jpeg'] FRI\n",
            "['FRI', 'J085242.53+154406.5.jpeg'] FRI\n",
            "['FRI', 'J085349.78+145226.1.jpeg'] FRI\n",
            "['FRI', 'J085231.83+453038.3.jpeg'] FRI\n",
            "['FRI', 'J085411.26+132032.0.jpeg'] FRI\n",
            "['FRI', 'J085041.85+282940.5.jpeg'] FRI\n",
            "['FRI', 'J085415.18+062921.7.jpeg'] FRI\n",
            "['FRI', 'J084850.89+315928.9.jpeg'] FRI\n",
            "['FRI', 'J085532.81+021801.7.jpeg'] FRI\n",
            "['FRI', 'J075142.11+513147.1.jpeg'] FRI\n",
            "['FRI', 'J075229.32+204334.6.jpeg'] FRI\n",
            "['FRI', 'J075006.36+464345.6.jpeg'] FRI\n",
            "['FRI', 'J101229.94+015735.0.jpeg'] FRI\n",
            "['FRI', 'J100501.03+602203.9.jpeg'] FRI\n",
            "['FRI', 'J101517.03+025717.1.jpeg'] FRI\n",
            "['FRI', 'J075324.28+530144.2.jpeg'] FRI\n",
            "['FRI', 'J085648.11+551808.9.jpeg'] FRI\n",
            "['FRI', 'J101422.62+383019.9.jpeg'] FRI\n",
            "['FRI', 'J075352.57+330436.8.jpeg'] FRI\n",
            "['FRI', 'J080220.89+260613.0.jpeg'] FRI\n",
            "['FRI', 'J080154.04+475057.9.jpeg'] FRI\n",
            "['FRI', 'J075850.38+471410.0.jpeg'] FRI\n",
            "['FRI', 'J075958.70+441534.5.jpeg'] FRI\n",
            "['FRI', 'J075923.10+274148.3.jpeg'] FRI\n",
            "['FRI', 'J080446.52+404258.5.jpeg'] FRI\n",
            "['FRI', 'J080237.00+433848.4.jpeg'] FRI\n",
            "['FRI', 'J080645.14+162860.0.jpeg'] FRI\n",
            "['FRI', 'J080945.10+060847.2.jpeg'] FRI\n",
            "['FRI', 'J081058.14+284618.6.jpeg'] FRI\n",
            "['FRI', 'J080747.32+394635.6.jpeg'] FRI\n",
            "['FRI', 'J081122.85+105429.6.jpeg'] FRI\n",
            "['FRI', 'J080833.60+461012.8.jpeg'] FRI\n",
            "['FRI', 'J080928.69+095441.4.jpeg'] FRI\n",
            "['FRI', 'J080945.32+153339.0.jpeg'] FRI\n",
            "['FRI', 'J080648.85+244021.5.jpeg'] FRI\n",
            "['FRI', 'J080656.09+394439.4.jpeg'] FRI\n",
            "['FRI', 'J074901.67+351554.6.jpeg'] FRI\n",
            "['FRI', 'J083423.08+134352.8.jpeg'] FRI\n",
            "['FRII', 'J003542.42-101418.8.jpeg'] FRII\n",
            "['FRII', 'J003727.33+000735.3.jpeg'] FRII\n",
            "['FRII', 'J002853.35+000649.2.jpeg'] FRII\n",
            "['FRII', 'J005058.06-092922.7.jpeg'] FRII\n",
            "['FRII', 'J004127.19+000601.5.jpeg'] FRII\n",
            "['FRII', 'J004045.40+000858.0.jpeg'] FRII\n",
            "['FRII', 'J010524.28-094846.2.jpeg'] FRII\n",
            "['FRII', 'J012703.02+002542.7.jpeg'] FRII\n",
            "['FRII', 'J013325.87-102618.7.jpeg'] FRII\n",
            "['FRII', 'J015648.59-010649.5.jpeg'] FRII\n",
            "['FRII', 'J013122.69-103919.4.jpeg'] FRII\n",
            "['FRII', 'J011341.09+010608.5.jpeg'] FRII\n",
            "['FRII', 'J015420.12-081643.2.jpeg'] FRII\n",
            "['FRII', 'J010538.61+000241.1.jpeg'] FRII\n",
            "['FRII', 'J014444.84-094406.1.jpeg'] FRII\n",
            "['FRII', 'J021437.25+004235.3.jpeg'] FRII\n",
            "['FRII', 'J023705.37-011118.2.jpeg'] FRII\n",
            "['FRII', 'J090058.00+510957.3.jpeg'] FRII\n",
            "['FRII', 'J022848.85-071659.1.jpeg'] FRII\n",
            "['FRII', 'J085902.75+342757.5.jpeg'] FRII\n",
            "['FRII', 'J023238.25-010443.3.jpeg'] FRII\n",
            "['FRII', 'J085852.64+294650.3.jpeg'] FRII\n",
            "['FRII', 'J022115.98+001554.9.jpeg'] FRII\n",
            "['FRII', 'J073050.64+445600.9.jpeg'] FRII\n",
            "['FRII', 'J091415.25+211639.8.jpeg'] FRII\n",
            "['FRII', 'J091524.91+432815.0.jpeg'] FRII\n",
            "['FRII', 'J090443.75+195607.9.jpeg'] FRII\n",
            "['FRII', 'J090620.55+475208.2.jpeg'] FRII\n",
            "['FRII', 'J090123.30+191417.2.jpeg'] FRII\n",
            "['FRII', 'J090435.03+250017.4.jpeg'] FRII\n",
            "['FRII', 'J091953.07+295618.1.jpeg'] FRII\n",
            "['FRII', 'J091249.60+050317.7.jpeg'] FRII\n",
            "['FRII', 'J090320.44+523336.1.jpeg'] FRII\n",
            "['FRII', 'J090337.29+043141.4.jpeg'] FRII\n",
            "['FRII', 'J092255.15+541828.2.jpeg'] FRII\n",
            "['FRII', 'J093435.82+142041.7.jpeg'] FRII\n",
            "['FRII', 'J092508.58+310341.5.jpeg'] FRII\n",
            "['FRII', 'J092352.75+141658.6.jpeg'] FRII\n",
            "['FRII', 'J092347.97+005307.9.jpeg'] FRII\n",
            "['FRII', 'J093425.92+293200.6.jpeg'] FRII\n",
            "['FRII', 'J074324.05+233626.0.jpeg'] FRII\n",
            "['FRII', 'J093153.28+125140.6.jpeg'] FRII\n",
            "['FRII', 'J092600.53+190307.4.jpeg'] FRII\n",
            "['FRII', 'J075329.35+163026.1.jpeg'] FRII\n",
            "['FRII', 'J081628.87+085748.6.jpeg'] FRII\n",
            "['FRII', 'J080427.16+163329.3.jpeg'] FRII\n",
            "['FRII', 'J082337.03+280425.5.jpeg'] FRII\n",
            "['FRII', 'J080708.65+332718.1.jpeg'] FRII\n",
            "['FRII', 'J081443.86+125817.3.jpeg'] FRII\n",
            "['FRII', 'J075514.19+140332.8.jpeg'] FRII\n",
            "['FRII', 'J080107.90+435030.6.jpeg'] FRII\n",
            "['FRII', 'J080404.50+153334.6.jpeg'] FRII\n",
            "['FRII', 'J083841.39+044409.0.jpeg'] FRII\n",
            "['FRII', 'J083149.32+181324.4.jpeg'] FRII\n",
            "['FRII', 'J082705.40+374841.3.jpeg'] FRII\n",
            "['FRII', 'J083231.19+351713.5.jpeg'] FRII\n",
            "['FRII', 'J084002.35+294902.6.jpeg'] FRII\n",
            "['FRII', 'J084105.82+330422.4.jpeg'] FRII\n",
            "['FRII', 'J083752.75+445026.0.jpeg'] FRII\n",
            "['FRII', 'J083618.64+090920.8.jpeg'] FRII\n",
            "['FRII', 'J083536.60+182400.8.jpeg'] FRII\n",
            "['FRII', 'J084228.21+112401.1.jpeg'] FRII\n",
            "['FRII', 'J084921.78+541330.5.jpeg'] FRII\n",
            "['FRII', 'J084325.64+290740.7.jpeg'] FRII\n",
            "['FRII', 'J084630.85+024703.5.jpeg'] FRII\n",
            "['FRII', 'J084622.48+031539.7.jpeg'] FRII\n",
            "['FRII', 'J094033.35+220002.2.jpeg'] FRII\n",
            "['FRII', 'J084632.45+293555.4.jpeg'] FRII\n",
            "['FRII', 'J084241.79+391053.3.jpeg'] FRII\n",
            "['FRII', 'J084908.50+120821.5.jpeg'] FRII\n",
            "['FRII', 'J093506.67+535154.8.jpeg'] FRII\n",
            "['FRII', 'J094425.73+520136.8.jpeg'] FRII\n",
            "['FRII', 'J095841.45+263600.9.jpeg'] FRII\n",
            "['FRII', 'J094702.72+094340.2.jpeg'] FRII\n",
            "['FRII', 'J094617.64+492312.2.jpeg'] FRII\n",
            "['FRII', 'J094814.68+074252.0.jpeg'] FRII\n",
            "['FRII', 'J094601.02+292550.1.jpeg'] FRII\n",
            "['FRII', 'J095430.01+581244.2.jpeg'] FRII\n",
            "['FRII', 'J095651.57+283139.6.jpeg'] FRII\n",
            "['FRII', 'J094543.60+043931.4.jpeg'] FRII\n",
            "['FRII', 'J101415.97+105105.7.jpeg'] FRII\n",
            "['FRII', 'J101308.50+344654.7.jpeg'] FRII\n",
            "['FRII', 'J095858.00+281907.2.jpeg'] FRII\n",
            "['FRII', 'J100934.70+041748.1.jpeg'] FRII\n",
            "['FRII', 'J101404.41+061436.4.jpeg'] FRII\n",
            "['FRII', 'J101316.50+064519.3.jpeg'] FRII\n",
            "['FRII', 'J095841.45+601339.9.jpeg'] FRII\n",
            "['FRII', 'J100551.14+241911.4.jpeg'] FRII\n",
            "['FRII', 'J100948.17+002902.8.jpeg'] FRII\n",
            "['FRII', 'J101505.79+263851.0.jpeg'] FRII\n",
            "['FRII', 'J093451.10+025926.6.jpeg'] FRII\n",
            "['FRII', 'J085018.89+165023.5.jpeg'] FRII\n",
            "['FRII', 'J074113.99+422711.3.jpeg'] FRII\n"
          ],
          "name": "stdout"
        }
      ]
    },
    {
      "cell_type": "code",
      "metadata": {
        "id": "rGqXm2A0WV38",
        "colab": {
          "base_uri": "https://localhost:8080/"
        },
        "outputId": "29a9a134-4e46-4b76-ba80-d3825cca5877"
      },
      "source": [
        "print('TP Bent: ' + str(Pred_Bent) + '/' + str(Bent))\n",
        "print('TP Compact: ' + str(Pred_Compact) + '/' + str(Compact))\n",
        "print('TP FRI: ' + str(Pred_FRI) + '/' + str(FRI) )\n",
        "print('TP FRII: ' + str(Pred_FRII) + '/' + str(FRII) )"
      ],
      "execution_count": null,
      "outputs": [
        {
          "output_type": "stream",
          "text": [
            "TP Bent: 85/103\n",
            "TP Compact: 91/100\n",
            "TP FRI: 85/100\n",
            "TP FRII: 93/101\n"
          ],
          "name": "stdout"
        }
      ]
    }
  ]
}