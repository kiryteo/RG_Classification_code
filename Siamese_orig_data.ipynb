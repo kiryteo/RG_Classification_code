{
 "cells": [
  {
   "cell_type": "code",
   "execution_count": null,
   "metadata": {
    "colab": {
     "base_uri": "https://localhost:8080/",
     "height": 126
    },
    "id": "lPAu45JujmVq",
    "outputId": "2c31018c-db3b-4182-ad77-d8f9e4e4cf0e"
   },
   "outputs": [
    {
     "name": "stdout",
     "output_type": "stream",
     "text": [
      "Go to this URL in a browser: https://accounts.google.com/o/oauth2/auth?client_id=947318989803-6bn6qk8qdgf4n4g3pfee6491hc0brc4i.apps.googleusercontent.com&redirect_uri=urn%3aietf%3awg%3aoauth%3a2.0%3aoob&response_type=code&scope=email%20https%3a%2f%2fwww.googleapis.com%2fauth%2fdocs.test%20https%3a%2f%2fwww.googleapis.com%2fauth%2fdrive%20https%3a%2f%2fwww.googleapis.com%2fauth%2fdrive.photos.readonly%20https%3a%2f%2fwww.googleapis.com%2fauth%2fpeopleapi.readonly\n",
      "\n",
      "Enter your authorization code:\n",
      "··········\n",
      "Mounted at /content/drive\n"
     ]
    }
   ],
   "source": [
    "from google.colab import drive\n",
    "drive.mount(\"/content/drive\")"
   ]
  },
  {
   "cell_type": "code",
   "execution_count": null,
   "metadata": {
    "id": "6EMELZ15jyyW"
   },
   "outputs": [],
   "source": [
    "%matplotlib inline\n",
    "import pickle\n",
    "import torchvision\n",
    "import torchvision.datasets as dset\n",
    "import torchvision.transforms as transforms\n",
    "from torch.utils.data import DataLoader,Dataset\n",
    "import matplotlib.pyplot as plt\n",
    "import torchvision.utils\n",
    "import numpy as np\n",
    "import random\n",
    "from PIL import Image\n",
    "import torch\n",
    "from torch.autograd import Variable\n",
    "import PIL.ImageOps    \n",
    "import torch.nn as nn\n",
    "from torch import optim\n",
    "import torch.nn.functional as F\n",
    "from tqdm import tqdm\n",
    "from sklearn.metrics import confusion_matrix"
   ]
  },
  {
   "cell_type": "code",
   "execution_count": null,
   "metadata": {
    "colab": {
     "base_uri": "https://localhost:8080/",
     "height": 35
    },
    "id": "Lt4Nh2YQj7yG",
    "outputId": "b925433e-cca6-4e6e-97c3-b4610ab214ea"
   },
   "outputs": [
    {
     "name": "stdout",
     "output_type": "stream",
     "text": [
      "/content/drive\n"
     ]
    }
   ],
   "source": [
    "%cd drive/My\\ Drive"
   ]
  },
  {
   "cell_type": "code",
   "execution_count": null,
   "metadata": {},
   "outputs": [],
   "source": [
    "%cd SiameseNets-experiments/"
   ]
  },
  {
   "cell_type": "code",
   "execution_count": null,
   "metadata": {
    "id": "Axq_bIM1s7qR"
   },
   "outputs": [],
   "source": [
    "def imshow(img,text=None,should_save=False):\n",
    "    npimg = img.numpy()\n",
    "    plt.axis(\"off\")\n",
    "    if text:\n",
    "        plt.text(75, 8, text, style='italic',fontweight='bold',\n",
    "            bbox={'facecolor':'white', 'alpha':0.8, 'pad':10})\n",
    "    plt.imshow(np.transpose(npimg, (1, 2, 0)))\n",
    "    plt.show()    \n",
    "\n",
    "def show_plot(iteration,loss):\n",
    "    plt.plot(iteration,loss)\n",
    "    plt.show()"
   ]
  },
  {
   "cell_type": "code",
   "execution_count": null,
   "metadata": {
    "id": "KeBmtXn4tDlJ"
   },
   "outputs": [],
   "source": [
    "class Config():\n",
    "    training_dir = \"./data/rg-original/train/\"\n",
    "    testing_dir = \"./data/rg-original/val/\"\n",
    "    custom_testing_dir = \"./data/rg-original/custom_testing/test\"\n",
    "    custom_labeled_dir = \"./data/rg-original/custom_testing/labeled\"\n",
    "    train_batch_size = 64\n",
    "    train_number_epochs = 20"
   ]
  },
  {
   "cell_type": "code",
   "execution_count": null,
   "metadata": {
    "id": "0PsfA_6UtF43"
   },
   "outputs": [],
   "source": [
    "class SiameseNetworkDataset(Dataset):\n",
    "    \n",
    "    def __init__(self,imageFolderDataset,transform=None,should_invert=True):\n",
    "        self.imageFolderDataset = imageFolderDataset    \n",
    "        self.transform = transform\n",
    "        self.should_invert = should_invert\n",
    "        \n",
    "    def __getitem__(self,index):\n",
    "        img0_tuple = random.choice(self.imageFolderDataset.imgs)\n",
    "        \n",
    "        #we need to make sure approx 50% of images are in the same class\n",
    "        should_get_same_class = random.randint(0,1) \n",
    "        if should_get_same_class:\n",
    "            while True:\n",
    "                #keep looping till the same class image is found\n",
    "                img1_tuple = random.choice(self.imageFolderDataset.imgs)\n",
    "                if img0_tuple[1]==img1_tuple[1]:\n",
    "                    break\n",
    "        else:\n",
    "            while True:\n",
    "                #keep looping till a different class image is found\n",
    "                \n",
    "                img1_tuple = random.choice(self.imageFolderDataset.imgs) \n",
    "                if img0_tuple[1] !=img1_tuple[1]:\n",
    "                    break\n",
    "\n",
    "        img0 = Image.open(img0_tuple[0])\n",
    "        img1 = Image.open(img1_tuple[0])\n",
    "        img0 = img0.convert(\"L\")\n",
    "        img1 = img1.convert(\"L\")\n",
    "        \n",
    "        if self.should_invert:\n",
    "            img0 = PIL.ImageOps.invert(img0)\n",
    "            img1 = PIL.ImageOps.invert(img1)\n",
    "\n",
    "        if self.transform is not None:\n",
    "            img0 = self.transform(img0)\n",
    "            img1 = self.transform(img1)\n",
    "        \n",
    "        return img0, img1 , torch.from_numpy(np.array([int(img1_tuple[1]!=img0_tuple[1])],dtype=np.float32))\n",
    "    \n",
    "    def __len__(self):\n",
    "        return len(self.imageFolderDataset.imgs)"
   ]
  },
  {
   "cell_type": "code",
   "execution_count": null,
   "metadata": {
    "id": "QuVraBuPtIJH"
   },
   "outputs": [],
   "source": [
    "class SiameseNetworkDatasetMyTest(Dataset):\n",
    "    \n",
    "    def __init__(self,imageFolderDataset,transform=None,should_invert=True):\n",
    "        self.imageFolderDataset = imageFolderDataset    \n",
    "        self.transform = transform\n",
    "        self.should_invert = should_invert\n",
    "        \n",
    "    def __getitem__(self,index):\n",
    "        img0_tuple = self.imageFolderDataset.imgs[index]#random.choice(self.imageFolderDataset.imgs)\n",
    "\n",
    "        img0 = Image.open(img0_tuple[0])\n",
    "        img0 = img0.convert(\"L\")\n",
    "        if self.transform is not None:\n",
    "            img0 = self.transform(img0)        \n",
    "        return img0, torch.from_numpy(np.array([int(img0_tuple[1])],dtype=np.int32))\n",
    "    \n",
    "    def __len__(self):\n",
    "        return len(self.imageFolderDataset.imgs)"
   ]
  },
  {
   "cell_type": "code",
   "execution_count": null,
   "metadata": {
    "id": "knxrmPNctKqX"
   },
   "outputs": [],
   "source": [
    "class SiameseNetworkDatasetMyLabel(Dataset):\n",
    "    \n",
    "    def __init__(self,imageFolderDataset,transform=None,should_invert=True):\n",
    "        self.imageFolderDataset = imageFolderDataset    \n",
    "        self.transform = transform\n",
    "        self.should_invert = should_invert\n",
    "        \n",
    "    def __getitem__(self,index):\n",
    "        img0_tuple = self.imageFolderDataset.imgs[index]#random.choice(self.imageFolderDataset.imgs)\n",
    "\n",
    "        img0 = Image.open(img0_tuple[0])\n",
    "        img0 = img0.convert(\"L\")\n",
    "        if self.transform is not None:\n",
    "            img0 = self.transform(img0)        \n",
    "        return img0, torch.from_numpy(np.array([int(img0_tuple[1])],dtype=np.int32))\n",
    "    \n",
    "    def __len__(self):\n",
    "        return len(self.imageFolderDataset.imgs)\n",
    "\n"
   ]
  },
  {
   "cell_type": "code",
   "execution_count": null,
   "metadata": {
    "id": "kxACCQs_tMbD"
   },
   "outputs": [],
   "source": [
    "folder_dataset = dset.ImageFolder(root=Config.training_dir)"
   ]
  },
  {
   "cell_type": "code",
   "execution_count": null,
   "metadata": {
    "id": "kqsQZIBjtVeb"
   },
   "outputs": [],
   "source": [
    "siamese_dataset = SiameseNetworkDataset(imageFolderDataset=folder_dataset,\n",
    "                                        transform=transforms.Compose([transforms.CenterCrop((50,50)),\n",
    "                                                                      transforms.ToTensor(),\n",
    "#                                                                       transforms.Normalize((0.5), (0.5))\n",
    "                                                                      ])\n",
    "                                       ,should_invert=False)"
   ]
  },
  {
   "cell_type": "code",
   "execution_count": null,
   "metadata": {
    "colab": {
     "base_uri": "https://localhost:8080/",
     "height": 135
    },
    "id": "pHo8bX8ItXlL",
    "outputId": "46198e2a-f2ed-4e61-af5b-44ea81d4fcab"
   },
   "outputs": [
    {
     "data": {
      "image/png": "[encoded data removed]",
      "text/plain": [
       "<Figure size 432x288 with 1 Axes>"
      ]
     },
     "metadata": {
      "tags": []
     },
     "output_type": "display_data"
    },
    {
     "name": "stdout",
     "output_type": "stream",
     "text": [
      "(2, 1, 50, 50)\n"
     ]
    }
   ],
   "source": [
    "vis_dataloader = DataLoader(siamese_dataset,\n",
    "                        shuffle=True,\n",
    "                        num_workers=0,\n",
    "                        batch_size=2)\n",
    "dataiter = iter(vis_dataloader)\n",
    "\n",
    "\n",
    "example_batch = next(dataiter)\n",
    "concatenated = torch.cat((example_batch[0],example_batch[1]),0)\n",
    "imshow(torchvision.utils.make_grid(concatenated))\n",
    "print(example_batch[1].numpy().shape)\n"
   ]
  },
  {
   "cell_type": "code",
   "execution_count": null,
   "metadata": {
    "id": "NDUSH_aOtaOE"
   },
   "outputs": [],
   "source": [
    "\n",
    "\n",
    "class SiameseNetwork(nn.Module):\n",
    "    def __init__(self):\n",
    "        super(SiameseNetwork, self).__init__()\n",
    "        self.cnn1 = nn.Sequential(\n",
    "            nn.ReflectionPad2d(1),\n",
    "            nn.Conv2d(1, 64, kernel_size=3),\n",
    "            nn.ReLU(inplace=True),\n",
    "            nn.BatchNorm2d(64),\n",
    "            \n",
    "            \n",
    "            nn.ReflectionPad2d(1),\n",
    "            nn.Conv2d(64, 32, kernel_size=3),\n",
    "            nn.ReLU(inplace=True),\n",
    "            nn.BatchNorm2d(32),\n",
    "\n",
    "            \n",
    "            nn.ReflectionPad2d(1),\n",
    "            nn.Conv2d(32, 16, kernel_size=3),\n",
    "            nn.ReLU(inplace=True),\n",
    "            nn.BatchNorm2d(16),\n",
    "            \n",
    "            nn.ReflectionPad2d(1),\n",
    "            nn.Conv2d(16, 8, kernel_size=3),\n",
    "            nn.ReLU(inplace=True),\n",
    "            nn.BatchNorm2d(8),\n",
    "\n",
    "\n",
    "            nn.ReflectionPad2d(1),\n",
    "            nn.Conv2d(8, 8, kernel_size=3),\n",
    "            nn.ReLU(inplace=True),\n",
    "            nn.BatchNorm2d(8),\n",
    "\n",
    "\n",
    "        )\n",
    "\n",
    "        self.fc1 = nn.Sequential(\n",
    "            nn.Linear(8*50*50, 500),\n",
    "            nn.ReLU(inplace=True),\n",
    "\n",
    "            nn.Linear(500, 500),\n",
    "            nn.ReLU(inplace=True),\n",
    "\n",
    "            nn.Linear(500, 4))\n",
    "\n",
    "    def forward_once(self, x):\n",
    "        output = self.cnn1(x)\n",
    "        output = output.view(output.size()[0], -1)\n",
    "        output = self.fc1(output)\n",
    "        return output\n",
    "\n",
    "    def forward(self, input1, input2=None):\n",
    "        output1 = self.forward_once(input1)\n",
    "        if input2 is None:\n",
    "          return output1\n",
    "        output2 = self.forward_once(input2)\n",
    "        return output1, output2\n",
    "\n"
   ]
  },
  {
   "cell_type": "code",
   "execution_count": null,
   "metadata": {
    "id": "HXfLyjw5txxb"
   },
   "outputs": [],
   "source": [
    "class ContrastiveLoss(torch.nn.Module):\n",
    "    \"\"\"\n",
    "    Contrastive loss function.\n",
    "    Based on: http://yann.lecun.com/exdb/publis/pdf/hadsell-chopra-lecun-06.pdf\n",
    "    \"\"\"\n",
    "\n",
    "    def __init__(self, margin=2.0):\n",
    "        super(ContrastiveLoss, self).__init__()\n",
    "        self.margin = margin\n",
    "\n",
    "    def forward(self, output1, output2, label):\n",
    "        euclidean_distance = F.pairwise_distance(output1, output2, keepdim = True)\n",
    "        loss_contrastive = torch.mean((1-label) * torch.pow(euclidean_distance, 2) +\n",
    "                                      (label) * torch.pow(torch.clamp(self.margin - euclidean_distance, min=0.0), 2))\n",
    "\n",
    "\n",
    "        return loss_contrastive"
   ]
  },
  {
   "cell_type": "code",
   "execution_count": null,
   "metadata": {
    "id": "ilOApY3_tz19"
   },
   "outputs": [],
   "source": [
    "device = torch.device(\"cuda\" if torch.cuda.is_available() else \"cpu\")"
   ]
  },
  {
   "cell_type": "code",
   "execution_count": null,
   "metadata": {
    "id": "F8WAxZqUt1o0"
   },
   "outputs": [],
   "source": [
    "train_dataloader = DataLoader(siamese_dataset,\n",
    "                        shuffle=True,\n",
    "                        num_workers=8,\n",
    "                        batch_size=Config.train_batch_size)"
   ]
  },
  {
   "cell_type": "code",
   "execution_count": null,
   "metadata": {
    "id": "NvMpZPQ9t4t8"
   },
   "outputs": [],
   "source": [
    "net = SiameseNetwork()\n",
    "net.to(device)\n",
    "criterion = ContrastiveLoss()\n",
    "optimizer = optim.Adam(net.parameters(),lr = 0.0005 )"
   ]
  },
  {
   "cell_type": "code",
   "execution_count": null,
   "metadata": {
    "id": "xxbbm5Zmt6Qw"
   },
   "outputs": [],
   "source": [
    "counter = []\n",
    "loss_history = [] \n",
    "iteration_number= 0\n"
   ]
  },
  {
   "cell_type": "code",
   "execution_count": null,
   "metadata": {
    "colab": {
     "base_uri": "https://localhost:8080/",
     "height": 1000
    },
    "id": "9x_IkzTjt7wb",
    "outputId": "3c5379a5-5f1e-4162-af14-fd4f71aaf431"
   },
   "outputs": [
    {
     "name": "stdout",
     "output_type": "stream",
     "text": [
      "Epoch number 0\n",
      " Current loss 1.4941354990005493\n",
      "\n",
      "Epoch number 0\n",
      " Current loss 0.908789336681366\n",
      "\n",
      "Epoch number 1\n",
      " Current loss 0.7956418991088867\n",
      "\n",
      "Epoch number 1\n",
      " Current loss 0.6500457525253296\n",
      "\n",
      "Epoch number 2\n",
      " Current loss 0.6958026885986328\n",
      "\n",
      "Epoch number 2\n",
      " Current loss 0.8482621908187866\n",
      "\n",
      "Epoch number 3\n",
      " Current loss 0.7582898736000061\n",
      "\n",
      "Epoch number 3\n",
      " Current loss 0.8271788358688354\n",
      "\n",
      "Epoch number 4\n",
      " Current loss 0.6068379878997803\n",
      "\n",
      "Epoch number 4\n",
      " Current loss 0.5700281858444214\n",
      "\n",
      "Epoch number 5\n",
      " Current loss 0.708366870880127\n",
      "\n",
      "Epoch number 5\n",
      " Current loss 0.4616925120353699\n",
      "\n",
      "Epoch number 6\n",
      " Current loss 0.4980311393737793\n",
      "\n",
      "Epoch number 6\n",
      " Current loss 0.5247236490249634\n",
      "\n",
      "Epoch number 7\n",
      " Current loss 0.7737020254135132\n",
      "\n",
      "Epoch number 7\n",
      " Current loss 0.42703351378440857\n",
      "\n",
      "Epoch number 8\n",
      " Current loss 0.25617480278015137\n",
      "\n",
      "Epoch number 8\n",
      " Current loss 0.17931430041790009\n",
      "\n",
      "Epoch number 9\n",
      " Current loss 0.20972110331058502\n",
      "\n",
      "Epoch number 9\n",
      " Current loss 0.2080003172159195\n",
      "\n",
      "Epoch number 10\n",
      " Current loss 0.1706506311893463\n",
      "\n",
      "Epoch number 10\n",
      " Current loss 0.16856572031974792\n",
      "\n",
      "Epoch number 11\n",
      " Current loss 0.14141955971717834\n",
      "\n",
      "Epoch number 11\n",
      " Current loss 0.07920385897159576\n",
      "\n",
      "Epoch number 12\n",
      " Current loss 0.06429684162139893\n",
      "\n",
      "Epoch number 12\n",
      " Current loss 0.07502490282058716\n",
      "\n",
      "Epoch number 13\n",
      " Current loss 0.0409163199365139\n",
      "\n",
      "Epoch number 13\n",
      " Current loss 0.04483547806739807\n",
      "\n",
      "Epoch number 14\n",
      " Current loss 0.04935735836625099\n",
      "\n",
      "Epoch number 14\n",
      " Current loss 0.04066546633839607\n",
      "\n",
      "Epoch number 15\n",
      " Current loss 0.024412568658590317\n",
      "\n",
      "Epoch number 15\n",
      " Current loss 0.046913422644138336\n",
      "\n",
      "Epoch number 16\n",
      " Current loss 0.027774302288889885\n",
      "\n",
      "Epoch number 16\n",
      " Current loss 0.015084156766533852\n",
      "\n",
      "Epoch number 17\n",
      " Current loss 0.01654968410730362\n",
      "\n",
      "Epoch number 17\n",
      " Current loss 0.020577656105160713\n",
      "\n",
      "Epoch number 18\n",
      " Current loss 0.018330924212932587\n",
      "\n",
      "Epoch number 18\n",
      " Current loss 0.012061573565006256\n",
      "\n",
      "Epoch number 19\n",
      " Current loss 0.0070566534996032715\n",
      "\n",
      "Epoch number 19\n",
      " Current loss 0.009418122470378876\n",
      "\n"
     ]
    },
    {
     "data": {
      "image/png": "[encoded data removed]",
      "text/plain": [
       "<Figure size 432x288 with 1 Axes>"
      ]
     },
     "metadata": {
      "tags": []
     },
     "output_type": "display_data"
    }
   ],
   "source": [
    "for epoch in range(0,Config.train_number_epochs):\n",
    "    for i, data in enumerate(train_dataloader,0):\n",
    "        img0, img1 , label = data\n",
    "        img0, img1 , label = img0.to(device), img1.to(device) , label.to(device)\n",
    "        optimizer.zero_grad()\n",
    "        output1,output2 = net(img0,img1)\n",
    "        loss_contrastive = criterion(output1,output2,label)\n",
    "        loss_contrastive.backward()\n",
    "        optimizer.step()\n",
    "        if i %10 == 0 :\n",
    "            print(\"Epoch number {}\\n Current loss {}\\n\".format(epoch,loss_contrastive.item()))\n",
    "            iteration_number +=10\n",
    "            counter.append(iteration_number)\n",
    "            loss_history.append(loss_contrastive.item())\n",
    "show_plot(counter,loss_history)"
   ]
  },
  {
   "cell_type": "code",
   "execution_count": null,
   "metadata": {
    "colab": {
     "base_uri": "https://localhost:8080/",
     "height": 286
    },
    "id": "NHxaYpVnt_6j",
    "outputId": "72b9c1e8-ead6-4a08-edb7-5919dc2af786"
   },
   "outputs": [
    {
     "name": "stderr",
     "output_type": "stream",
     "text": [
      "/usr/local/lib/python3.6/dist-packages/torch/serialization.py:292: UserWarning: Couldn't retrieve source code for container of type SiameseNetwork. It won't be checked for correctness upon loading.\n",
      "  \"type \" + obj.__name__ + \". It won't be checked \"\n",
      "/usr/local/lib/python3.6/dist-packages/torch/serialization.py:292: UserWarning: Couldn't retrieve source code for container of type Sequential. It won't be checked for correctness upon loading.\n",
      "  \"type \" + obj.__name__ + \". It won't be checked \"\n",
      "/usr/local/lib/python3.6/dist-packages/torch/serialization.py:292: UserWarning: Couldn't retrieve source code for container of type ReflectionPad2d. It won't be checked for correctness upon loading.\n",
      "  \"type \" + obj.__name__ + \". It won't be checked \"\n",
      "/usr/local/lib/python3.6/dist-packages/torch/serialization.py:292: UserWarning: Couldn't retrieve source code for container of type Conv2d. It won't be checked for correctness upon loading.\n",
      "  \"type \" + obj.__name__ + \". It won't be checked \"\n",
      "/usr/local/lib/python3.6/dist-packages/torch/serialization.py:292: UserWarning: Couldn't retrieve source code for container of type ReLU. It won't be checked for correctness upon loading.\n",
      "  \"type \" + obj.__name__ + \". It won't be checked \"\n",
      "/usr/local/lib/python3.6/dist-packages/torch/serialization.py:292: UserWarning: Couldn't retrieve source code for container of type BatchNorm2d. It won't be checked for correctness upon loading.\n",
      "  \"type \" + obj.__name__ + \". It won't be checked \"\n",
      "/usr/local/lib/python3.6/dist-packages/torch/serialization.py:292: UserWarning: Couldn't retrieve source code for container of type Linear. It won't be checked for correctness upon loading.\n",
      "  \"type \" + obj.__name__ + \". It won't be checked \"\n"
     ]
    }
   ],
   "source": [
    "#torch.save(net, 'siam-1.pth')"
   ]
  },
  {
   "cell_type": "code",
   "execution_count": null,
   "metadata": {
    "id": "3D4pDQx6A_Gs"
   },
   "outputs": [],
   "source": [
    "folder_dataset_test = dset.ImageFolder(root=Config.training_dir)\n",
    "siamese_dataset = SiameseNetworkDatasetMyTest(imageFolderDataset=folder_dataset_test,\n",
    "                                        transform=transforms.Compose([transforms.CenterCrop((50,50)),\n",
    "                                                                      transforms.ToTensor()\n",
    "                                                                      ])\n",
    "                                       ,should_invert=False)\n",
    "dataloader = DataLoader(siamese_dataset,num_workers=1,batch_size=1,shuffle=False)\n",
    "dataiter = iter(dataloader)\n",
    "# print(len(dataloader))\n",
    "training_embedding = []\n",
    "for i in range(len(dataloader)):\n",
    "  x0,label_test= next(dataiter)\n",
    "  label_test = label_test.cuda()\n",
    "  label_test = (label_test.tolist())[0][0]\n",
    "  x0 = x0.cuda() \n",
    "  output1 = net(Variable(x0))\n",
    "  training_embedding.append([output1.cpu().detach().numpy().tolist()[0],label_test])\n",
    "# print(training_embedding)\n",
    "with open('train_embedding_new.pkl','wb') as f:\n",
    "  pickle.dump(training_embedding, f)\n",
    "  \n",
    "with open('train_embedding_new.pkl','rb') as f:\n",
    "  l = pickle.load(f)"
   ]
  },
  {
   "cell_type": "code",
   "execution_count": null,
   "metadata": {
    "id": "mw9tzb5YAw9B"
   },
   "outputs": [],
   "source": [
    "with open('train_embedding_new.pkl','rb') as f:\n",
    "  l = pickle.load(f)"
   ]
  },
  {
   "cell_type": "code",
   "execution_count": null,
   "metadata": {
    "colab": {
     "base_uri": "https://localhost:8080/",
     "height": 35
    },
    "id": "uV0Qz3Ueu1Lc",
    "outputId": "c4a87372-1f49-4201-fd9b-336a8d9db1ad"
   },
   "outputs": [
    {
     "name": "stdout",
     "output_type": "stream",
     "text": [
      "0.13932839815147818\n"
     ]
    }
   ],
   "source": [
    "a = np.array(l[0][0])\n",
    "b = np.array(l[1][0])\n",
    "\n",
    "dist = np.linalg.norm(a-b)\n",
    "print(dist)"
   ]
  },
  {
   "cell_type": "code",
   "execution_count": null,
   "metadata": {
    "id": "glLlOp4su7cw"
   },
   "outputs": [],
   "source": [
    "k = 50"
   ]
  },
  {
   "cell_type": "code",
   "execution_count": null,
   "metadata": {
    "id": "H3Yn84dru_Sn"
   },
   "outputs": [],
   "source": [
    "import operator\n",
    "def getResponse(neighbors):\n",
    "\t  classVotes = {}\n",
    "#     print(neighbors)\n",
    "\t  for x in range(len(neighbors)):\n",
    "\t\t  response = neighbors[x][1]\n",
    "\t\t  if response in classVotes:\n",
    "\t\t\t  classVotes[response] += 1\n",
    "\t\t  else:\n",
    "\t\t\t  classVotes[response] = 1\n",
    "\t  sortedVotes = sorted(classVotes.items(), key=operator.itemgetter(1), reverse=True)\n",
    "\t  return sortedVotes[0][0]"
   ]
  },
  {
   "cell_type": "code",
   "execution_count": null,
   "metadata": {
    "colab": {
     "base_uri": "https://localhost:8080/",
     "height": 70
    },
    "id": "Dp0iLdEZvBuK",
    "outputId": "8ddbf63d-86d2-48d0-9980-2fe89b40225a"
   },
   "outputs": [
    {
     "name": "stderr",
     "output_type": "stream",
     "text": [
      "  0%|          | 0/404 [00:00<?, ?it/s]"
     ]
    },
    {
     "name": "stdout",
     "output_type": "stream",
     "text": [
      "404\n"
     ]
    },
    {
     "name": "stderr",
     "output_type": "stream",
     "text": [
      "100%|██████████| 404/404 [02:34<00:00,  2.66it/s]"
     ]
    },
    {
     "name": "stdout",
     "output_type": "stream",
     "text": [
      "71.53465346534654\n"
     ]
    },
    {
     "name": "stderr",
     "output_type": "stream",
     "text": [
      "\n"
     ]
    }
   ],
   "source": [
    "folder_dataset_test = dset.ImageFolder(root=Config.custom_testing_dir)\n",
    "# folder_dataset_label = dset.ImageFolder(root=Config.custom_labeled_dir)\n",
    "siamese_dataset = SiameseNetworkDatasetMyTest(imageFolderDataset=folder_dataset_test,\n",
    "                                        transform=transforms.Compose([transforms.CenterCrop((50,50)),\n",
    "                                                                      transforms.ToTensor()\n",
    "                                                                      ])\n",
    "                                       ,should_invert=False)\n",
    "\n",
    "\n",
    "test_dataloader = DataLoader(siamese_dataset,num_workers=0,batch_size=1,shuffle=False)\n",
    "test_len = len(test_dataloader)\n",
    "print(test_len)\n",
    "test_dataiter = iter(test_dataloader)\n",
    "y_true = []\n",
    "prediction = []\n",
    "correct = 0\n",
    "for i in tqdm(range(test_len)):\n",
    "    x0,label_test= next(test_dataiter)\n",
    "    label_test = label_test.cuda()\n",
    "    label_test = (label_test.tolist())[0][0]\n",
    "    x0 = x0.cuda()\n",
    "    test_embedding = net(Variable(x0))\n",
    "    test_embedding = test_embedding.cpu().detach().numpy()\n",
    "    dist_list = [] \n",
    "    label_list = []\n",
    "    for j in range(len(l)):\n",
    "      train_embedding = l[j][0]\n",
    "      train_embedding = np.array(train_embedding)\n",
    "      train_label = l[j][1]\n",
    "      dist = np.linalg.norm(test_embedding-train_embedding)      \n",
    "      dist_list.append(dist)\n",
    "      label_list.append(train_label)\n",
    "#     print(dist_list, label_list)\n",
    "    zipped = zip(dist_list, label_list) \n",
    "    # Converting to list \n",
    "    zipped = list(zipped) \n",
    "    # Using sorted and lambda \n",
    "    final_list = sorted(zipped, key = lambda x: x[0]) \n",
    "    \n",
    "    predicted_label = getResponse(final_list[0:k])\n",
    "#     print(predicted_label, label_test)\n",
    "    if predicted_label == label_test:\n",
    "        correct += 1\n",
    "    prediction.append(predicted_label)\n",
    "    y_true.append(label_test)\n",
    "# print(len(y_true), len(prediction))    \n",
    "accuracy = correct*100.0/test_len\n",
    "print(accuracy)"
   ]
  },
  {
   "cell_type": "code",
   "execution_count": null,
   "metadata": {
    "colab": {
     "base_uri": "https://localhost:8080/",
     "height": 88
    },
    "id": "rZNa4uiUvEo_",
    "outputId": "e8d89833-d28a-4be1-a410-79bb22628dc1"
   },
   "outputs": [
    {
     "data": {
      "text/plain": [
       "array([[47,  1, 29, 26],\n",
       "       [ 0, 90,  9,  1],\n",
       "       [12,  1, 84,  3],\n",
       "       [29,  1,  3, 68]])"
      ]
     },
     "execution_count": 27,
     "metadata": {
      "tags": []
     },
     "output_type": "execute_result"
    }
   ],
   "source": [
    "confusion_matrix(y_true, prediction)\n",
    "\n"
   ]
  },
  {
   "cell_type": "code",
   "execution_count": null,
   "metadata": {
    "id": "TLDajcTEwF1F"
   },
   "outputs": [],
   "source": [
    "print(len(y_true),prediction)\n"
   ]
  },
  {
   "cell_type": "code",
   "execution_count": null,
   "metadata": {
    "id": "_9Gtwm0dwIcL"
   },
   "outputs": [],
   "source": []
  }
 ],
 "metadata": {
  "accelerator": "GPU",
  "colab": {
   "collapsed_sections": [],
   "name": "Siamese-newdata.ipynb",
   "provenance": []
  },
  "kernelspec": {
   "display_name": "Python 3",
   "language": "python",
   "name": "python3"
  },
  "language_info": {
   "codemirror_mode": {
    "name": "ipython",
    "version": 3
   },
   "file_extension": ".py",
   "mimetype": "text/x-python",
   "name": "python",
   "nbconvert_exporter": "python",
   "pygments_lexer": "ipython3",
   "version": "3.7.6"
  }
 },
 "nbformat": 4,
 "nbformat_minor": 4
}
