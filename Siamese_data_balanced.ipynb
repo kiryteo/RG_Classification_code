{
 "cells": [
  {
   "cell_type": "code",
   "execution_count": 1,
   "metadata": {
    "colab": {
     "base_uri": "https://localhost:8080/",
     "height": 34
    },
    "id": "lPAu45JujmVq",
    "outputId": "b3a9fa61-b25f-49bf-a31f-38c963da67c2"
   },
   "outputs": [
    {
     "name": "stdout",
     "output_type": "stream",
     "text": [
      "Mounted at /content/drive\n"
     ]
    }
   ],
   "source": [
    "from google.colab import drive\n",
    "drive.mount(\"/content/drive\")"
   ]
  },
  {
   "cell_type": "code",
   "execution_count": 2,
   "metadata": {
    "id": "6EMELZ15jyyW"
   },
   "outputs": [],
   "source": [
    "%matplotlib inline\n",
    "import pickle\n",
    "import torchvision\n",
    "import torchvision.datasets as dset\n",
    "import torchvision.transforms as transforms\n",
    "from torch.utils.data import DataLoader,Dataset\n",
    "import matplotlib.pyplot as plt\n",
    "import torchvision.utils\n",
    "import numpy as np\n",
    "import random\n",
    "from PIL import Image\n",
    "import torch\n",
    "from torch.autograd import Variable\n",
    "import PIL.ImageOps    \n",
    "import torch.nn as nn\n",
    "from torch import optim\n",
    "import torch.nn.functional as F\n",
    "from tqdm import tqdm\n",
    "from sklearn.metrics import confusion_matrix"
   ]
  },
  {
   "cell_type": "code",
   "execution_count": 3,
   "metadata": {
    "colab": {
     "base_uri": "https://localhost:8080/",
     "height": 34
    },
    "id": "Lt4Nh2YQj7yG",
    "outputId": "46f53448-fa6f-4d6a-8376-8c32668b06bf"
   },
   "outputs": [
    {
     "name": "stdout",
     "output_type": "stream",
     "text": [
      "/content/drive\n"
     ]
    }
   ],
   "source": [
    "%cd drive/My\\ Drive"
   ]
  },
  {
   "cell_type": "code",
   "execution_count": null,
   "metadata": {},
   "outputs": [],
   "source": [
    "%cd SiameseNets-experiments/"
   ]
  },
  {
   "cell_type": "code",
   "execution_count": 6,
   "metadata": {
    "id": "Axq_bIM1s7qR"
   },
   "outputs": [],
   "source": [
    "def imshow(img,text=None,should_save=False):\n",
    "    npimg = img.numpy()\n",
    "    plt.axis(\"off\")\n",
    "    if text:\n",
    "        plt.text(75, 8, text, style='italic',fontweight='bold',\n",
    "            bbox={'facecolor':'white', 'alpha':0.8, 'pad':10})\n",
    "    plt.imshow(np.transpose(npimg, (1, 2, 0)))\n",
    "    plt.show()    \n",
    "\n",
    "def show_plot(iteration,loss):\n",
    "    plt.plot(iteration,loss)\n",
    "    plt.show()"
   ]
  },
  {
   "cell_type": "code",
   "execution_count": 7,
   "metadata": {
    "id": "KeBmtXn4tDlJ"
   },
   "outputs": [],
   "source": [
    "class Config():\n",
    "    training_dir = \"./data/rg-balanced/train/\"\n",
    "    testing_dir = \"./data/rg-balanced/val/\"\n",
    "    custom_testing_dir = \"./data/rg-balanced/custom_testing/test\"\n",
    "    custom_labeled_dir = \"./data/rg-balanced/custom_testing/labeled\"\n",
    "    train_batch_size = 64\n",
    "    train_number_epochs = 20"
   ]
  },
  {
   "cell_type": "code",
   "execution_count": 8,
   "metadata": {
    "id": "0PsfA_6UtF43"
   },
   "outputs": [],
   "source": [
    "class SiameseNetworkDataset(Dataset):\n",
    "    \n",
    "    def __init__(self,imageFolderDataset,transform=None,should_invert=True):\n",
    "        self.imageFolderDataset = imageFolderDataset    \n",
    "        self.transform = transform\n",
    "        self.should_invert = should_invert\n",
    "        \n",
    "    def __getitem__(self,index):\n",
    "        img0_tuple = random.choice(self.imageFolderDataset.imgs)\n",
    "        #we need to make sure approx 50% of images are in the same class\n",
    "        should_get_same_class = random.randint(0,1) \n",
    "        if should_get_same_class:\n",
    "            while True:\n",
    "                #keep looping till the same class image is found\n",
    "                img1_tuple = random.choice(self.imageFolderDataset.imgs) \n",
    "#                 print(img1_tuple[0])\n",
    "                if img0_tuple[1]==img1_tuple[1]:\n",
    "                    break\n",
    "        else:\n",
    "            while True:\n",
    "                #keep looping till a different class image is found\n",
    "                \n",
    "                img1_tuple = random.choice(self.imageFolderDataset.imgs) \n",
    "                if img0_tuple[1] !=img1_tuple[1]:\n",
    "                    break\n",
    "\n",
    "        img0 = Image.open(img0_tuple[0])\n",
    "#         print(img0)\n",
    "        img1 = Image.open(img1_tuple[0])\n",
    "        img0 = img0.convert(\"L\")\n",
    "        img1 = img1.convert(\"L\")\n",
    "#         print(img0)\n",
    "        if self.should_invert:\n",
    "            img0 = PIL.ImageOps.invert(img0)\n",
    "            img1 = PIL.ImageOps.invert(img1)\n",
    "\n",
    "        if self.transform is not None:\n",
    "            img0 = self.transform(img0)\n",
    "            img1 = self.transform(img1)\n",
    "        \n",
    "        return img0, img1 , torch.from_numpy(np.array([int(img1_tuple[1]!=img0_tuple[1])],dtype=np.float32))\n",
    "    \n",
    "    def __len__(self):\n",
    "        return len(self.imageFolderDataset.imgs)"
   ]
  },
  {
   "cell_type": "code",
   "execution_count": 9,
   "metadata": {
    "id": "QuVraBuPtIJH"
   },
   "outputs": [],
   "source": [
    "class SiameseNetworkDatasetMyTest(Dataset):\n",
    "    \n",
    "    def __init__(self,imageFolderDataset,transform=None,should_invert=True):\n",
    "        self.imageFolderDataset = imageFolderDataset    \n",
    "        self.transform = transform\n",
    "        self.should_invert = should_invert\n",
    "        \n",
    "    def __getitem__(self,index):\n",
    "        img0_tuple = self.imageFolderDataset.imgs[index]#random.choice(self.imageFolderDataset.imgs)\n",
    "#         print(\"Image tuple 0 : \",img0_tuple)\n",
    "        img0 = Image.open(img0_tuple[0])\n",
    "        img0 = img0.convert(\"L\")\n",
    "        if self.transform is not None:\n",
    "            img0 = self.transform(img0)        \n",
    "        return img0, torch.from_numpy(np.array([int(img0_tuple[1])],dtype=np.int32))\n",
    "    \n",
    "    def __len__(self):\n",
    "        return len(self.imageFolderDataset.imgs)"
   ]
  },
  {
   "cell_type": "code",
   "execution_count": 10,
   "metadata": {
    "id": "knxrmPNctKqX"
   },
   "outputs": [],
   "source": [
    "class SiameseNetworkDatasetMyLabel(Dataset):\n",
    "    \n",
    "    def __init__(self,imageFolderDataset,transform=None,should_invert=True):\n",
    "        self.imageFolderDataset = imageFolderDataset    \n",
    "        self.transform = transform\n",
    "        self.should_invert = should_invert\n",
    "        \n",
    "    def __getitem__(self,index):\n",
    "        img0_tuple = self.imageFolderDataset.imgs[index]#random.choice(self.imageFolderDataset.imgs)\n",
    "#         print(\"Label: \",img0_tuple, img0_tuple[1])\n",
    "        img0 = Image.open(img0_tuple[0])\n",
    "        img0 = img0.convert(\"L\")\n",
    "        if self.transform is not None:\n",
    "            img0 = self.transform(img0)        \n",
    "        return img0, torch.from_numpy(np.array([int(img0_tuple[1])],dtype=np.int32))\n",
    "    \n",
    "    def __len__(self):\n",
    "        return len(self.imageFolderDataset.imgs)\n",
    "\n"
   ]
  },
  {
   "cell_type": "code",
   "execution_count": 11,
   "metadata": {
    "id": "kxACCQs_tMbD"
   },
   "outputs": [],
   "source": [
    "folder_dataset = dset.ImageFolder(root=Config.training_dir)"
   ]
  },
  {
   "cell_type": "code",
   "execution_count": 12,
   "metadata": {
    "id": "kqsQZIBjtVeb"
   },
   "outputs": [],
   "source": [
    "siamese_dataset = SiameseNetworkDataset(imageFolderDataset=folder_dataset,\n",
    "                                        transform=transforms.Compose([transforms.CenterCrop((50,50)),\n",
    "                                                                      transforms.ToTensor(),\n",
    "#                                                                       transforms.Normalize((0.5), (0.5))\n",
    "                                                                      ])\n",
    "                                       ,should_invert=False)"
   ]
  },
  {
   "cell_type": "code",
   "execution_count": 13,
   "metadata": {
    "colab": {
     "base_uri": "https://localhost:8080/",
     "height": 134
    },
    "id": "pHo8bX8ItXlL",
    "outputId": "e906888d-bef5-4d09-ae48-d366f80a8134"
   },
   "outputs": [
    {
     "data": {
      "image/png": "[encoded data removed]",
      "text/plain": [
       "<Figure size 432x288 with 1 Axes>"
      ]
     },
     "metadata": {
      "needs_background": "light",
      "tags": []
     },
     "output_type": "display_data"
    },
    {
     "name": "stdout",
     "output_type": "stream",
     "text": [
      "(2, 1, 50, 50)\n"
     ]
    }
   ],
   "source": [
    "vis_dataloader = DataLoader(siamese_dataset,\n",
    "                        shuffle=True,\n",
    "                        num_workers=0,\n",
    "                        batch_size=2)\n",
    "dataiter = iter(vis_dataloader)\n",
    "\n",
    "\n",
    "example_batch = next(dataiter)\n",
    "concatenated = torch.cat((example_batch[0],example_batch[1]),0)\n",
    "imshow(torchvision.utils.make_grid(concatenated))\n",
    "print(example_batch[1].numpy().shape)\n"
   ]
  },
  {
   "cell_type": "code",
   "execution_count": 14,
   "metadata": {
    "id": "NDUSH_aOtaOE"
   },
   "outputs": [],
   "source": [
    "\n",
    "\n",
    "class SiameseNetwork(nn.Module):\n",
    "    def __init__(self):\n",
    "        super(SiameseNetwork, self).__init__()\n",
    "        self.cnn1 = nn.Sequential(\n",
    "            nn.ReflectionPad2d(1),\n",
    "            nn.Conv2d(1, 64, kernel_size=3),\n",
    "            nn.ReLU(inplace=True),\n",
    "            nn.BatchNorm2d(64),\n",
    "            \n",
    "            \n",
    "            nn.ReflectionPad2d(1),\n",
    "            nn.Conv2d(64, 32, kernel_size=3),\n",
    "            nn.ReLU(inplace=True),\n",
    "            nn.BatchNorm2d(32),\n",
    "\n",
    "            \n",
    "            nn.ReflectionPad2d(1),\n",
    "            nn.Conv2d(32, 16, kernel_size=3),\n",
    "            nn.ReLU(inplace=True),\n",
    "            nn.BatchNorm2d(16),\n",
    "            \n",
    "            nn.ReflectionPad2d(1),\n",
    "            nn.Conv2d(16, 8, kernel_size=3),\n",
    "            nn.ReLU(inplace=True),\n",
    "            nn.BatchNorm2d(8),\n",
    "\n",
    "\n",
    "            nn.ReflectionPad2d(1),\n",
    "            nn.Conv2d(8, 8, kernel_size=3),\n",
    "            nn.ReLU(inplace=True),\n",
    "            nn.BatchNorm2d(8),\n",
    "\n",
    "\n",
    "        )\n",
    "\n",
    "        self.fc1 = nn.Sequential(\n",
    "            nn.Linear(8*50*50, 500),\n",
    "            nn.ReLU(inplace=True),\n",
    "\n",
    "            nn.Linear(500, 500),\n",
    "            nn.ReLU(inplace=True),\n",
    "\n",
    "            nn.Linear(500, 4))\n",
    "\n",
    "    def forward_once(self, x):\n",
    "        output = self.cnn1(x)\n",
    "        output = output.view(output.size()[0], -1)\n",
    "        output = self.fc1(output)\n",
    "        return output\n",
    "\n",
    "    def forward(self, input1, input2=None):\n",
    "        output1 = self.forward_once(input1)\n",
    "        if input2 is None:\n",
    "          return output1\n",
    "        output2 = self.forward_once(input2)\n",
    "        return output1, output2\n",
    "\n"
   ]
  },
  {
   "cell_type": "code",
   "execution_count": 15,
   "metadata": {
    "id": "HXfLyjw5txxb"
   },
   "outputs": [],
   "source": [
    "class ContrastiveLoss(torch.nn.Module):\n",
    "    \"\"\"\n",
    "    Contrastive loss function.\n",
    "    Based on: http://yann.lecun.com/exdb/publis/pdf/hadsell-chopra-lecun-06.pdf\n",
    "    \"\"\"\n",
    "\n",
    "    def __init__(self, margin=2.0):\n",
    "        super(ContrastiveLoss, self).__init__()\n",
    "        self.margin = margin\n",
    "\n",
    "    def forward(self, output1, output2, label):\n",
    "        euclidean_distance = F.pairwise_distance(output1, output2, keepdim = True)\n",
    "        loss_contrastive = torch.mean((1-label) * torch.pow(euclidean_distance, 2) +\n",
    "                                      (label) * torch.pow(torch.clamp(self.margin - euclidean_distance, min=0.0), 2))\n",
    "\n",
    "\n",
    "        return loss_contrastive"
   ]
  },
  {
   "cell_type": "code",
   "execution_count": 16,
   "metadata": {
    "id": "ilOApY3_tz19"
   },
   "outputs": [],
   "source": [
    "device = torch.device(\"cuda\" if torch.cuda.is_available() else \"cpu\")"
   ]
  },
  {
   "cell_type": "code",
   "execution_count": 17,
   "metadata": {
    "id": "F8WAxZqUt1o0"
   },
   "outputs": [],
   "source": [
    "train_dataloader = DataLoader(siamese_dataset,\n",
    "                        shuffle=True,\n",
    "                        num_workers=8,\n",
    "                        batch_size=Config.train_batch_size)"
   ]
  },
  {
   "cell_type": "code",
   "execution_count": 18,
   "metadata": {
    "id": "NvMpZPQ9t4t8"
   },
   "outputs": [],
   "source": [
    "net = SiameseNetwork()\n",
    "net.to(device)\n",
    "criterion = ContrastiveLoss()\n",
    "optimizer = optim.Adam(net.parameters(),lr = 0.0005 )"
   ]
  },
  {
   "cell_type": "code",
   "execution_count": 19,
   "metadata": {
    "id": "xxbbm5Zmt6Qw"
   },
   "outputs": [],
   "source": [
    "counter = []\n",
    "loss_history = [] \n",
    "iteration_number= 0\n"
   ]
  },
  {
   "cell_type": "code",
   "execution_count": 20,
   "metadata": {
    "colab": {
     "base_uri": "https://localhost:8080/",
     "height": 1000
    },
    "id": "9x_IkzTjt7wb",
    "outputId": "ddc17bb5-aacf-4f72-f239-e023b85aaf9c"
   },
   "outputs": [
    {
     "name": "stdout",
     "output_type": "stream",
     "text": [
      "Epoch number 0\n",
      " Current loss 1.535538673400879\n",
      "\n",
      "Epoch number 0\n",
      " Current loss 0.7785950303077698\n",
      "\n",
      "Epoch number 0\n",
      " Current loss 0.6384725570678711\n",
      "\n",
      "Epoch number 1\n",
      " Current loss 0.6142445802688599\n",
      "\n",
      "Epoch number 1\n",
      " Current loss 0.829912543296814\n",
      "\n",
      "Epoch number 1\n",
      " Current loss 0.6562427282333374\n",
      "\n",
      "Epoch number 2\n",
      " Current loss 0.5074901580810547\n",
      "\n",
      "Epoch number 2\n",
      " Current loss 0.4253218472003937\n",
      "\n",
      "Epoch number 2\n",
      " Current loss 0.6422855257987976\n",
      "\n",
      "Epoch number 3\n",
      " Current loss 0.49142909049987793\n",
      "\n",
      "Epoch number 3\n",
      " Current loss 0.5528755187988281\n",
      "\n",
      "Epoch number 3\n",
      " Current loss 0.3719410300254822\n",
      "\n",
      "Epoch number 4\n",
      " Current loss 0.3466765284538269\n",
      "\n",
      "Epoch number 4\n",
      " Current loss 0.306918740272522\n",
      "\n",
      "Epoch number 4\n",
      " Current loss 0.3084432780742645\n",
      "\n",
      "Epoch number 5\n",
      " Current loss 0.2633016109466553\n",
      "\n",
      "Epoch number 5\n",
      " Current loss 0.23517654836177826\n",
      "\n",
      "Epoch number 5\n",
      " Current loss 0.2814372479915619\n",
      "\n",
      "Epoch number 6\n",
      " Current loss 0.28428491950035095\n",
      "\n",
      "Epoch number 6\n",
      " Current loss 0.18068808317184448\n",
      "\n",
      "Epoch number 6\n",
      " Current loss 0.11091490089893341\n",
      "\n",
      "Epoch number 7\n",
      " Current loss 0.09801778197288513\n",
      "\n",
      "Epoch number 7\n",
      " Current loss 0.15629848837852478\n",
      "\n",
      "Epoch number 7\n",
      " Current loss 0.0701712891459465\n",
      "\n",
      "Epoch number 8\n",
      " Current loss 0.08002164214849472\n",
      "\n",
      "Epoch number 8\n",
      " Current loss 0.0698123499751091\n",
      "\n",
      "Epoch number 8\n",
      " Current loss 0.11323140561580658\n",
      "\n",
      "Epoch number 9\n",
      " Current loss 0.04466347396373749\n",
      "\n",
      "Epoch number 9\n",
      " Current loss 0.07793527841567993\n",
      "\n",
      "Epoch number 9\n",
      " Current loss 0.09028737246990204\n",
      "\n",
      "Epoch number 10\n",
      " Current loss 0.06907181441783905\n",
      "\n",
      "Epoch number 10\n",
      " Current loss 0.05207715556025505\n",
      "\n",
      "Epoch number 10\n",
      " Current loss 0.041759882122278214\n",
      "\n",
      "Epoch number 11\n",
      " Current loss 0.01891087368130684\n",
      "\n",
      "Epoch number 11\n",
      " Current loss 0.04074879735708237\n",
      "\n",
      "Epoch number 11\n",
      " Current loss 0.020412612706422806\n",
      "\n",
      "Epoch number 12\n",
      " Current loss 0.013601308688521385\n",
      "\n",
      "Epoch number 12\n",
      " Current loss 0.007447578012943268\n",
      "\n",
      "Epoch number 12\n",
      " Current loss 0.017303355038166046\n",
      "\n",
      "Epoch number 13\n",
      " Current loss 0.015306377783417702\n",
      "\n",
      "Epoch number 13\n",
      " Current loss 0.02225133590400219\n",
      "\n",
      "Epoch number 13\n",
      " Current loss 0.009067034348845482\n",
      "\n",
      "Epoch number 14\n",
      " Current loss 0.014881987124681473\n",
      "\n",
      "Epoch number 14\n",
      " Current loss 0.009691374376416206\n",
      "\n",
      "Epoch number 14\n",
      " Current loss 0.0052038757130503654\n",
      "\n",
      "Epoch number 15\n",
      " Current loss 0.009048335254192352\n",
      "\n",
      "Epoch number 15\n",
      " Current loss 0.005158960819244385\n",
      "\n",
      "Epoch number 15\n",
      " Current loss 0.004702648613601923\n",
      "\n",
      "Epoch number 16\n",
      " Current loss 0.005600603297352791\n",
      "\n",
      "Epoch number 16\n",
      " Current loss 0.007504652254283428\n",
      "\n",
      "Epoch number 16\n",
      " Current loss 0.006265203468501568\n",
      "\n",
      "Epoch number 17\n",
      " Current loss 0.005694945342838764\n",
      "\n",
      "Epoch number 17\n",
      " Current loss 0.005757787264883518\n",
      "\n",
      "Epoch number 17\n",
      " Current loss 0.0047564636915922165\n",
      "\n",
      "Epoch number 18\n",
      " Current loss 0.006048227660357952\n",
      "\n",
      "Epoch number 18\n",
      " Current loss 0.007423567585647106\n",
      "\n",
      "Epoch number 18\n",
      " Current loss 0.004805549513548613\n",
      "\n",
      "Epoch number 19\n",
      " Current loss 0.003273795126006007\n",
      "\n",
      "Epoch number 19\n",
      " Current loss 0.006761778611689806\n",
      "\n",
      "Epoch number 19\n",
      " Current loss 0.003609958104789257\n",
      "\n"
     ]
    },
    {
     "data": {
      "image/png": "[encoded data removed]",
      "text/plain": [
       "<Figure size 432x288 with 1 Axes>"
      ]
     },
     "metadata": {
      "needs_background": "light",
      "tags": []
     },
     "output_type": "display_data"
    }
   ],
   "source": [
    "for epoch in range(0,Config.train_number_epochs):\n",
    "    for i, data in enumerate(train_dataloader,0):\n",
    "        img0, img1 , label = data\n",
    "        img0, img1 , label = img0.to(device), img1.to(device) , label.to(device)\n",
    "        optimizer.zero_grad()\n",
    "        output1,output2 = net(img0,img1)\n",
    "        loss_contrastive = criterion(output1,output2,label)\n",
    "        loss_contrastive.backward()\n",
    "        optimizer.step()\n",
    "        if i %10 == 0 :\n",
    "            print(\"Epoch number {}\\n Current loss {}\\n\".format(epoch,loss_contrastive.item()))\n",
    "            iteration_number +=10\n",
    "            counter.append(iteration_number)\n",
    "            loss_history.append(loss_contrastive.item())\n",
    "show_plot(counter,loss_history)"
   ]
  },
  {
   "cell_type": "code",
   "execution_count": 21,
   "metadata": {
    "id": "NHxaYpVnt_6j"
   },
   "outputs": [],
   "source": [
    "torch.save(net, 'siam-2.pth')"
   ]
  },
  {
   "cell_type": "code",
   "execution_count": 22,
   "metadata": {
    "id": "3D4pDQx6A_Gs"
   },
   "outputs": [],
   "source": [
    "folder_dataset_test = dset.ImageFolder(root=Config.training_dir)\n",
    "siamese_dataset = SiameseNetworkDatasetMyTest(imageFolderDataset=folder_dataset_test,\n",
    "                                        transform=transforms.Compose([transforms.CenterCrop((50,50)),\n",
    "                                                                      transforms.ToTensor()\n",
    "                                                                      ])\n",
    "                                       ,should_invert=False)\n",
    "dataloader = DataLoader(siamese_dataset,num_workers=1,batch_size=1,shuffle=False)\n",
    "dataiter = iter(dataloader)\n",
    "# print(len(dataloader))\n",
    "training_embedding = []\n",
    "for i in range(len(dataloader)):\n",
    "  x0,label_test= next(dataiter)\n",
    "  label_test = label_test.cuda()\n",
    "  label_test = (label_test.tolist())[0][0]\n",
    "  x0 = x0.cuda() \n",
    "  output1 = net(Variable(x0))\n",
    "  training_embedding.append([output1.cpu().detach().numpy().tolist()[0],label_test])\n",
    "# print(training_embedding)\n",
    "with open('train_embedding_newb.pkl','wb') as f:\n",
    "  pickle.dump(training_embedding, f)\n",
    "  \n",
    "with open('train_embedding_newb.pkl','rb') as f:\n",
    "  l = pickle.load(f)"
   ]
  },
  {
   "cell_type": "code",
   "execution_count": 24,
   "metadata": {
    "id": "mw9tzb5YAw9B"
   },
   "outputs": [],
   "source": [
    "with open('train_embedding_newb.pkl','rb') as f:\n",
    "  l = pickle.load(f)"
   ]
  },
  {
   "cell_type": "code",
   "execution_count": 25,
   "metadata": {
    "colab": {
     "base_uri": "https://localhost:8080/",
     "height": 34
    },
    "id": "uV0Qz3Ueu1Lc",
    "outputId": "d6afdaac-4fca-47fc-e495-f3ac3090fb11"
   },
   "outputs": [
    {
     "name": "stdout",
     "output_type": "stream",
     "text": [
      "0.12613015398943636\n"
     ]
    }
   ],
   "source": [
    "a = np.array(l[0][0])\n",
    "b = np.array(l[1][0])\n",
    "\n",
    "dist = np.linalg.norm(a-b)\n",
    "print(dist)"
   ]
  },
  {
   "cell_type": "code",
   "execution_count": 26,
   "metadata": {
    "id": "glLlOp4su7cw"
   },
   "outputs": [],
   "source": [
    "k = 50"
   ]
  },
  {
   "cell_type": "code",
   "execution_count": 27,
   "metadata": {
    "id": "H3Yn84dru_Sn"
   },
   "outputs": [],
   "source": [
    "import operator\n",
    "def getResponse(neighbors):\n",
    "\t  classVotes = {}\n",
    "#     print(neighbors)\n",
    "\t  for x in range(len(neighbors)):\n",
    "\t\t  response = neighbors[x][1]\n",
    "\t\t  if response in classVotes:\n",
    "\t\t\t  classVotes[response] += 1\n",
    "\t\t  else:\n",
    "\t\t\t  classVotes[response] = 1\n",
    "\t  sortedVotes = sorted(classVotes.items(), key=operator.itemgetter(1), reverse=True)\n",
    "\t  return sortedVotes[0][0]"
   ]
  },
  {
   "cell_type": "code",
   "execution_count": 28,
   "metadata": {
    "colab": {
     "base_uri": "https://localhost:8080/",
     "height": 69
    },
    "id": "Dp0iLdEZvBuK",
    "outputId": "b656cfa5-1f21-44d8-963d-4ad0dbe9b261"
   },
   "outputs": [
    {
     "name": "stderr",
     "output_type": "stream",
     "text": [
      "  0%|          | 0/404 [00:00<?, ?it/s]"
     ]
    },
    {
     "name": "stdout",
     "output_type": "stream",
     "text": [
      "404\n"
     ]
    },
    {
     "name": "stderr",
     "output_type": "stream",
     "text": [
      "100%|██████████| 404/404 [02:10<00:00,  3.09it/s]"
     ]
    },
    {
     "name": "stdout",
     "output_type": "stream",
     "text": [
      "74.25742574257426\n"
     ]
    },
    {
     "name": "stderr",
     "output_type": "stream",
     "text": [
      "\n"
     ]
    }
   ],
   "source": [
    "folder_dataset_test = dset.ImageFolder(root=Config.custom_testing_dir)\n",
    "# folder_dataset_label = dset.ImageFolder(root=Config.custom_labeled_dir)\n",
    "siamese_dataset = SiameseNetworkDatasetMyTest(imageFolderDataset=folder_dataset_test,\n",
    "                                        transform=transforms.Compose([transforms.CenterCrop((50,50)),\n",
    "                                                                      transforms.ToTensor()\n",
    "                                                                      ])\n",
    "                                       ,should_invert=False)\n",
    "\n",
    "\n",
    "test_dataloader = DataLoader(siamese_dataset,num_workers=0,batch_size=1,shuffle=False)\n",
    "test_len = len(test_dataloader)\n",
    "print(test_len)\n",
    "test_dataiter = iter(test_dataloader)\n",
    "y_true = []\n",
    "prediction = []\n",
    "correct = 0\n",
    "for i in tqdm(range(test_len)):\n",
    "    x0,label_test= next(test_dataiter)\n",
    "    label_test = label_test.cuda()\n",
    "    label_test = (label_test.tolist())[0][0]\n",
    "    x0 = x0.cuda()\n",
    "    test_embedding = net(Variable(x0))\n",
    "    test_embedding = test_embedding.cpu().detach().numpy()\n",
    "    dist_list = [] \n",
    "    label_list = []\n",
    "    for j in range(len(l)):\n",
    "      train_embedding = l[j][0]\n",
    "      train_embedding = np.array(train_embedding)\n",
    "      train_label = l[j][1]\n",
    "      dist = np.linalg.norm(test_embedding-train_embedding)      \n",
    "      dist_list.append(dist)\n",
    "      label_list.append(train_label)\n",
    "#     print(dist_list, label_list)\n",
    "    zipped = zip(dist_list, label_list) \n",
    "    # Converting to list \n",
    "    zipped = list(zipped) \n",
    "    # Using sorted and lambda \n",
    "    final_list = sorted(zipped, key = lambda x: x[0]) \n",
    "    \n",
    "    predicted_label = getResponse(final_list[0:k])\n",
    "#     print(predicted_label, label_test)\n",
    "    if predicted_label == label_test:\n",
    "        correct += 1\n",
    "    prediction.append(predicted_label)\n",
    "    y_true.append(label_test)\n",
    "# print(len(y_true), len(prediction))    \n",
    "accuracy = correct*100.0/test_len\n",
    "print(accuracy)"
   ]
  },
  {
   "cell_type": "code",
   "execution_count": 29,
   "metadata": {
    "colab": {
     "base_uri": "https://localhost:8080/",
     "height": 86
    },
    "id": "rZNa4uiUvEo_",
    "outputId": "7b0bfa2f-3215-4edb-e779-645e94ad0764"
   },
   "outputs": [
    {
     "data": {
      "text/plain": [
       "array([[47,  1, 34, 21],\n",
       "       [ 0, 89,  9,  2],\n",
       "       [ 6,  0, 89,  5],\n",
       "       [24,  0,  2, 75]])"
      ]
     },
     "execution_count": 29,
     "metadata": {
      "tags": []
     },
     "output_type": "execute_result"
    }
   ],
   "source": [
    "confusion_matrix(y_true, prediction)\n",
    "\n"
   ]
  },
  {
   "cell_type": "code",
   "execution_count": null,
   "metadata": {
    "id": "TLDajcTEwF1F"
   },
   "outputs": [],
   "source": [
    "print(len(y_true),prediction)\n"
   ]
  },
  {
   "cell_type": "code",
   "execution_count": null,
   "metadata": {
    "id": "_9Gtwm0dwIcL"
   },
   "outputs": [],
   "source": []
  }
 ],
 "metadata": {
  "accelerator": "GPU",
  "colab": {
   "collapsed_sections": [],
   "name": "Siamese-newdata-balanced.ipynb",
   "provenance": []
  },
  "kernelspec": {
   "display_name": "Python 3",
   "language": "python",
   "name": "python3"
  },
  "language_info": {
   "codemirror_mode": {
    "name": "ipython",
    "version": 3
   },
   "file_extension": ".py",
   "mimetype": "text/x-python",
   "name": "python",
   "nbconvert_exporter": "python",
   "pygments_lexer": "ipython3",
   "version": "3.7.6"
  }
 },
 "nbformat": 4,
 "nbformat_minor": 4
}
